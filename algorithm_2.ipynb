{
 "cells": [
  {
   "cell_type": "markdown",
   "metadata": {},
   "source": [
    "# Algorithm 2"
   ]
  },
  {
   "cell_type": "markdown",
   "metadata": {},
   "source": [
    "### PART 1 -  \n",
    "#### Execute KMeans. \n",
    "Try to find automatticaly the 'elbow' - the best K results ( withour relating to the daily hours or to the number of resources).\n",
    "\n",
    "### PART 2 - \n",
    "#### Order The Clusters.\n",
    " * 2a- Index all datapoints (jobs) in a cluster with the same index, when indexing is according to the distance between the clusters.\n",
    " * 2b- Execute Shortest Path algorithm at each cluster, connect the cluster by the closest datapoints (jobs). (Index each datapoint with different index)"
   ]
  },
  {
   "cell_type": "code",
   "execution_count": 1,
   "metadata": {},
   "outputs": [],
   "source": [
    "import sys\n",
    "import numpy as np # used for scientific computing\\n\",\n",
    "import pandas as pd # used for data analysis and manipulation\\n\",\n",
    "import matplotlib.pyplot as plt # used for visualization and plotting\\n\",\n",
    "import matplotlib.cm as cm\n",
    "import math\n",
    "from sklearn.cluster import KMeans \n",
    "import heapq"
   ]
  },
  {
   "cell_type": "code",
   "execution_count": 2,
   "metadata": {},
   "outputs": [],
   "source": [
    "name_of_file = 'real_data'"
   ]
  },
  {
   "cell_type": "code",
   "execution_count": 3,
   "metadata": {},
   "outputs": [],
   "source": [
    "# read the data\n",
    "df = pd.read_excel(f'Data/{name_of_file}.xlsx')"
   ]
  },
  {
   "cell_type": "code",
   "execution_count": 4,
   "metadata": {},
   "outputs": [
    {
     "data": {
      "text/html": [
       "<div>\n",
       "<style scoped>\n",
       "    .dataframe tbody tr th:only-of-type {\n",
       "        vertical-align: middle;\n",
       "    }\n",
       "\n",
       "    .dataframe tbody tr th {\n",
       "        vertical-align: top;\n",
       "    }\n",
       "\n",
       "    .dataframe thead th {\n",
       "        text-align: right;\n",
       "    }\n",
       "</style>\n",
       "<table border=\"1\" class=\"dataframe\">\n",
       "  <thead>\n",
       "    <tr style=\"text-align: right;\">\n",
       "      <th></th>\n",
       "      <th>_</th>\n",
       "      <th>Id</th>\n",
       "      <th>AppointmentNumber</th>\n",
       "      <th>Latitude</th>\n",
       "      <th>Longitude</th>\n",
       "      <th>IDC_Index__c</th>\n",
       "    </tr>\n",
       "  </thead>\n",
       "  <tbody>\n",
       "    <tr>\n",
       "      <th>0</th>\n",
       "      <td>[ServiceAppointment]</td>\n",
       "      <td>08p4L000000lJU2QAM</td>\n",
       "      <td>SA-2548</td>\n",
       "      <td>19.477986</td>\n",
       "      <td>-99.179773</td>\n",
       "      <td>1</td>\n",
       "    </tr>\n",
       "    <tr>\n",
       "      <th>1</th>\n",
       "      <td>[ServiceAppointment]</td>\n",
       "      <td>08p4L000000lJU3QAM</td>\n",
       "      <td>SA-2549</td>\n",
       "      <td>19.477644</td>\n",
       "      <td>-99.180817</td>\n",
       "      <td>2</td>\n",
       "    </tr>\n",
       "    <tr>\n",
       "      <th>2</th>\n",
       "      <td>[ServiceAppointment]</td>\n",
       "      <td>08p4L000000lJU4QAM</td>\n",
       "      <td>SA-2550</td>\n",
       "      <td>19.477986</td>\n",
       "      <td>-99.179773</td>\n",
       "      <td>3</td>\n",
       "    </tr>\n",
       "    <tr>\n",
       "      <th>3</th>\n",
       "      <td>[ServiceAppointment]</td>\n",
       "      <td>08p4L000000lJU5QAM</td>\n",
       "      <td>SA-2551</td>\n",
       "      <td>19.477956</td>\n",
       "      <td>-99.180741</td>\n",
       "      <td>4</td>\n",
       "    </tr>\n",
       "    <tr>\n",
       "      <th>4</th>\n",
       "      <td>[ServiceAppointment]</td>\n",
       "      <td>08p4L000000lJU6QAM</td>\n",
       "      <td>SA-2552</td>\n",
       "      <td>19.477986</td>\n",
       "      <td>-99.179773</td>\n",
       "      <td>5</td>\n",
       "    </tr>\n",
       "    <tr>\n",
       "      <th>...</th>\n",
       "      <td>...</td>\n",
       "      <td>...</td>\n",
       "      <td>...</td>\n",
       "      <td>...</td>\n",
       "      <td>...</td>\n",
       "      <td>...</td>\n",
       "    </tr>\n",
       "    <tr>\n",
       "      <th>1495</th>\n",
       "      <td>[ServiceAppointment]</td>\n",
       "      <td>08p4L000000lJlvQAE</td>\n",
       "      <td>SA-3657</td>\n",
       "      <td>19.476123</td>\n",
       "      <td>-99.176299</td>\n",
       "      <td>1496</td>\n",
       "    </tr>\n",
       "    <tr>\n",
       "      <th>1496</th>\n",
       "      <td>[ServiceAppointment]</td>\n",
       "      <td>08p4L000000lJlxQAE</td>\n",
       "      <td>SA-3659</td>\n",
       "      <td>19.476011</td>\n",
       "      <td>-99.178650</td>\n",
       "      <td>1497</td>\n",
       "    </tr>\n",
       "    <tr>\n",
       "      <th>1497</th>\n",
       "      <td>[ServiceAppointment]</td>\n",
       "      <td>08p4L000000lJlwQAE</td>\n",
       "      <td>SA-3658</td>\n",
       "      <td>19.476033</td>\n",
       "      <td>-99.178646</td>\n",
       "      <td>1498</td>\n",
       "    </tr>\n",
       "    <tr>\n",
       "      <th>1498</th>\n",
       "      <td>[ServiceAppointment]</td>\n",
       "      <td>08p4L000000lJlyQAE</td>\n",
       "      <td>SA-3660</td>\n",
       "      <td>19.476055</td>\n",
       "      <td>-99.178641</td>\n",
       "      <td>1499</td>\n",
       "    </tr>\n",
       "    <tr>\n",
       "      <th>1499</th>\n",
       "      <td>[ServiceAppointment]</td>\n",
       "      <td>08p4L000000lJlzQAE</td>\n",
       "      <td>SA-3661</td>\n",
       "      <td>19.476234</td>\n",
       "      <td>-99.178967</td>\n",
       "      <td>1500</td>\n",
       "    </tr>\n",
       "  </tbody>\n",
       "</table>\n",
       "<p>1500 rows × 6 columns</p>\n",
       "</div>"
      ],
      "text/plain": [
       "                         _                  Id AppointmentNumber   Latitude  \\\n",
       "0     [ServiceAppointment]  08p4L000000lJU2QAM           SA-2548  19.477986   \n",
       "1     [ServiceAppointment]  08p4L000000lJU3QAM           SA-2549  19.477644   \n",
       "2     [ServiceAppointment]  08p4L000000lJU4QAM           SA-2550  19.477986   \n",
       "3     [ServiceAppointment]  08p4L000000lJU5QAM           SA-2551  19.477956   \n",
       "4     [ServiceAppointment]  08p4L000000lJU6QAM           SA-2552  19.477986   \n",
       "...                    ...                 ...               ...        ...   \n",
       "1495  [ServiceAppointment]  08p4L000000lJlvQAE           SA-3657  19.476123   \n",
       "1496  [ServiceAppointment]  08p4L000000lJlxQAE           SA-3659  19.476011   \n",
       "1497  [ServiceAppointment]  08p4L000000lJlwQAE           SA-3658  19.476033   \n",
       "1498  [ServiceAppointment]  08p4L000000lJlyQAE           SA-3660  19.476055   \n",
       "1499  [ServiceAppointment]  08p4L000000lJlzQAE           SA-3661  19.476234   \n",
       "\n",
       "      Longitude  IDC_Index__c  \n",
       "0    -99.179773             1  \n",
       "1    -99.180817             2  \n",
       "2    -99.179773             3  \n",
       "3    -99.180741             4  \n",
       "4    -99.179773             5  \n",
       "...         ...           ...  \n",
       "1495 -99.176299          1496  \n",
       "1496 -99.178650          1497  \n",
       "1497 -99.178646          1498  \n",
       "1498 -99.178641          1499  \n",
       "1499 -99.178967          1500  \n",
       "\n",
       "[1500 rows x 6 columns]"
      ]
     },
     "execution_count": 4,
     "metadata": {},
     "output_type": "execute_result"
    }
   ],
   "source": [
    "# verify the data\n",
    "df"
   ]
  },
  {
   "cell_type": "code",
   "execution_count": 5,
   "metadata": {},
   "outputs": [],
   "source": [
    "def plot(c): \n",
    "    plt.scatter(df['Latitude'], df['Longitude'], color=c)"
   ]
  },
  {
   "cell_type": "code",
   "execution_count": 6,
   "metadata": {},
   "outputs": [
    {
     "data": {
      "image/png": "[encoded data removed]",
      "text/plain": [
       "<Figure size 432x288 with 1 Axes>"
      ]
     },
     "metadata": {
      "needs_background": "light"
     },
     "output_type": "display_data"
    }
   ],
   "source": [
    "# map of the jobs\n",
    "plot('blue')"
   ]
  },
  {
   "cell_type": "code",
   "execution_count": 7,
   "metadata": {},
   "outputs": [],
   "source": [
    "# extract the relvent columns\n",
    "dataset = np.array(df[['Latitude', 'Longitude']])"
   ]
  },
  {
   "cell_type": "code",
   "execution_count": 8,
   "metadata": {},
   "outputs": [
    {
     "data": {
      "text/plain": [
       "array([[ 19.477986, -99.179773],\n",
       "       [ 19.477644, -99.180817],\n",
       "       [ 19.477986, -99.179773],\n",
       "       ...,\n",
       "       [ 19.476033, -99.178646],\n",
       "       [ 19.476055, -99.178641],\n",
       "       [ 19.476234, -99.178967]])"
      ]
     },
     "execution_count": 8,
     "metadata": {},
     "output_type": "execute_result"
    }
   ],
   "source": [
    "# verify the exctraction\n",
    "dataset"
   ]
  },
  {
   "cell_type": "markdown",
   "metadata": {},
   "source": [
    "# PART 1 - KMEANS"
   ]
  },
  {
   "cell_type": "code",
   "execution_count": 9,
   "metadata": {},
   "outputs": [],
   "source": [
    "# K to check for the KMeans\n",
    "Ks = [k for k in range(4, 150)]"
   ]
  },
  {
   "cell_type": "code",
   "execution_count": 10,
   "metadata": {},
   "outputs": [],
   "source": [
    "# execute KMeans for each K in Ks\n",
    "inertia_lst = []\n",
    "for k in Ks:\n",
    "    kmeans = KMeans(n_clusters=k, random_state=0)\n",
    "    # fit the data\n",
    "    _ = kmeans.fit_predict(dataset)\n",
    "    # save inertia\n",
    "    inertia_lst.append(kmeans.inertia_)"
   ]
  },
  {
   "cell_type": "code",
   "execution_count": 11,
   "metadata": {},
   "outputs": [
    {
     "data": {
      "text/plain": [
       "[<matplotlib.lines.Line2D at 0x1a4e763b220>]"
      ]
     },
     "execution_count": 11,
     "metadata": {},
     "output_type": "execute_result"
    },
    {
     "data": {
      "image/png": "[encoded data removed]",
      "text/plain": [
       "<Figure size 432x288 with 1 Axes>"
      ]
     },
     "metadata": {
      "needs_background": "light"
     },
     "output_type": "display_data"
    }
   ],
   "source": [
    "# plot inertia as function of number of clusers (k)\n",
    "plt.plot(Ks, inertia_lst, marker=11)"
   ]
  },
  {
   "cell_type": "markdown",
   "metadata": {},
   "source": [
    "finding the elbow is the method to find the best K. \n",
    "The solution is not optimal which means it is not return the best result any time.\n",
    "In contrast, the result will be always close to the truth and the small error may not affect on our results drastically."
   ]
  },
  {
   "cell_type": "code",
   "execution_count": 12,
   "metadata": {},
   "outputs": [],
   "source": [
    "# finding the elbow\n",
    "length = len(inertia_lst) - 1\n",
    "\n",
    "# delta_1: index=0 -> #cluster=2 -> best_k_idx=1\n",
    "delta_1 = [inertia_lst[i] - inertia_lst[i+1] for i in range(length)]\n",
    "\n",
    "# delta_2: index 0 -> #cluster=3 -> best_k_idx=2\n",
    "delta_2 = [delta_1[i] - delta_1[i+1] for i in range(length - 1)]\n",
    "\n",
    "strength = [(i, delta_2[i+1] - delta_1[i+2]) for i in range(length - 2) if delta_1[i+1] >= 0 and delta_2[i+1] >= 0]\n",
    "\n",
    "best_k_idx = max(strength,key=lambda t: t[1])[0] + 2\n",
    "best_k = Ks[best_k_idx]"
   ]
  },
  {
   "cell_type": "code",
   "execution_count": 13,
   "metadata": {},
   "outputs": [],
   "source": [
    "# get the best KMeans , n_clusters=best_k\n",
    "best_kmeans = KMeans(n_clusters=best_k, random_state=0)"
   ]
  },
  {
   "cell_type": "code",
   "execution_count": 14,
   "metadata": {},
   "outputs": [],
   "source": [
    "# seperate the instances to clusters\n",
    "\n",
    "# get labels \n",
    "labels = best_kmeans.fit_predict(dataset)\n",
    "\n",
    "# init dictionary\n",
    "dict_of_clusters = {cluster: [] for cluster in range(best_k)}\n",
    "\n",
    "for idx, instance in enumerate(dataset):\n",
    "    dict_of_clusters[labels[idx]].append(instance)"
   ]
  },
  {
   "cell_type": "code",
   "execution_count": 15,
   "metadata": {},
   "outputs": [
    {
     "name": "stdout",
     "output_type": "stream",
     "text": [
      "------Cluster 0: 99 jobs --------\n",
      "\n",
      "------Cluster 1: 75 jobs --------\n",
      "\n",
      "------Cluster 2: 129 jobs --------\n",
      "\n",
      "------Cluster 3: 117 jobs --------\n",
      "\n",
      "------Cluster 4: 51 jobs --------\n",
      "\n",
      "------Cluster 5: 45 jobs --------\n",
      "\n",
      "------Cluster 6: 93 jobs --------\n",
      "\n",
      "------Cluster 7: 10 jobs --------\n",
      "\n",
      "------Cluster 8: 31 jobs --------\n",
      "\n",
      "------Cluster 9: 67 jobs --------\n",
      "\n",
      "------Cluster 10: 2 jobs --------\n",
      "\n",
      "------Cluster 11: 198 jobs --------\n",
      "\n",
      "------Cluster 12: 54 jobs --------\n",
      "\n",
      "------Cluster 13: 28 jobs --------\n",
      "\n",
      "------Cluster 14: 39 jobs --------\n",
      "\n",
      "------Cluster 15: 75 jobs --------\n",
      "\n",
      "------Cluster 16: 37 jobs --------\n",
      "\n",
      "------Cluster 17: 40 jobs --------\n",
      "\n",
      "------Cluster 18: 10 jobs --------\n",
      "\n",
      "------Cluster 19: 27 jobs --------\n",
      "\n",
      "------Cluster 20: 72 jobs --------\n",
      "\n",
      "------Cluster 21: 45 jobs --------\n",
      "\n",
      "------Cluster 22: 7 jobs --------\n",
      "\n",
      "------Cluster 23: 26 jobs --------\n",
      "\n",
      "------Cluster 24: 13 jobs --------\n",
      "\n",
      "------Cluster 25: 24 jobs --------\n",
      "\n",
      "------Cluster 26: 2 jobs --------\n",
      "\n",
      "------Cluster 27: 45 jobs --------\n",
      "\n",
      "------Cluster 28: 39 jobs --------\n",
      "\n"
     ]
    }
   ],
   "source": [
    "# print cluster sizes\n",
    "for cluster, instances in dict_of_clusters.items():\n",
    "    print(f'------Cluster {cluster}: {len(instances)} jobs --------')\n",
    "    print()"
   ]
  },
  {
   "cell_type": "code",
   "execution_count": 16,
   "metadata": {},
   "outputs": [
    {
     "data": {
      "image/png": "[encoded data removed]",
      "text/plain": [
       "<Figure size 432x288 with 1 Axes>"
      ]
     },
     "metadata": {
      "needs_background": "light"
     },
     "output_type": "display_data"
    }
   ],
   "source": [
    "# plot the results\n",
    "clusters = [c for c in range(best_k)]\n",
    "colors = cm.rainbow(np.linspace(0, 1, Ks[3]))\n",
    "for cluster, c in zip(clusters, colors):\n",
    "    data = np.array(dict_of_clusters[cluster])\n",
    "    plt.scatter(data[:, 0], data[:, 1], color=c)"
   ]
  },
  {
   "cell_type": "markdown",
   "metadata": {},
   "source": [
    "# PART 2 - Order The Clusters "
   ]
  },
  {
   "cell_type": "code",
   "execution_count": 17,
   "metadata": {},
   "outputs": [],
   "source": [
    "# centers (centroids) of clusters\n",
    "centers = best_kmeans.cluster_centers_"
   ]
  },
  {
   "cell_type": "code",
   "execution_count": 18,
   "metadata": {},
   "outputs": [],
   "source": [
    "# radius of the Earth\n",
    "R = 6373.0\n",
    "\n",
    "def compute_distance(place_1, place_2):\n",
    "    \"\"\"\n",
    "    compute the distance between two lat-long coordinates\n",
    "\n",
    "    Input:\n",
    "\n",
    "    place_1 - tuple : (latitude, longitude) of place 1\n",
    "    place_2 - tuple : (latitude, longitude) of place 2\n",
    "\n",
    "    Returns:\n",
    "    distance - float number \n",
    "    \"\"\"    \n",
    "    \n",
    "    distance_lat = place_2[0] - place_1[0]\n",
    "    distance_long = place_2[1] - place_1[1]\n",
    "\n",
    "    #Haverinse formula \n",
    "    x = math.sin(distance_lat / 2)**2 + math.cos(place_1[0]) * math.cos(place_2[0]) * math.sin(distance_long / 2)**2\n",
    "\n",
    "    y = 2 * math.atan2(math.sqrt(x), math.sqrt(1 - x))\n",
    "\n",
    "    return R * y"
   ]
  },
  {
   "cell_type": "markdown",
   "metadata": {},
   "source": [
    "### 2a -\n",
    "- Order the cluster according to the distances between them. \n",
    "- All data points in the same cluster will get the same index."
   ]
  },
  {
   "cell_type": "code",
   "execution_count": 19,
   "metadata": {},
   "outputs": [],
   "source": [
    "# order the clusters according to distance from cluster 0 \n",
    "\n",
    "d_array = [(0,0)]\n",
    "c_0 = centers[0]\n",
    "for idx, c in enumerate(centers[1:]):\n",
    "    d_array += [(compute_distance(c_0, c), idx + 1)]\n",
    "cluster_distance = sorted(d_array, key=lambda x: x[0]) \n",
    "\n",
    "dict_cluster_to_idx = {c[1] : idx for idx, c in enumerate(cluster_distance)}\n",
    "\n",
    "idx_res_column = []\n",
    "\n",
    "# for each row add the relevent number according to the order of the clusters\n",
    "for label in labels:\n",
    "    idx_res_column += [dict_cluster_to_idx[label]]    "
   ]
  },
  {
   "cell_type": "code",
   "execution_count": 20,
   "metadata": {},
   "outputs": [],
   "source": [
    "# add the column to the dataFrame\n",
    "df['IDC_Index__c'] = idx_res_column"
   ]
  },
  {
   "cell_type": "code",
   "execution_count": 21,
   "metadata": {},
   "outputs": [],
   "source": [
    "# craete result new excel\n",
    "df.to_excel(f'results_{name_of_file}_(2a).xlsx', sheet_name='results')"
   ]
  },
  {
   "cell_type": "markdown",
   "metadata": {},
   "source": [
    "### 2b - \n",
    "Order the cluters by executing shortest path algorithm on each cluster. "
   ]
  },
  {
   "cell_type": "code",
   "execution_count": 22,
   "metadata": {},
   "outputs": [],
   "source": [
    "# seprate the datapoints according to their cluster\n",
    "# save id = job's row.\n",
    "separate_dataset = [[] for cluster in range(best_k)]\n",
    "id = 0\n",
    "for datapoint, label in zip(dataset, labels):\n",
    "    separate_dataset[label].append((id, datapoint))\n",
    "    id += 1"
   ]
  },
  {
   "cell_type": "markdown",
   "metadata": {},
   "source": [
    "Shoretest path Algorithm: \n",
    "### Dijkstra algorithm\n",
    "\n",
    "- We execute SP on every cluster according to the order we achieved above.\n",
    "- Fisrt iteration: \n",
    "    - Startpoint: take random datapoint\n",
    "    - Endpoint: random datapoint from the next cluster\n",
    "- Next iterations:\n",
    "    - StartPoint: the endpoint from the previous iteration\n",
    "    - Endpoint: random datapoint from the next cluster"
   ]
  },
  {
   "cell_type": "code",
   "execution_count": 23,
   "metadata": {},
   "outputs": [],
   "source": [
    "# save the oredr of the clusters\n",
    "cluster_order = [c[1] for c in cluster_distance]"
   ]
  },
  {
   "cell_type": "code",
   "execution_count": 24,
   "metadata": {},
   "outputs": [],
   "source": [
    "MAX_VALUE = sys.float_info.max"
   ]
  },
  {
   "cell_type": "code",
   "execution_count": 25,
   "metadata": {},
   "outputs": [],
   "source": [
    "class Vertex: \n",
    "    \n",
    "    def __init__(self, job, is_root=False):\n",
    "        self.id = job[0]\n",
    "        self.place = job[1]\n",
    "        self.distance = 0 if (is_root) else MAX_VALUE\n",
    "        self.parent = None\n",
    "\n",
    "\n",
    "    def relax(self, v):\n",
    "        distance_from_self_to_v = compute_distance(self.place, v.place) \n",
    "        if v.distance > self.distance + distance_from_self_to_v:\n",
    "            v.distance = self.distance + distance_from_self_to_v\n",
    "            v.parent = self.id\n",
    "            \n",
    "    # implemt =, < for using heapq on vertex\n",
    "    def __eq__(self, other):\n",
    "        if self.distance == other.distance:\n",
    "            return True\n",
    "        else:\n",
    "            return False\n",
    "\n",
    "    def __lt__(self, other):\n",
    "        if self.distance < other.distance:\n",
    "            return True\n",
    "        else:\n",
    "            return False"
   ]
  },
  {
   "cell_type": "code",
   "execution_count": 26,
   "metadata": {},
   "outputs": [],
   "source": [
    "idx = 0\n",
    "results = []\n",
    "for cluster in range(best_k):\n",
    "    root = Vertex(separate_dataset[cluster][0], is_root=True)\n",
    "    G = [Vertex(datapoint) for datapoint in separate_dataset[cluster][1:]]\n",
    "    G.append(root)\n",
    "    # we do not use E since there are edges between all the vertices\n",
    "    #E = [(v1.id, v2.id) for v1 in G for v2 in G]\n",
    "\n",
    "    # ------- Execute DIJKSTRA -------- #\n",
    "    priority_queue = []\n",
    "    #push all vertices\n",
    "    for v in G:\n",
    "        heapq.heappush(priority_queue, v)\n",
    "    while priority_queue != []:\n",
    "        # dequeue the smallest vertex (according to the distance field)\n",
    "        u = heapq.heappop(priority_queue)\n",
    "        results.append((u.id, idx)) #u.index = idx  ->. at Dijkstra the first to leave th queue is the closet to the begining\n",
    "        for v in G:\n",
    "            u.relax(v)\n",
    "        idx +=1"
   ]
  },
  {
   "cell_type": "code",
   "execution_count": 27,
   "metadata": {},
   "outputs": [],
   "source": [
    "#sort result according to rows order ('id')\n",
    "results.sort(key=lambda row: row[0])\n",
    "results = [row[1] for row in results]"
   ]
  },
  {
   "cell_type": "code",
   "execution_count": 28,
   "metadata": {},
   "outputs": [],
   "source": [
    "# add the column to the dataFrame\n",
    "df['IDC_Index__c'] = results"
   ]
  },
  {
   "cell_type": "code",
   "execution_count": 29,
   "metadata": {},
   "outputs": [],
   "source": [
    "# craete result new excel\n",
    "df.to_excel(f'results_{name_of_file}_(2b).xlsx', sheet_name='results')"
   ]
  },
  {
   "cell_type": "markdown",
   "metadata": {},
   "source": [
    "### 2c -\n",
    "- For each cluster perform Kmeans inside him and create sub-cluster\n",
    "- Order the cluster according to the distances between them. \n",
    "- All data points in the same sub-cluster will get the same index."
   ]
  },
  {
   "cell_type": "code",
   "execution_count": 30,
   "metadata": {},
   "outputs": [],
   "source": [
    "df = pd.read_excel(f'results_real_data_(2a).xlsx')"
   ]
  },
  {
   "cell_type": "code",
   "execution_count": 132,
   "metadata": {},
   "outputs": [],
   "source": [
    "# K to check for the KMeans\n",
    "Ks = [k for k in range(2, 10)]"
   ]
  },
  {
   "cell_type": "code",
   "execution_count": 232,
   "metadata": {},
   "outputs": [
    {
     "name": "stdout",
     "output_type": "stream",
     "text": [
      "cluster : 0 length:  99\n",
      "cluster : 1 length:  75\n",
      "cluster : 2 length:  129\n",
      "cluster : 3 length:  117\n",
      "cluster : 4 length:  51\n",
      "cluster : 5 length:  45\n",
      "cluster : 6 length:  93\n",
      "cluster : 7 length:  10\n",
      "cluster : 8 length:  31\n",
      "cluster : 9 length:  67\n",
      "cluster : 10 length:  2\n",
      "cluster : 11 length:  198\n",
      "cluster : 12 length:  54\n",
      "cluster : 13 length:  28\n",
      "cluster : 14 length:  39\n",
      "cluster : 15 length:  75\n",
      "cluster : 16 length:  37\n",
      "cluster : 17 length:  40\n",
      "cluster : 18 length:  10\n",
      "cluster : 19 length:  27\n",
      "cluster : 20 length:  72\n",
      "cluster : 21 length:  45\n",
      "cluster : 22 length:  7\n",
      "cluster : 23 length:  26\n",
      "cluster : 24 length:  13\n"
     ]
    },
    {
     "name": "stderr",
     "output_type": "stream",
     "text": [
      "C:\\Users\\yonat\\anaconda3\\lib\\site-packages\\sklearn\\cluster\\_kmeans.py:1122: ConvergenceWarning: Number of distinct clusters (7) found smaller than n_clusters (8). Possibly due to duplicate points in X.\n",
      "  return self.fit(X, sample_weight=sample_weight).labels_\n",
      "C:\\Users\\yonat\\anaconda3\\lib\\site-packages\\sklearn\\cluster\\_kmeans.py:1122: ConvergenceWarning: Number of distinct clusters (7) found smaller than n_clusters (9). Possibly due to duplicate points in X.\n",
      "  return self.fit(X, sample_weight=sample_weight).labels_\n",
      "C:\\Users\\yonat\\anaconda3\\lib\\site-packages\\sklearn\\cluster\\_kmeans.py:1122: ConvergenceWarning: Number of distinct clusters (8) found smaller than n_clusters (9). Possibly due to duplicate points in X.\n",
      "  return self.fit(X, sample_weight=sample_weight).labels_\n"
     ]
    },
    {
     "name": "stdout",
     "output_type": "stream",
     "text": [
      "cluster : 25 length:  24\n",
      "cluster : 26 length:  2\n",
      "cluster : 27 length:  45\n",
      "cluster : 28 length:  39\n"
     ]
    }
   ],
   "source": [
    "dict_of_clusters_2c = {}\n",
    "index_2c = 0\n",
    "\n",
    "for cluster in clusters:\n",
    "    #todo\n",
    "    dataset = dict_of_clusters[cluster]\n",
    "    inertia_lst = []\n",
    "    print(f'cluster : {cluster} length:  {len(dataset)}')\n",
    "    if(len(dataset) > 10):\n",
    "        for k in Ks:\n",
    "            kmeans = KMeans(n_clusters=k, random_state=0)\n",
    "            # fit the data\n",
    "            _ = kmeans.fit_predict(dataset)\n",
    "            # save inertia\n",
    "            inertia_lst.append(kmeans.inertia_)\n",
    "        # plot inertia as function of number of clusers (k)\n",
    "    \n",
    "        #print(plt.plot(Ks, inertia_lst, marker=11))\n",
    "    \n",
    "        # finding the elbow\n",
    "        length = len(inertia_lst) - 1\n",
    "\n",
    "        # delta_1: index=0 -> #cluster=2 -> best_k_idx=1\n",
    "        delta_1 = [inertia_lst[i] - inertia_lst[i+1] for i in range(length)]\n",
    "\n",
    "        # delta_2: index 0 -> #cluster=3 -> best_k_idx=2\n",
    "        delta_2 = [delta_1[i] - delta_1[i+1] for i in range(length - 1)]\n",
    "\n",
    "        strength = [(i, delta_2[i+1] - delta_1[i+2]) for i in range(length - 2) if delta_1[i+1] >= 0 and delta_2[i+1] >= 0]\n",
    "\n",
    "        best_k_idx = max(strength,key=lambda t: t[1])[0] + 2\n",
    "        best_k = Ks[best_k_idx]\n",
    "    \n",
    "        # get the best KMeans , n_clusters=best_k\n",
    "        best_kmeans = KMeans(n_clusters=best_k, random_state=0)\n",
    "    \n",
    "        # seperate the instances to clusters\n",
    "\n",
    "        # get labels \n",
    "        labels = best_kmeans.fit_predict(dataset)\n",
    "\n",
    "        # init dictionary\n",
    "        dict_of_clusters_2 = {cluster: [] for cluster in range(best_k)}\n",
    "\n",
    "        for idx, instance in enumerate(dataset):\n",
    "            dict_of_clusters_2[labels[idx]].append(instance)\n",
    "        \n",
    "        # print cluster sizes\n",
    "        for cluster, instances in dict_of_clusters_2.items():\n",
    "            #print(f'------Cluster {cluster}: {len(instances)} jobs --------')\n",
    "            #print()\n",
    "            dict_of_clusters_2c.update({index_2c: instances}) \n",
    "            index_2c += 1\n",
    "        \n",
    "        # centers (centroids) of clusters\n",
    "        centers = best_kmeans.cluster_centers_\n",
    "    \n",
    "    else:\n",
    "        dict_of_clusters_2c.update({index_2c: dataset}) \n",
    "        index_2c += 1\n",
    "            \n",
    "    \n",
    "#print(centers)"
   ]
  },
  {
   "cell_type": "code",
   "execution_count": 263,
   "metadata": {},
   "outputs": [
    {
     "name": "stdout",
     "output_type": "stream",
     "text": [
      "-99.177451 0\n",
      "[[ 19.477986 -99.179773]\n",
      " [ 19.477644 -99.180817]\n",
      " [ 19.477986 -99.179773]\n",
      " ...\n",
      " [ 19.476033 -99.178646]\n",
      " [ 19.476055 -99.178641]\n",
      " [ 19.476234 -99.178967]]\n"
     ]
    },
    {
     "ename": "ValueError",
     "evalue": "The truth value of a Series is ambiguous. Use a.empty, a.bool(), a.item(), a.any() or a.all().",
     "output_type": "error",
     "traceback": [
      "\u001b[1;31m---------------------------------------------------------------------------\u001b[0m",
      "\u001b[1;31mValueError\u001b[0m                                Traceback (most recent call last)",
      "\u001b[1;32m<ipython-input-263-5f63a448bf70>\u001b[0m in \u001b[0;36m<module>\u001b[1;34m\u001b[0m\n\u001b[0;32m      3\u001b[0m         \u001b[0mprint\u001b[0m\u001b[1;33m(\u001b[0m\u001b[0minstance\u001b[0m\u001b[1;33m[\u001b[0m\u001b[1;36m1\u001b[0m\u001b[1;33m]\u001b[0m\u001b[1;33m,\u001b[0m \u001b[0mcluster\u001b[0m\u001b[1;33m)\u001b[0m\u001b[1;33m\u001b[0m\u001b[1;33m\u001b[0m\u001b[0m\n\u001b[0;32m      4\u001b[0m         \u001b[0mprint\u001b[0m\u001b[1;33m(\u001b[0m\u001b[0mdf\u001b[0m\u001b[1;33m[\u001b[0m\u001b[1;33m[\u001b[0m\u001b[1;34m'Latitude'\u001b[0m\u001b[1;33m,\u001b[0m\u001b[1;34m'Longitude'\u001b[0m\u001b[1;33m]\u001b[0m\u001b[1;33m]\u001b[0m\u001b[1;33m.\u001b[0m\u001b[0mvalues\u001b[0m\u001b[1;33m)\u001b[0m\u001b[1;33m\u001b[0m\u001b[1;33m\u001b[0m\u001b[0m\n\u001b[1;32m----> 5\u001b[1;33m         \u001b[0mprint\u001b[0m\u001b[1;33m(\u001b[0m\u001b[1;33m(\u001b[0m\u001b[0mdf\u001b[0m\u001b[1;33m[\u001b[0m\u001b[1;34m'Latitude'\u001b[0m\u001b[1;33m]\u001b[0m \u001b[1;33m==\u001b[0m \u001b[0minstance\u001b[0m\u001b[1;33m[\u001b[0m\u001b[1;36m0\u001b[0m\u001b[1;33m]\u001b[0m \u001b[1;32mand\u001b[0m \u001b[0mdf\u001b[0m\u001b[1;33m[\u001b[0m\u001b[1;34m'Longitude'\u001b[0m\u001b[1;33m]\u001b[0m \u001b[1;33m==\u001b[0m \u001b[0minstance\u001b[0m\u001b[1;33m[\u001b[0m\u001b[1;36m1\u001b[0m\u001b[1;33m]\u001b[0m\u001b[1;33m)\u001b[0m\u001b[1;33m.\u001b[0m\u001b[0mall\u001b[0m\u001b[1;33m(\u001b[0m\u001b[1;33m)\u001b[0m\u001b[1;33m)\u001b[0m\u001b[1;33m\u001b[0m\u001b[1;33m\u001b[0m\u001b[0m\n\u001b[0m\u001b[0;32m      6\u001b[0m         \u001b[1;31m#df['IDC_Index__c'] = np.where((df['Latitude'] == instance[0] and df['Longitude'] == instance[1]).all()\u001b[0m\u001b[1;33m\u001b[0m\u001b[1;33m\u001b[0m\u001b[1;33m\u001b[0m\u001b[0m\n\u001b[0;32m      7\u001b[0m          \u001b[1;31m#                             , cluster, df['IDC_Index__c'])\u001b[0m\u001b[1;33m\u001b[0m\u001b[1;33m\u001b[0m\u001b[1;33m\u001b[0m\u001b[0m\n",
      "\u001b[1;32m~\\anaconda3\\lib\\site-packages\\pandas\\core\\generic.py\u001b[0m in \u001b[0;36m__nonzero__\u001b[1;34m(self)\u001b[0m\n\u001b[0;32m   1327\u001b[0m \u001b[1;33m\u001b[0m\u001b[0m\n\u001b[0;32m   1328\u001b[0m     \u001b[1;32mdef\u001b[0m \u001b[0m__nonzero__\u001b[0m\u001b[1;33m(\u001b[0m\u001b[0mself\u001b[0m\u001b[1;33m)\u001b[0m\u001b[1;33m:\u001b[0m\u001b[1;33m\u001b[0m\u001b[1;33m\u001b[0m\u001b[0m\n\u001b[1;32m-> 1329\u001b[1;33m         raise ValueError(\n\u001b[0m\u001b[0;32m   1330\u001b[0m             \u001b[1;34mf\"The truth value of a {type(self).__name__} is ambiguous. \"\u001b[0m\u001b[1;33m\u001b[0m\u001b[1;33m\u001b[0m\u001b[0m\n\u001b[0;32m   1331\u001b[0m             \u001b[1;34m\"Use a.empty, a.bool(), a.item(), a.any() or a.all().\"\u001b[0m\u001b[1;33m\u001b[0m\u001b[1;33m\u001b[0m\u001b[0m\n",
      "\u001b[1;31mValueError\u001b[0m: The truth value of a Series is ambiguous. Use a.empty, a.bool(), a.item(), a.any() or a.all()."
     ]
    }
   ],
   "source": [
    "for cluster, instances in dict_of_clusters_2c.items():\n",
    "    for instance in instances:\n",
    "        print(instance[1], cluster)\n",
    "        print(df[['Latitude','Longitude']].values)\n",
    "        print((df['Latitude'] == instance[0] and df['Longitude'] == instance[1]).all())\n",
    "        #df['IDC_Index__c'] = np.where((df['Latitude'] == instance[0] and df['Longitude'] == instance[1]).all()\n",
    "         #                             , cluster, df['IDC_Index__c'])"
   ]
  },
  {
   "cell_type": "code",
   "execution_count": 249,
   "metadata": {},
   "outputs": [],
   "source": [
    "# add the column to the dataFrame\n",
    "#df['IDC_Index__c'] = idx_res_column"
   ]
  },
  {
   "cell_type": "code",
   "execution_count": 219,
   "metadata": {},
   "outputs": [],
   "source": [
    "# craete result new excel\n",
    "df.to_excel(f'results_{name_of_file}_(2c).xlsx', sheet_name='results')"
   ]
  },
  {
   "cell_type": "code",
   "execution_count": 220,
   "metadata": {},
   "outputs": [
    {
     "name": "stdout",
     "output_type": "stream",
     "text": [
      "       Latitude  Longitude\n",
      "0     19.477986 -99.179773\n",
      "1     19.477644 -99.180817\n",
      "2     19.477986 -99.179773\n",
      "3     19.477956 -99.180741\n",
      "4     19.477986 -99.179773\n",
      "...         ...        ...\n",
      "1495  19.476123 -99.176299\n",
      "1496  19.476011 -99.178650\n",
      "1497  19.476033 -99.178646\n",
      "1498  19.476055 -99.178641\n",
      "1499  19.476234 -99.178967\n",
      "\n",
      "[1500 rows x 2 columns]\n"
     ]
    }
   ],
   "source": [
    "print(df[['Latitude','Longitude']])"
   ]
  },
  {
   "cell_type": "code",
   "execution_count": 221,
   "metadata": {},
   "outputs": [
    {
     "data": {
      "text/html": [
       "<div>\n",
       "<style scoped>\n",
       "    .dataframe tbody tr th:only-of-type {\n",
       "        vertical-align: middle;\n",
       "    }\n",
       "\n",
       "    .dataframe tbody tr th {\n",
       "        vertical-align: top;\n",
       "    }\n",
       "\n",
       "    .dataframe thead th {\n",
       "        text-align: right;\n",
       "    }\n",
       "</style>\n",
       "<table border=\"1\" class=\"dataframe\">\n",
       "  <thead>\n",
       "    <tr style=\"text-align: right;\">\n",
       "      <th></th>\n",
       "      <th>Unnamed: 0</th>\n",
       "      <th>_</th>\n",
       "      <th>Id</th>\n",
       "      <th>AppointmentNumber</th>\n",
       "      <th>Latitude</th>\n",
       "      <th>Longitude</th>\n",
       "      <th>IDC_Index__c</th>\n",
       "    </tr>\n",
       "  </thead>\n",
       "  <tbody>\n",
       "    <tr>\n",
       "      <th>0</th>\n",
       "      <td>0</td>\n",
       "      <td>[ServiceAppointment]</td>\n",
       "      <td>08p4L000000lJU2QAM</td>\n",
       "      <td>SA-2548</td>\n",
       "      <td>19.477986</td>\n",
       "      <td>-99.179773</td>\n",
       "      <td>14</td>\n",
       "    </tr>\n",
       "    <tr>\n",
       "      <th>1</th>\n",
       "      <td>1</td>\n",
       "      <td>[ServiceAppointment]</td>\n",
       "      <td>08p4L000000lJU3QAM</td>\n",
       "      <td>SA-2549</td>\n",
       "      <td>19.477644</td>\n",
       "      <td>-99.180817</td>\n",
       "      <td>87</td>\n",
       "    </tr>\n",
       "    <tr>\n",
       "      <th>2</th>\n",
       "      <td>2</td>\n",
       "      <td>[ServiceAppointment]</td>\n",
       "      <td>08p4L000000lJU4QAM</td>\n",
       "      <td>SA-2550</td>\n",
       "      <td>19.477986</td>\n",
       "      <td>-99.179773</td>\n",
       "      <td>14</td>\n",
       "    </tr>\n",
       "    <tr>\n",
       "      <th>3</th>\n",
       "      <td>3</td>\n",
       "      <td>[ServiceAppointment]</td>\n",
       "      <td>08p4L000000lJU5QAM</td>\n",
       "      <td>SA-2551</td>\n",
       "      <td>19.477956</td>\n",
       "      <td>-99.180741</td>\n",
       "      <td>89</td>\n",
       "    </tr>\n",
       "    <tr>\n",
       "      <th>4</th>\n",
       "      <td>4</td>\n",
       "      <td>[ServiceAppointment]</td>\n",
       "      <td>08p4L000000lJU6QAM</td>\n",
       "      <td>SA-2552</td>\n",
       "      <td>19.477986</td>\n",
       "      <td>-99.179773</td>\n",
       "      <td>14</td>\n",
       "    </tr>\n",
       "    <tr>\n",
       "      <th>...</th>\n",
       "      <td>...</td>\n",
       "      <td>...</td>\n",
       "      <td>...</td>\n",
       "      <td>...</td>\n",
       "      <td>...</td>\n",
       "      <td>...</td>\n",
       "      <td>...</td>\n",
       "    </tr>\n",
       "    <tr>\n",
       "      <th>1495</th>\n",
       "      <td>1495</td>\n",
       "      <td>[ServiceAppointment]</td>\n",
       "      <td>08p4L000000lJlvQAE</td>\n",
       "      <td>SA-3657</td>\n",
       "      <td>19.476123</td>\n",
       "      <td>-99.176299</td>\n",
       "      <td>55</td>\n",
       "    </tr>\n",
       "    <tr>\n",
       "      <th>1496</th>\n",
       "      <td>1496</td>\n",
       "      <td>[ServiceAppointment]</td>\n",
       "      <td>08p4L000000lJlxQAE</td>\n",
       "      <td>SA-3659</td>\n",
       "      <td>19.476011</td>\n",
       "      <td>-99.178650</td>\n",
       "      <td>20</td>\n",
       "    </tr>\n",
       "    <tr>\n",
       "      <th>1497</th>\n",
       "      <td>1497</td>\n",
       "      <td>[ServiceAppointment]</td>\n",
       "      <td>08p4L000000lJlwQAE</td>\n",
       "      <td>SA-3658</td>\n",
       "      <td>19.476033</td>\n",
       "      <td>-99.178646</td>\n",
       "      <td>20</td>\n",
       "    </tr>\n",
       "    <tr>\n",
       "      <th>1498</th>\n",
       "      <td>1498</td>\n",
       "      <td>[ServiceAppointment]</td>\n",
       "      <td>08p4L000000lJlyQAE</td>\n",
       "      <td>SA-3660</td>\n",
       "      <td>19.476055</td>\n",
       "      <td>-99.178641</td>\n",
       "      <td>20</td>\n",
       "    </tr>\n",
       "    <tr>\n",
       "      <th>1499</th>\n",
       "      <td>1499</td>\n",
       "      <td>[ServiceAppointment]</td>\n",
       "      <td>08p4L000000lJlzQAE</td>\n",
       "      <td>SA-3661</td>\n",
       "      <td>19.476234</td>\n",
       "      <td>-99.178967</td>\n",
       "      <td>19</td>\n",
       "    </tr>\n",
       "  </tbody>\n",
       "</table>\n",
       "<p>1500 rows × 7 columns</p>\n",
       "</div>"
      ],
      "text/plain": [
       "      Unnamed: 0                     _                  Id AppointmentNumber  \\\n",
       "0              0  [ServiceAppointment]  08p4L000000lJU2QAM           SA-2548   \n",
       "1              1  [ServiceAppointment]  08p4L000000lJU3QAM           SA-2549   \n",
       "2              2  [ServiceAppointment]  08p4L000000lJU4QAM           SA-2550   \n",
       "3              3  [ServiceAppointment]  08p4L000000lJU5QAM           SA-2551   \n",
       "4              4  [ServiceAppointment]  08p4L000000lJU6QAM           SA-2552   \n",
       "...          ...                   ...                 ...               ...   \n",
       "1495        1495  [ServiceAppointment]  08p4L000000lJlvQAE           SA-3657   \n",
       "1496        1496  [ServiceAppointment]  08p4L000000lJlxQAE           SA-3659   \n",
       "1497        1497  [ServiceAppointment]  08p4L000000lJlwQAE           SA-3658   \n",
       "1498        1498  [ServiceAppointment]  08p4L000000lJlyQAE           SA-3660   \n",
       "1499        1499  [ServiceAppointment]  08p4L000000lJlzQAE           SA-3661   \n",
       "\n",
       "       Latitude  Longitude IDC_Index__c  \n",
       "0     19.477986 -99.179773           14  \n",
       "1     19.477644 -99.180817           87  \n",
       "2     19.477986 -99.179773           14  \n",
       "3     19.477956 -99.180741           89  \n",
       "4     19.477986 -99.179773           14  \n",
       "...         ...        ...          ...  \n",
       "1495  19.476123 -99.176299           55  \n",
       "1496  19.476011 -99.178650           20  \n",
       "1497  19.476033 -99.178646           20  \n",
       "1498  19.476055 -99.178641           20  \n",
       "1499  19.476234 -99.178967           19  \n",
       "\n",
       "[1500 rows x 7 columns]"
      ]
     },
     "execution_count": 221,
     "metadata": {},
     "output_type": "execute_result"
    }
   ],
   "source": [
    "df"
   ]
  },
  {
   "cell_type": "code",
   "execution_count": null,
   "metadata": {},
   "outputs": [],
   "source": []
  }
 ],
 "metadata": {
  "kernelspec": {
   "display_name": "Python 3",
   "language": "python",
   "name": "python3"
  },
  "language_info": {
   "codemirror_mode": {
    "name": "ipython",
    "version": 3
   },
   "file_extension": ".py",
   "mimetype": "text/x-python",
   "name": "python",
   "nbconvert_exporter": "python",
   "pygments_lexer": "ipython3",
   "version": "3.8.5"
  }
 },
 "nbformat": 4,
 "nbformat_minor": 5
}

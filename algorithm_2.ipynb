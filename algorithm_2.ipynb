{
 "cells": [
  {
   "cell_type": "markdown",
   "id": "56208c20",
   "metadata": {},
   "source": [
    "# Algorithm 2"
   ]
  },
  {
   "cell_type": "markdown",
   "id": "6bccf674",
   "metadata": {},
   "source": [
    "### PART 1 -  \n",
    "#### Execute KMeans. \n",
    "Try to find automatticaly the 'elbow' - the best K results ( withour relating to the daily hours or to the number of resources).\n",
    "\n",
    "### PART 2 - \n",
    "#### Order The Clusters.\n",
    " * 2a- Index all datapoints (jobs) in a cluster with the same index, when indexing is according to the distance between the clusters.\n",
    " * 2b- Execute Shortest Path algorithm at each cluster, connect the cluster by the closest datapoints (jobs). (Index each datapoint with different index)"
   ]
  },
  {
   "cell_type": "code",
   "execution_count": 1,
   "id": "f94d3158",
   "metadata": {},
   "outputs": [],
   "source": [
    "import sys\n",
    "import numpy as np # used for scientific computing\\n\",\n",
    "import pandas as pd # used for data analysis and manipulation\\n\",\n",
    "import matplotlib.pyplot as plt # used for visualization and plotting\\n\",\n",
    "import matplotlib.cm as cm\n",
    "import math\n",
    "from sklearn.cluster import KMeans \n",
    "import heapq"
   ]
  },
  {
   "cell_type": "code",
   "execution_count": 2,
   "id": "2c6ef250",
   "metadata": {},
   "outputs": [],
   "source": [
    "# read the data\n",
    "df = pd.read_excel('Data/1500 SAs 21 Resources - For IDC.xlsx')"
   ]
  },
  {
   "cell_type": "code",
   "execution_count": 3,
   "id": "f0ccf97c",
   "metadata": {},
   "outputs": [
    {
     "data": {
      "text/html": [
       "<div>\n",
       "<style scoped>\n",
       "    .dataframe tbody tr th:only-of-type {\n",
       "        vertical-align: middle;\n",
       "    }\n",
       "\n",
       "    .dataframe tbody tr th {\n",
       "        vertical-align: top;\n",
       "    }\n",
       "\n",
       "    .dataframe thead th {\n",
       "        text-align: right;\n",
       "    }\n",
       "</style>\n",
       "<table border=\"1\" class=\"dataframe\">\n",
       "  <thead>\n",
       "    <tr style=\"text-align: right;\">\n",
       "      <th></th>\n",
       "      <th>_</th>\n",
       "      <th>AppointmentNumber</th>\n",
       "      <th>DurationInMinutes</th>\n",
       "      <th>Latitude</th>\n",
       "      <th>Longitude</th>\n",
       "      <th>Grid_Number__c</th>\n",
       "      <th>EarliestStartTime</th>\n",
       "      <th>DueDate</th>\n",
       "      <th>SchedStartTime</th>\n",
       "      <th>SchedEndTime</th>\n",
       "    </tr>\n",
       "  </thead>\n",
       "  <tbody>\n",
       "    <tr>\n",
       "      <th>0</th>\n",
       "      <td>[ServiceAppointment]</td>\n",
       "      <td>SA-000093262</td>\n",
       "      <td>4</td>\n",
       "      <td>19.477956</td>\n",
       "      <td>-99.180741</td>\n",
       "      <td>37739.12911</td>\n",
       "      <td>2021-07-20T05:12:00.000+0000</td>\n",
       "      <td>2021-08-20T00:00:00.000+0000</td>\n",
       "      <td>2021-07-21T13:18:00.000+0000</td>\n",
       "      <td>2021-07-21T13:22:00.000+0000</td>\n",
       "    </tr>\n",
       "    <tr>\n",
       "      <th>1</th>\n",
       "      <td>[ServiceAppointment]</td>\n",
       "      <td>SA-000091887</td>\n",
       "      <td>4</td>\n",
       "      <td>19.477956</td>\n",
       "      <td>-99.180741</td>\n",
       "      <td>37739.12911</td>\n",
       "      <td>2021-07-20T05:12:00.000+0000</td>\n",
       "      <td>2021-08-20T00:00:00.000+0000</td>\n",
       "      <td>2021-07-21T13:22:00.000+0000</td>\n",
       "      <td>2021-07-21T13:26:00.000+0000</td>\n",
       "    </tr>\n",
       "    <tr>\n",
       "      <th>2</th>\n",
       "      <td>[ServiceAppointment]</td>\n",
       "      <td>SA-000093274</td>\n",
       "      <td>4</td>\n",
       "      <td>19.477937</td>\n",
       "      <td>-99.180605</td>\n",
       "      <td>37739.12911</td>\n",
       "      <td>2021-07-20T05:12:00.000+0000</td>\n",
       "      <td>2021-08-20T00:00:00.000+0000</td>\n",
       "      <td>2021-07-21T13:26:00.000+0000</td>\n",
       "      <td>2021-07-21T13:30:00.000+0000</td>\n",
       "    </tr>\n",
       "    <tr>\n",
       "      <th>3</th>\n",
       "      <td>[ServiceAppointment]</td>\n",
       "      <td>SA-000091881</td>\n",
       "      <td>4</td>\n",
       "      <td>19.477937</td>\n",
       "      <td>-99.180605</td>\n",
       "      <td>37739.12911</td>\n",
       "      <td>2021-07-20T05:12:00.000+0000</td>\n",
       "      <td>2021-08-20T00:00:00.000+0000</td>\n",
       "      <td>2021-07-21T13:30:00.000+0000</td>\n",
       "      <td>2021-07-21T13:34:00.000+0000</td>\n",
       "    </tr>\n",
       "    <tr>\n",
       "      <th>4</th>\n",
       "      <td>[ServiceAppointment]</td>\n",
       "      <td>SA-000100570</td>\n",
       "      <td>4</td>\n",
       "      <td>19.477937</td>\n",
       "      <td>-99.180605</td>\n",
       "      <td>37739.12911</td>\n",
       "      <td>2021-07-20T05:12:00.000+0000</td>\n",
       "      <td>2021-08-28T00:00:00.000+0000</td>\n",
       "      <td>2021-07-21T13:34:00.000+0000</td>\n",
       "      <td>2021-07-21T13:38:00.000+0000</td>\n",
       "    </tr>\n",
       "    <tr>\n",
       "      <th>...</th>\n",
       "      <td>...</td>\n",
       "      <td>...</td>\n",
       "      <td>...</td>\n",
       "      <td>...</td>\n",
       "      <td>...</td>\n",
       "      <td>...</td>\n",
       "      <td>...</td>\n",
       "      <td>...</td>\n",
       "      <td>...</td>\n",
       "      <td>...</td>\n",
       "    </tr>\n",
       "    <tr>\n",
       "      <th>1495</th>\n",
       "      <td>[ServiceAppointment]</td>\n",
       "      <td>SA-000100513</td>\n",
       "      <td>2</td>\n",
       "      <td>19.480504</td>\n",
       "      <td>-99.180529</td>\n",
       "      <td>37741.12911</td>\n",
       "      <td>2021-07-20T05:12:00.000+0000</td>\n",
       "      <td>2021-08-28T00:00:00.000+0000</td>\n",
       "      <td>2021-07-21T21:37:00.000+0000</td>\n",
       "      <td>2021-07-21T21:39:00.000+0000</td>\n",
       "    </tr>\n",
       "    <tr>\n",
       "      <th>1496</th>\n",
       "      <td>[ServiceAppointment]</td>\n",
       "      <td>SA-000091560</td>\n",
       "      <td>2</td>\n",
       "      <td>19.480362</td>\n",
       "      <td>-99.180432</td>\n",
       "      <td>37741.12911</td>\n",
       "      <td>2021-07-20T05:12:00.000+0000</td>\n",
       "      <td>2021-08-20T00:00:00.000+0000</td>\n",
       "      <td>2021-07-21T21:40:00.000+0000</td>\n",
       "      <td>2021-07-21T21:42:00.000+0000</td>\n",
       "    </tr>\n",
       "    <tr>\n",
       "      <th>1497</th>\n",
       "      <td>[ServiceAppointment]</td>\n",
       "      <td>SA-000091581</td>\n",
       "      <td>2</td>\n",
       "      <td>19.480650</td>\n",
       "      <td>-99.180485</td>\n",
       "      <td>37741.12911</td>\n",
       "      <td>2021-07-20T05:12:00.000+0000</td>\n",
       "      <td>2021-08-20T00:00:00.000+0000</td>\n",
       "      <td>2021-07-21T21:43:00.000+0000</td>\n",
       "      <td>2021-07-21T21:45:00.000+0000</td>\n",
       "    </tr>\n",
       "    <tr>\n",
       "      <th>1498</th>\n",
       "      <td>[ServiceAppointment]</td>\n",
       "      <td>SA-000091572</td>\n",
       "      <td>2</td>\n",
       "      <td>19.480748</td>\n",
       "      <td>-99.180456</td>\n",
       "      <td>37741.12911</td>\n",
       "      <td>2021-07-20T05:12:00.000+0000</td>\n",
       "      <td>2021-08-20T00:00:00.000+0000</td>\n",
       "      <td>2021-07-21T21:46:00.000+0000</td>\n",
       "      <td>2021-07-21T21:48:00.000+0000</td>\n",
       "    </tr>\n",
       "    <tr>\n",
       "      <th>1499</th>\n",
       "      <td>[ServiceAppointment]</td>\n",
       "      <td>SA-000091578</td>\n",
       "      <td>2</td>\n",
       "      <td>19.480797</td>\n",
       "      <td>-99.180442</td>\n",
       "      <td>37741.12911</td>\n",
       "      <td>2021-07-20T05:12:00.000+0000</td>\n",
       "      <td>2021-08-20T00:00:00.000+0000</td>\n",
       "      <td>2021-07-21T21:49:00.000+0000</td>\n",
       "      <td>2021-07-21T21:51:00.000+0000</td>\n",
       "    </tr>\n",
       "  </tbody>\n",
       "</table>\n",
       "<p>1500 rows × 10 columns</p>\n",
       "</div>"
      ],
      "text/plain": [
       "                         _ AppointmentNumber  DurationInMinutes   Latitude  \\\n",
       "0     [ServiceAppointment]      SA-000093262                  4  19.477956   \n",
       "1     [ServiceAppointment]      SA-000091887                  4  19.477956   \n",
       "2     [ServiceAppointment]      SA-000093274                  4  19.477937   \n",
       "3     [ServiceAppointment]      SA-000091881                  4  19.477937   \n",
       "4     [ServiceAppointment]      SA-000100570                  4  19.477937   \n",
       "...                    ...               ...                ...        ...   \n",
       "1495  [ServiceAppointment]      SA-000100513                  2  19.480504   \n",
       "1496  [ServiceAppointment]      SA-000091560                  2  19.480362   \n",
       "1497  [ServiceAppointment]      SA-000091581                  2  19.480650   \n",
       "1498  [ServiceAppointment]      SA-000091572                  2  19.480748   \n",
       "1499  [ServiceAppointment]      SA-000091578                  2  19.480797   \n",
       "\n",
       "      Longitude  Grid_Number__c             EarliestStartTime  \\\n",
       "0    -99.180741     37739.12911  2021-07-20T05:12:00.000+0000   \n",
       "1    -99.180741     37739.12911  2021-07-20T05:12:00.000+0000   \n",
       "2    -99.180605     37739.12911  2021-07-20T05:12:00.000+0000   \n",
       "3    -99.180605     37739.12911  2021-07-20T05:12:00.000+0000   \n",
       "4    -99.180605     37739.12911  2021-07-20T05:12:00.000+0000   \n",
       "...         ...             ...                           ...   \n",
       "1495 -99.180529     37741.12911  2021-07-20T05:12:00.000+0000   \n",
       "1496 -99.180432     37741.12911  2021-07-20T05:12:00.000+0000   \n",
       "1497 -99.180485     37741.12911  2021-07-20T05:12:00.000+0000   \n",
       "1498 -99.180456     37741.12911  2021-07-20T05:12:00.000+0000   \n",
       "1499 -99.180442     37741.12911  2021-07-20T05:12:00.000+0000   \n",
       "\n",
       "                           DueDate                SchedStartTime  \\\n",
       "0     2021-08-20T00:00:00.000+0000  2021-07-21T13:18:00.000+0000   \n",
       "1     2021-08-20T00:00:00.000+0000  2021-07-21T13:22:00.000+0000   \n",
       "2     2021-08-20T00:00:00.000+0000  2021-07-21T13:26:00.000+0000   \n",
       "3     2021-08-20T00:00:00.000+0000  2021-07-21T13:30:00.000+0000   \n",
       "4     2021-08-28T00:00:00.000+0000  2021-07-21T13:34:00.000+0000   \n",
       "...                            ...                           ...   \n",
       "1495  2021-08-28T00:00:00.000+0000  2021-07-21T21:37:00.000+0000   \n",
       "1496  2021-08-20T00:00:00.000+0000  2021-07-21T21:40:00.000+0000   \n",
       "1497  2021-08-20T00:00:00.000+0000  2021-07-21T21:43:00.000+0000   \n",
       "1498  2021-08-20T00:00:00.000+0000  2021-07-21T21:46:00.000+0000   \n",
       "1499  2021-08-20T00:00:00.000+0000  2021-07-21T21:49:00.000+0000   \n",
       "\n",
       "                      SchedEndTime  \n",
       "0     2021-07-21T13:22:00.000+0000  \n",
       "1     2021-07-21T13:26:00.000+0000  \n",
       "2     2021-07-21T13:30:00.000+0000  \n",
       "3     2021-07-21T13:34:00.000+0000  \n",
       "4     2021-07-21T13:38:00.000+0000  \n",
       "...                            ...  \n",
       "1495  2021-07-21T21:39:00.000+0000  \n",
       "1496  2021-07-21T21:42:00.000+0000  \n",
       "1497  2021-07-21T21:45:00.000+0000  \n",
       "1498  2021-07-21T21:48:00.000+0000  \n",
       "1499  2021-07-21T21:51:00.000+0000  \n",
       "\n",
       "[1500 rows x 10 columns]"
      ]
     },
     "execution_count": 3,
     "metadata": {},
     "output_type": "execute_result"
    }
   ],
   "source": [
    "# verify the data\n",
    "df"
   ]
  },
  {
   "cell_type": "code",
   "execution_count": 4,
   "id": "9c1e7078",
   "metadata": {},
   "outputs": [],
   "source": [
    "def plot(c): \n",
    "    plt.scatter(df['Latitude'], df['Longitude'], color=c)"
   ]
  },
  {
   "cell_type": "code",
   "execution_count": 5,
   "id": "26d6c491",
   "metadata": {},
   "outputs": [
    {
     "data": {
      "image/png": "[encoded data removed]",
      "text/plain": [
       "<Figure size 432x288 with 1 Axes>"
      ]
     },
     "metadata": {
      "needs_background": "light"
     },
     "output_type": "display_data"
    }
   ],
   "source": [
    "# map of the jobs\n",
    "plot('blue')"
   ]
  },
  {
   "cell_type": "code",
   "execution_count": 6,
   "id": "ce5061cf",
   "metadata": {},
   "outputs": [],
   "source": [
    "# extract the relvent columns\n",
    "dataset = np.array(df[['Latitude', 'Longitude']])"
   ]
  },
  {
   "cell_type": "code",
   "execution_count": 7,
   "id": "62aa85ec",
   "metadata": {},
   "outputs": [
    {
     "data": {
      "text/plain": [
       "array([[ 19.477956, -99.180741],\n",
       "       [ 19.477956, -99.180741],\n",
       "       [ 19.477937, -99.180605],\n",
       "       ...,\n",
       "       [ 19.48065 , -99.180485],\n",
       "       [ 19.480748, -99.180456],\n",
       "       [ 19.480797, -99.180442]])"
      ]
     },
     "execution_count": 7,
     "metadata": {},
     "output_type": "execute_result"
    }
   ],
   "source": [
    "# verify the exctraction\n",
    "dataset"
   ]
  },
  {
   "cell_type": "markdown",
   "id": "8b39a692",
   "metadata": {},
   "source": [
    "# PART 1 - KMEANS"
   ]
  },
  {
   "cell_type": "code",
   "execution_count": 8,
   "id": "1e59ed7d",
   "metadata": {},
   "outputs": [],
   "source": [
    "# K to check for the KMeans\n",
    "Ks = [k for k in range(4, 150)]"
   ]
  },
  {
   "cell_type": "code",
   "execution_count": 9,
   "id": "4d779799",
   "metadata": {},
   "outputs": [],
   "source": [
    "# execute KMeans for each K in Ks\n",
    "inertia_lst = []\n",
    "for k in Ks:\n",
    "    kmeans = KMeans(n_clusters=k, random_state=0)\n",
    "    # fit the data\n",
    "    _ = kmeans.fit_predict(dataset)\n",
    "    # save inertia\n",
    "    inertia_lst.append(kmeans.inertia_)"
   ]
  },
  {
   "cell_type": "code",
   "execution_count": 10,
   "id": "44c80fb3",
   "metadata": {},
   "outputs": [
    {
     "data": {
      "text/plain": [
       "[<matplotlib.lines.Line2D at 0x7ff328c21d90>]"
      ]
     },
     "execution_count": 10,
     "metadata": {},
     "output_type": "execute_result"
    },
    {
     "data": {
      "image/png": "[encoded data removed]",
      "text/plain": [
       "<Figure size 432x288 with 1 Axes>"
      ]
     },
     "metadata": {
      "needs_background": "light"
     },
     "output_type": "display_data"
    }
   ],
   "source": [
    "# plot inertia as function of number of clusers (k)\n",
    "plt.plot(Ks, inertia_lst, marker=11)"
   ]
  },
  {
   "cell_type": "markdown",
   "id": "c034d94e",
   "metadata": {},
   "source": [
    "finding the elbow is the method to find the best K. \n",
    "The solution is not optimal which means it is not return the best result any time.\n",
    "In contrast, the result will be always close to the truth and the small error may not affect on our results drastically."
   ]
  },
  {
   "cell_type": "code",
   "execution_count": 11,
   "id": "f9ea44e7",
   "metadata": {},
   "outputs": [],
   "source": [
    "# finding the elbow\n",
    "length = len(inertia_lst) - 1\n",
    "\n",
    "# delta_1: index=0 -> #cluster=2 -> best_k_idx=1\n",
    "delta_1 = [inertia_lst[i] - inertia_lst[i+1] for i in range(length)]\n",
    "\n",
    "# delta_2: index 0 -> #cluster=3 -> best_k_idx=2\n",
    "delta_2 = [delta_1[i] - delta_1[i+1] for i in range(length - 1)]\n",
    "\n",
    "strength = [(i, delta_2[i+1] - delta_1[i+2]) for i in range(length - 2) if delta_1[i+1] >= 0 and delta_2[i+1] >= 0]\n",
    "\n",
    "best_k_idx = max(strength,key=lambda t: t[1])[0] + 2\n",
    "best_k = Ks[best_k_idx]"
   ]
  },
  {
   "cell_type": "code",
   "execution_count": 12,
   "id": "45be89dd",
   "metadata": {},
   "outputs": [],
   "source": [
    "# get the best KMeans \n",
    "best_kmeans = KMeans(n_clusters=best_k, random_state=0)"
   ]
  },
  {
   "cell_type": "code",
   "execution_count": 13,
   "id": "674ec5a0",
   "metadata": {},
   "outputs": [],
   "source": [
    "# seperate the instances to clusters\n",
    "\n",
    "# get labels \n",
    "labels = best_kmeans.fit_predict(dataset)\n",
    "\n",
    "# init dictionary\n",
    "dict_of_clusters = {cluster: [] for cluster in range(best_k)}\n",
    "\n",
    "for idx, instance in enumerate(dataset):\n",
    "    dict_of_clusters[labels[idx]].append(instance)"
   ]
  },
  {
   "cell_type": "code",
   "execution_count": 14,
   "id": "1e3f1d9d",
   "metadata": {},
   "outputs": [
    {
     "name": "stdout",
     "output_type": "stream",
     "text": [
      "------Cluster 0: 185 jobs --------\n",
      "\n",
      "------Cluster 1: 60 jobs --------\n",
      "\n",
      "------Cluster 2: 26 jobs --------\n",
      "\n",
      "------Cluster 3: 21 jobs --------\n",
      "\n",
      "------Cluster 4: 45 jobs --------\n",
      "\n",
      "------Cluster 5: 20 jobs --------\n",
      "\n",
      "------Cluster 6: 126 jobs --------\n",
      "\n",
      "------Cluster 7: 45 jobs --------\n",
      "\n",
      "------Cluster 8: 33 jobs --------\n",
      "\n",
      "------Cluster 9: 10 jobs --------\n",
      "\n",
      "------Cluster 10: 81 jobs --------\n",
      "\n",
      "------Cluster 11: 30 jobs --------\n",
      "\n",
      "------Cluster 12: 37 jobs --------\n",
      "\n",
      "------Cluster 13: 39 jobs --------\n",
      "\n",
      "------Cluster 14: 12 jobs --------\n",
      "\n",
      "------Cluster 15: 32 jobs --------\n",
      "\n",
      "------Cluster 16: 27 jobs --------\n",
      "\n",
      "------Cluster 17: 19 jobs --------\n",
      "\n",
      "------Cluster 18: 10 jobs --------\n",
      "\n",
      "------Cluster 19: 90 jobs --------\n",
      "\n",
      "------Cluster 20: 79 jobs --------\n",
      "\n",
      "------Cluster 21: 72 jobs --------\n",
      "\n",
      "------Cluster 22: 9 jobs --------\n",
      "\n",
      "------Cluster 23: 72 jobs --------\n",
      "\n",
      "------Cluster 24: 11 jobs --------\n",
      "\n",
      "------Cluster 25: 15 jobs --------\n",
      "\n",
      "------Cluster 26: 28 jobs --------\n",
      "\n",
      "------Cluster 27: 8 jobs --------\n",
      "\n",
      "------Cluster 28: 10 jobs --------\n",
      "\n",
      "------Cluster 29: 40 jobs --------\n",
      "\n",
      "------Cluster 30: 14 jobs --------\n",
      "\n",
      "------Cluster 31: 33 jobs --------\n",
      "\n",
      "------Cluster 32: 35 jobs --------\n",
      "\n",
      "------Cluster 33: 21 jobs --------\n",
      "\n",
      "------Cluster 34: 84 jobs --------\n",
      "\n",
      "------Cluster 35: 9 jobs --------\n",
      "\n",
      "------Cluster 36: 12 jobs --------\n",
      "\n"
     ]
    }
   ],
   "source": [
    "# print cluster sizes\n",
    "for cluster, instances in dict_of_clusters.items():\n",
    "    print(f'------Cluster {cluster}: {len(instances)} jobs --------')\n",
    "    print()"
   ]
  },
  {
   "cell_type": "code",
   "execution_count": 15,
   "id": "afe31f46",
   "metadata": {},
   "outputs": [
    {
     "data": {
      "image/png": "[encoded data removed]",
      "text/plain": [
       "<Figure size 432x288 with 1 Axes>"
      ]
     },
     "metadata": {
      "needs_background": "light"
     },
     "output_type": "display_data"
    }
   ],
   "source": [
    "# plot the results\n",
    "clusters = [c for c in range(best_k)]\n",
    "colors = cm.rainbow(np.linspace(0, 1, Ks[3]))\n",
    "for cluster, c in zip(clusters, colors):\n",
    "    data = np.array(dict_of_clusters[cluster])\n",
    "    plt.scatter(data[:, 0], data[:, 1], color=c)"
   ]
  },
  {
   "cell_type": "markdown",
   "id": "8d65dd42",
   "metadata": {},
   "source": [
    "# PART 2 - Order The Clusters "
   ]
  },
  {
   "cell_type": "code",
   "execution_count": 16,
   "id": "3fd5238b",
   "metadata": {},
   "outputs": [],
   "source": [
    "# centers (centroids) of clusters\n",
    "centers = best_kmeans.cluster_centers_"
   ]
  },
  {
   "cell_type": "code",
   "execution_count": 17,
   "id": "6b1858da",
   "metadata": {},
   "outputs": [],
   "source": [
    "# radius of the Earth\n",
    "R = 6373.0\n",
    "\n",
    "def compute_distance(place_1, place_2):\n",
    "    \"\"\"\n",
    "    compute the distance between two lat-long coordinates\n",
    "\n",
    "    Input:\n",
    "\n",
    "    place_1 - tuple : (latitude, longitude) of place 1\n",
    "    place_2 - tuple : (latitude, longitude) of place 2\n",
    "\n",
    "    Returns:\n",
    "    distance - float number \n",
    "    \"\"\"    \n",
    "    \n",
    "    distance_lat = place_2[0] - place_1[0]\n",
    "    distance_long = place_2[1] - place_1[1]\n",
    "\n",
    "    #Haverinse formula \n",
    "    x = math.sin(distance_lat / 2)**2 + math.cos(place_1[0]) * math.cos(place_2[0]) * math.sin(distance_long / 2)**2\n",
    "\n",
    "    y = 2 * math.atan2(math.sqrt(x), math.sqrt(1 - x))\n",
    "\n",
    "    return R * y"
   ]
  },
  {
   "cell_type": "markdown",
   "id": "1cfaaf44",
   "metadata": {},
   "source": [
    "### 2a -\n",
    "- Order the cluster according to the distances between them. \n",
    "- All data points in the same cluster will get the same index."
   ]
  },
  {
   "cell_type": "code",
   "execution_count": 18,
   "id": "c068cbe5",
   "metadata": {},
   "outputs": [],
   "source": [
    "# order the clusters according to distance from cluster 0 \n",
    "\n",
    "d_array = [(0,0)]\n",
    "c_0 = centers[0]\n",
    "for idx, c in enumerate(centers[1:]):\n",
    "    d_array += [(compute_distance(c_0, c), idx + 1)]\n",
    "cluster_distance = sorted(d_array, key=lambda x: x[0]) \n",
    "\n",
    "dict_cluster_to_idx = {c[1] : idx for idx, c in enumerate(cluster_distance)}\n",
    "\n",
    "idx_res_column = []\n",
    "\n",
    "# for each row add the relevent number according to the order of the clusters\n",
    "for label in labels:\n",
    "    idx_res_column += [dict_cluster_to_idx[label]]    "
   ]
  },
  {
   "cell_type": "code",
   "execution_count": 19,
   "id": "0b91e379",
   "metadata": {},
   "outputs": [],
   "source": [
    "# add the column to the dataFrame\n",
    "df['Index'] = idx_res_column"
   ]
  },
  {
   "cell_type": "code",
   "execution_count": 20,
   "id": "2671f9ca",
   "metadata": {},
   "outputs": [],
   "source": [
    "# craete result new excel\n",
    "df.to_excel('results(2a).xlsx', sheet_name='results')"
   ]
  },
  {
   "cell_type": "markdown",
   "id": "7c053be5",
   "metadata": {},
   "source": [
    "### 2b - \n",
    "Order the cluters by executing shortest path algorithm on each cluster. "
   ]
  },
  {
   "cell_type": "code",
   "execution_count": 21,
   "id": "7143d9b2",
   "metadata": {},
   "outputs": [],
   "source": [
    "# seprate the datapoints according to their cluster\n",
    "# save id = job's row.\n",
    "separate_dataset = [[] for cluster in range(best_k)]\n",
    "id = 0\n",
    "for datapoint, label in zip(dataset, labels):\n",
    "    separate_dataset[label].append((id, datapoint))\n",
    "    id += 1"
   ]
  },
  {
   "cell_type": "markdown",
   "id": "5b2fc8e7",
   "metadata": {},
   "source": [
    "Shoretest path Algorithm: \n",
    "### Dijkstra algorithm\n",
    "\n",
    "- We execute SP on every cluster according to the order we achieved above.\n",
    "- Fisrt iteration: \n",
    "    - Startpoint: take random datapoint\n",
    "    - Endpoint: random datapoint from the next cluster\n",
    "- Next iterations:\n",
    "    - StartPoint: the endpoint from the previous iteration\n",
    "    - Endpoint: random datapoint from the next cluster"
   ]
  },
  {
   "cell_type": "code",
   "execution_count": 22,
   "id": "519e832f",
   "metadata": {},
   "outputs": [],
   "source": [
    "# save the oredr of the clusters\n",
    "cluster_order = [c[1] for c in cluster_distance]"
   ]
  },
  {
   "cell_type": "code",
   "execution_count": 23,
   "id": "080a70b8",
   "metadata": {},
   "outputs": [],
   "source": [
    "MAX_VALUE = sys.float_info.max"
   ]
  },
  {
   "cell_type": "code",
   "execution_count": 24,
   "id": "41451fd0",
   "metadata": {},
   "outputs": [],
   "source": [
    "class Vertex: \n",
    "    \n",
    "    def __init__(self, job, is_root=False):\n",
    "        self.id = job[0]\n",
    "        self.place = job[1]\n",
    "        self.distance = 0 if (is_root) else MAX_VALUE\n",
    "        self.parent = None\n",
    "\n",
    "\n",
    "    def relax(self, v):\n",
    "        distance_from_self_to_v = compute_distance(self.place, v.place) \n",
    "        if v.distance > self.distance + distance_from_self_to_v:\n",
    "            v.distance = self.distance + distance_from_self_to_v\n",
    "            v.parent = self.id\n",
    "            \n",
    "    # implemt =, < for using heapq on vertex\n",
    "    def __eq__(self, other):\n",
    "        if self.distance == other.distance:\n",
    "            return True\n",
    "        else:\n",
    "            return False\n",
    "\n",
    "    def __lt__(self, other):\n",
    "        if self.distance < other.distance:\n",
    "            return True\n",
    "        else:\n",
    "            return False"
   ]
  },
  {
   "cell_type": "code",
   "execution_count": 25,
   "id": "6b8e7d48",
   "metadata": {},
   "outputs": [],
   "source": [
    "idx = 0\n",
    "results = []\n",
    "for cluster in range(best_k):\n",
    "    root = Vertex(separate_dataset[cluster][0], is_root=True)\n",
    "    G = [Vertex(datapoint) for datapoint in separate_dataset[cluster][1:]]\n",
    "    G.append(root)\n",
    "    # we do not use E since there are edges between all the vertices\n",
    "    #E = [(v1.id, v2.id) for v1 in G for v2 in G]\n",
    "\n",
    "    # ------- Execute DIJKSTRA -------- #\n",
    "    priority_queue = []\n",
    "    #push all vertices\n",
    "    for v in G:\n",
    "        heapq.heappush(priority_queue, v)\n",
    "    while priority_queue != []:\n",
    "        # dequeue the smallest vertex (according to the distance field)\n",
    "        u = heapq.heappop(priority_queue)\n",
    "        results.append((u.id, idx)) #u.index = idx  ->. at Dijkstra the first to leave th queue is the closet to the begining\n",
    "        for v in G:\n",
    "            u.relax(v)\n",
    "        idx +=1"
   ]
  },
  {
   "cell_type": "code",
   "execution_count": 26,
   "id": "fe9e568a",
   "metadata": {},
   "outputs": [],
   "source": [
    "#sort result according to rows order ('id')\n",
    "results.sort(key=lambda row: row[0])\n",
    "results = [row[1] for row in results]"
   ]
  },
  {
   "cell_type": "code",
   "execution_count": 27,
   "id": "93e7ef2c",
   "metadata": {},
   "outputs": [],
   "source": [
    "# add the column to the dataFrame\n",
    "df['Index'] = results"
   ]
  },
  {
   "cell_type": "code",
   "execution_count": 28,
   "id": "610a8782",
   "metadata": {},
   "outputs": [],
   "source": [
    "# craete result new excel\n",
    "df.to_excel('results(2b).xlsx', sheet_name='results')"
   ]
  },
  {
   "cell_type": "code",
   "execution_count": null,
   "id": "b6b8d1ac",
   "metadata": {},
   "outputs": [],
   "source": []
  }
 ],
 "metadata": {
  "kernelspec": {
   "display_name": "Python 3",
   "language": "python",
   "name": "python3"
  },
  "language_info": {
   "codemirror_mode": {
    "name": "ipython",
    "version": 3
   },
   "file_extension": ".py",
   "mimetype": "text/x-python",
   "name": "python",
   "nbconvert_exporter": "python",
   "pygments_lexer": "ipython3",
   "version": "3.8.8"
  }
 },
 "nbformat": 4,
 "nbformat_minor": 5
}

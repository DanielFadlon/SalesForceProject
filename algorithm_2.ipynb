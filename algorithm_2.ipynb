{
 "cells": [
  {
   "cell_type": "markdown",
   "metadata": {},
   "source": [
    "# Algorithm 2"
   ]
  },
  {
   "cell_type": "markdown",
   "metadata": {},
   "source": [
    "### PART 1 -  \n",
    "#### Execute KMeans. \n",
    "Try to find automatticaly the 'elbow' - the best K results ( withour relating to the daily hours or to the number of resources).\n",
    "\n",
    "### PART 2 - \n",
    "#### Order The Clusters.\n",
    " * 2a- Index all datapoints (jobs) in a cluster with the same index, when indexing is according to the distance between the clusters.\n",
    " * 2b- Execute Shortest Path algorithm at each cluster, connect the cluster by the closest datapoints (jobs). (Index each datapoint with different index)"
   ]
  },
  {
   "cell_type": "code",
   "execution_count": 1,
   "metadata": {},
   "outputs": [],
   "source": [
    "import sys\n",
    "import numpy as np # used for scientific computing\\n\",\n",
    "import pandas as pd # used for data analysis and manipulation\\n\",\n",
    "import matplotlib.pyplot as plt # used for visualization and plotting\\n\",\n",
    "import matplotlib.cm as cm\n",
    "import math\n",
    "from sklearn.cluster import KMeans \n",
    "import heapq"
   ]
  },
  {
   "cell_type": "code",
   "execution_count": 2,
   "metadata": {},
   "outputs": [],
   "source": [
    "name_of_file = 'fourth_dataset'"
   ]
  },
  {
   "cell_type": "code",
   "execution_count": 3,
   "metadata": {},
   "outputs": [],
   "source": [
    "# read the data\n",
    "df = pd.read_excel(f'Data/{name_of_file}.xlsx')"
   ]
  },
  {
   "cell_type": "code",
   "execution_count": 4,
   "metadata": {},
   "outputs": [
    {
     "data": {
      "text/html": [
       "<div>\n",
       "<style scoped>\n",
       "    .dataframe tbody tr th:only-of-type {\n",
       "        vertical-align: middle;\n",
       "    }\n",
       "\n",
       "    .dataframe tbody tr th {\n",
       "        vertical-align: top;\n",
       "    }\n",
       "\n",
       "    .dataframe thead th {\n",
       "        text-align: right;\n",
       "    }\n",
       "</style>\n",
       "<table border=\"1\" class=\"dataframe\">\n",
       "  <thead>\n",
       "    <tr style=\"text-align: right;\">\n",
       "      <th></th>\n",
       "      <th>_</th>\n",
       "      <th>Id</th>\n",
       "      <th>AppointmentNumber</th>\n",
       "      <th>Latitude</th>\n",
       "      <th>Longitude</th>\n",
       "      <th>IDC_Index__c</th>\n",
       "      <th>EarliestStartTime</th>\n",
       "      <th>DurationInMinutes</th>\n",
       "    </tr>\n",
       "  </thead>\n",
       "  <tbody>\n",
       "    <tr>\n",
       "      <th>0</th>\n",
       "      <td>[ServiceAppointment]</td>\n",
       "      <td>08p4L000000lKo4QAE</td>\n",
       "      <td>SA-5319</td>\n",
       "      <td>19.460891</td>\n",
       "      <td>-99.139634</td>\n",
       "      <td>NaN</td>\n",
       "      <td>2021-12-21T00:00:00.000+0000</td>\n",
       "      <td>14</td>\n",
       "    </tr>\n",
       "    <tr>\n",
       "      <th>1</th>\n",
       "      <td>[ServiceAppointment]</td>\n",
       "      <td>08p4L000000lKo5QAE</td>\n",
       "      <td>SA-5320</td>\n",
       "      <td>19.368634</td>\n",
       "      <td>-99.145334</td>\n",
       "      <td>NaN</td>\n",
       "      <td>2021-12-21T00:00:00.000+0000</td>\n",
       "      <td>14</td>\n",
       "    </tr>\n",
       "    <tr>\n",
       "      <th>2</th>\n",
       "      <td>[ServiceAppointment]</td>\n",
       "      <td>08p4L000000lKoCQAU</td>\n",
       "      <td>SA-5327</td>\n",
       "      <td>19.493341</td>\n",
       "      <td>-99.190447</td>\n",
       "      <td>NaN</td>\n",
       "      <td>2021-12-21T00:00:00.000+0000</td>\n",
       "      <td>14</td>\n",
       "    </tr>\n",
       "    <tr>\n",
       "      <th>3</th>\n",
       "      <td>[ServiceAppointment]</td>\n",
       "      <td>08p4L000000lKoDQAU</td>\n",
       "      <td>SA-5328</td>\n",
       "      <td>19.462779</td>\n",
       "      <td>-99.135322</td>\n",
       "      <td>NaN</td>\n",
       "      <td>2021-12-21T00:00:00.000+0000</td>\n",
       "      <td>14</td>\n",
       "    </tr>\n",
       "    <tr>\n",
       "      <th>4</th>\n",
       "      <td>[ServiceAppointment]</td>\n",
       "      <td>08p4L000000lKo9QAE</td>\n",
       "      <td>SA-5324</td>\n",
       "      <td>19.487029</td>\n",
       "      <td>-99.198889</td>\n",
       "      <td>NaN</td>\n",
       "      <td>2021-12-21T00:00:00.000+0000</td>\n",
       "      <td>14</td>\n",
       "    </tr>\n",
       "    <tr>\n",
       "      <th>...</th>\n",
       "      <td>...</td>\n",
       "      <td>...</td>\n",
       "      <td>...</td>\n",
       "      <td>...</td>\n",
       "      <td>...</td>\n",
       "      <td>...</td>\n",
       "      <td>...</td>\n",
       "      <td>...</td>\n",
       "    </tr>\n",
       "    <tr>\n",
       "      <th>1569</th>\n",
       "      <td>[ServiceAppointment]</td>\n",
       "      <td>08p4L000000lKqvQAE</td>\n",
       "      <td>SA-5496</td>\n",
       "      <td>19.410017</td>\n",
       "      <td>-99.175183</td>\n",
       "      <td>NaN</td>\n",
       "      <td>2021-12-21T00:00:00.000+0000</td>\n",
       "      <td>14</td>\n",
       "    </tr>\n",
       "    <tr>\n",
       "      <th>1570</th>\n",
       "      <td>[ServiceAppointment]</td>\n",
       "      <td>08p4L000000lKqwQAE</td>\n",
       "      <td>SA-5497</td>\n",
       "      <td>19.404777</td>\n",
       "      <td>-99.169003</td>\n",
       "      <td>NaN</td>\n",
       "      <td>2021-12-21T00:00:00.000+0000</td>\n",
       "      <td>14</td>\n",
       "    </tr>\n",
       "    <tr>\n",
       "      <th>1571</th>\n",
       "      <td>[ServiceAppointment]</td>\n",
       "      <td>08p4L000000lKqsQAE</td>\n",
       "      <td>SA-5493</td>\n",
       "      <td>19.453365</td>\n",
       "      <td>-99.130240</td>\n",
       "      <td>NaN</td>\n",
       "      <td>2021-12-21T00:00:00.000+0000</td>\n",
       "      <td>14</td>\n",
       "    </tr>\n",
       "    <tr>\n",
       "      <th>1572</th>\n",
       "      <td>[ServiceAppointment]</td>\n",
       "      <td>08p4L000000lKqtQAE</td>\n",
       "      <td>SA-5494</td>\n",
       "      <td>19.452480</td>\n",
       "      <td>-99.145865</td>\n",
       "      <td>NaN</td>\n",
       "      <td>2021-12-21T00:00:00.000+0000</td>\n",
       "      <td>14</td>\n",
       "    </tr>\n",
       "    <tr>\n",
       "      <th>1573</th>\n",
       "      <td>[ServiceAppointment]</td>\n",
       "      <td>08p4L000000lKqxQAE</td>\n",
       "      <td>SA-5498</td>\n",
       "      <td>19.457710</td>\n",
       "      <td>-99.143010</td>\n",
       "      <td>NaN</td>\n",
       "      <td>2021-12-21T00:00:00.000+0000</td>\n",
       "      <td>14</td>\n",
       "    </tr>\n",
       "  </tbody>\n",
       "</table>\n",
       "<p>1574 rows × 8 columns</p>\n",
       "</div>"
      ],
      "text/plain": [
       "                         _                  Id AppointmentNumber   Latitude  \\\n",
       "0     [ServiceAppointment]  08p4L000000lKo4QAE           SA-5319  19.460891   \n",
       "1     [ServiceAppointment]  08p4L000000lKo5QAE           SA-5320  19.368634   \n",
       "2     [ServiceAppointment]  08p4L000000lKoCQAU           SA-5327  19.493341   \n",
       "3     [ServiceAppointment]  08p4L000000lKoDQAU           SA-5328  19.462779   \n",
       "4     [ServiceAppointment]  08p4L000000lKo9QAE           SA-5324  19.487029   \n",
       "...                    ...                 ...               ...        ...   \n",
       "1569  [ServiceAppointment]  08p4L000000lKqvQAE           SA-5496  19.410017   \n",
       "1570  [ServiceAppointment]  08p4L000000lKqwQAE           SA-5497  19.404777   \n",
       "1571  [ServiceAppointment]  08p4L000000lKqsQAE           SA-5493  19.453365   \n",
       "1572  [ServiceAppointment]  08p4L000000lKqtQAE           SA-5494  19.452480   \n",
       "1573  [ServiceAppointment]  08p4L000000lKqxQAE           SA-5498  19.457710   \n",
       "\n",
       "      Longitude  IDC_Index__c             EarliestStartTime  DurationInMinutes  \n",
       "0    -99.139634           NaN  2021-12-21T00:00:00.000+0000                 14  \n",
       "1    -99.145334           NaN  2021-12-21T00:00:00.000+0000                 14  \n",
       "2    -99.190447           NaN  2021-12-21T00:00:00.000+0000                 14  \n",
       "3    -99.135322           NaN  2021-12-21T00:00:00.000+0000                 14  \n",
       "4    -99.198889           NaN  2021-12-21T00:00:00.000+0000                 14  \n",
       "...         ...           ...                           ...                ...  \n",
       "1569 -99.175183           NaN  2021-12-21T00:00:00.000+0000                 14  \n",
       "1570 -99.169003           NaN  2021-12-21T00:00:00.000+0000                 14  \n",
       "1571 -99.130240           NaN  2021-12-21T00:00:00.000+0000                 14  \n",
       "1572 -99.145865           NaN  2021-12-21T00:00:00.000+0000                 14  \n",
       "1573 -99.143010           NaN  2021-12-21T00:00:00.000+0000                 14  \n",
       "\n",
       "[1574 rows x 8 columns]"
      ]
     },
     "execution_count": 4,
     "metadata": {},
     "output_type": "execute_result"
    }
   ],
   "source": [
    "# verify the data\n",
    "df"
   ]
  },
  {
   "cell_type": "code",
   "execution_count": 5,
   "metadata": {},
   "outputs": [],
   "source": [
    "def plot(c): \n",
    "    plt.scatter(df['Latitude'], df['Longitude'], color=c)"
   ]
  },
  {
   "cell_type": "code",
   "execution_count": 6,
   "metadata": {},
   "outputs": [
    {
     "data": {
      "image/png": "[encoded data removed]",
      "text/plain": [
       "<Figure size 432x288 with 1 Axes>"
      ]
     },
     "metadata": {
      "needs_background": "light"
     },
     "output_type": "display_data"
    }
   ],
   "source": [
    "# map of the jobs\n",
    "plot('blue')"
   ]
  },
  {
   "cell_type": "code",
   "execution_count": 7,
   "metadata": {},
   "outputs": [],
   "source": [
    "# extract the relvent columns\n",
    "dataset = np.array(df[['Latitude', 'Longitude']])"
   ]
  },
  {
   "cell_type": "code",
   "execution_count": 8,
   "metadata": {},
   "outputs": [
    {
     "data": {
      "text/plain": [
       "array([[ 19.460891, -99.139634],\n",
       "       [ 19.368634, -99.145334],\n",
       "       [ 19.493341, -99.190447],\n",
       "       ...,\n",
       "       [ 19.453365, -99.13024 ],\n",
       "       [ 19.45248 , -99.145865],\n",
       "       [ 19.45771 , -99.14301 ]])"
      ]
     },
     "execution_count": 8,
     "metadata": {},
     "output_type": "execute_result"
    }
   ],
   "source": [
    "# verify the exctraction\n",
    "dataset"
   ]
  },
  {
   "cell_type": "markdown",
   "metadata": {},
   "source": [
    "# PART 1 - KMEANS"
   ]
  },
  {
   "cell_type": "code",
   "execution_count": 9,
   "metadata": {},
   "outputs": [],
   "source": [
    "# K to check for the KMeans\n",
    "Ks = [k for k in range(4, 150)]"
   ]
  },
  {
   "cell_type": "code",
   "execution_count": 10,
   "metadata": {},
   "outputs": [],
   "source": [
    "# execute KMeans for each K in Ks\n",
    "inertia_lst = []\n",
    "for k in Ks:\n",
    "    kmeans = KMeans(n_clusters=k, random_state=0)\n",
    "    # fit the data\n",
    "    _ = kmeans.fit_predict(dataset)\n",
    "    # save inertia\n",
    "    inertia_lst.append(kmeans.inertia_)"
   ]
  },
  {
   "cell_type": "code",
   "execution_count": 11,
   "metadata": {},
   "outputs": [
    {
     "data": {
      "text/plain": [
       "[<matplotlib.lines.Line2D at 0x29cff986550>]"
      ]
     },
     "execution_count": 11,
     "metadata": {},
     "output_type": "execute_result"
    },
    {
     "data": {
      "image/png": "[encoded data removed]",
      "text/plain": [
       "<Figure size 432x288 with 1 Axes>"
      ]
     },
     "metadata": {
      "needs_background": "light"
     },
     "output_type": "display_data"
    }
   ],
   "source": [
    "# plot inertia as function of number of clusers (k)\n",
    "plt.plot(Ks, inertia_lst, marker=11)"
   ]
  },
  {
   "cell_type": "markdown",
   "metadata": {},
   "source": [
    "finding the elbow is the method to find the best K. \n",
    "The solution is not optimal which means it is not return the best result any time.\n",
    "In contrast, the result will be always close to the truth and the small error may not affect on our results drastically."
   ]
  },
  {
   "cell_type": "code",
   "execution_count": 12,
   "metadata": {},
   "outputs": [],
   "source": [
    "# finding the elbow\n",
    "length = len(inertia_lst) - 1\n",
    "\n",
    "# delta_1: index=0 -> #cluster=2 -> best_k_idx=1\n",
    "delta_1 = [inertia_lst[i] - inertia_lst[i+1] for i in range(length)]\n",
    "\n",
    "# delta_2: index 0 -> #cluster=3 -> best_k_idx=2\n",
    "delta_2 = [delta_1[i] - delta_1[i+1] for i in range(length - 1)]\n",
    "\n",
    "strength = [(i, delta_2[i+1] - delta_1[i+2]) for i in range(length - 2) if delta_1[i+1] >= 0 and delta_2[i+1] >= 0]\n",
    "\n",
    "best_k_idx = max(strength,key=lambda t: t[1])[0] + 2\n",
    "best_k = Ks[best_k_idx]"
   ]
  },
  {
   "cell_type": "code",
   "execution_count": 13,
   "metadata": {},
   "outputs": [],
   "source": [
    "# get the best KMeans , n_clusters=best_k\n",
    "best_kmeans = KMeans(n_clusters=best_k, random_state=0)"
   ]
  },
  {
   "cell_type": "code",
   "execution_count": 14,
   "metadata": {},
   "outputs": [],
   "source": [
    "# seperate the instances to clusters\n",
    "\n",
    "# get labels \n",
    "labels = best_kmeans.fit_predict(dataset)\n",
    "\n",
    "# init dictionary\n",
    "dict_of_clusters = {cluster: [] for cluster in range(best_k)}\n",
    "\n",
    "for idx, instance in enumerate(dataset):\n",
    "    dict_of_clusters[labels[idx]].append(instance)"
   ]
  },
  {
   "cell_type": "code",
   "execution_count": 15,
   "metadata": {},
   "outputs": [
    {
     "name": "stdout",
     "output_type": "stream",
     "text": [
      "------Cluster 0: 31 jobs --------\n",
      "\n",
      "------Cluster 1: 50 jobs --------\n",
      "\n",
      "------Cluster 2: 23 jobs --------\n",
      "\n",
      "------Cluster 3: 17 jobs --------\n",
      "\n",
      "------Cluster 4: 16 jobs --------\n",
      "\n",
      "------Cluster 5: 30 jobs --------\n",
      "\n",
      "------Cluster 6: 21 jobs --------\n",
      "\n",
      "------Cluster 7: 27 jobs --------\n",
      "\n",
      "------Cluster 8: 7 jobs --------\n",
      "\n",
      "------Cluster 9: 16 jobs --------\n",
      "\n",
      "------Cluster 10: 25 jobs --------\n",
      "\n",
      "------Cluster 11: 19 jobs --------\n",
      "\n",
      "------Cluster 12: 15 jobs --------\n",
      "\n",
      "------Cluster 13: 22 jobs --------\n",
      "\n",
      "------Cluster 14: 1 jobs --------\n",
      "\n",
      "------Cluster 15: 12 jobs --------\n",
      "\n",
      "------Cluster 16: 3 jobs --------\n",
      "\n",
      "------Cluster 17: 14 jobs --------\n",
      "\n",
      "------Cluster 18: 5 jobs --------\n",
      "\n",
      "------Cluster 19: 23 jobs --------\n",
      "\n",
      "------Cluster 20: 29 jobs --------\n",
      "\n",
      "------Cluster 21: 53 jobs --------\n",
      "\n",
      "------Cluster 22: 7 jobs --------\n",
      "\n",
      "------Cluster 23: 8 jobs --------\n",
      "\n",
      "------Cluster 24: 8 jobs --------\n",
      "\n",
      "------Cluster 25: 8 jobs --------\n",
      "\n",
      "------Cluster 26: 26 jobs --------\n",
      "\n",
      "------Cluster 27: 13 jobs --------\n",
      "\n",
      "------Cluster 28: 8 jobs --------\n",
      "\n",
      "------Cluster 29: 31 jobs --------\n",
      "\n",
      "------Cluster 30: 8 jobs --------\n",
      "\n",
      "------Cluster 31: 9 jobs --------\n",
      "\n",
      "------Cluster 32: 26 jobs --------\n",
      "\n",
      "------Cluster 33: 31 jobs --------\n",
      "\n",
      "------Cluster 34: 11 jobs --------\n",
      "\n",
      "------Cluster 35: 10 jobs --------\n",
      "\n",
      "------Cluster 36: 10 jobs --------\n",
      "\n",
      "------Cluster 37: 10 jobs --------\n",
      "\n",
      "------Cluster 38: 32 jobs --------\n",
      "\n",
      "------Cluster 39: 20 jobs --------\n",
      "\n",
      "------Cluster 40: 36 jobs --------\n",
      "\n",
      "------Cluster 41: 11 jobs --------\n",
      "\n",
      "------Cluster 42: 18 jobs --------\n",
      "\n",
      "------Cluster 43: 40 jobs --------\n",
      "\n",
      "------Cluster 44: 9 jobs --------\n",
      "\n",
      "------Cluster 45: 25 jobs --------\n",
      "\n",
      "------Cluster 46: 4 jobs --------\n",
      "\n",
      "------Cluster 47: 20 jobs --------\n",
      "\n",
      "------Cluster 48: 55 jobs --------\n",
      "\n",
      "------Cluster 49: 20 jobs --------\n",
      "\n",
      "------Cluster 50: 22 jobs --------\n",
      "\n",
      "------Cluster 51: 1 jobs --------\n",
      "\n",
      "------Cluster 52: 4 jobs --------\n",
      "\n",
      "------Cluster 53: 9 jobs --------\n",
      "\n",
      "------Cluster 54: 9 jobs --------\n",
      "\n",
      "------Cluster 55: 4 jobs --------\n",
      "\n",
      "------Cluster 56: 14 jobs --------\n",
      "\n",
      "------Cluster 57: 85 jobs --------\n",
      "\n",
      "------Cluster 58: 17 jobs --------\n",
      "\n",
      "------Cluster 59: 18 jobs --------\n",
      "\n",
      "------Cluster 60: 26 jobs --------\n",
      "\n",
      "------Cluster 61: 9 jobs --------\n",
      "\n",
      "------Cluster 62: 15 jobs --------\n",
      "\n",
      "------Cluster 63: 31 jobs --------\n",
      "\n",
      "------Cluster 64: 22 jobs --------\n",
      "\n",
      "------Cluster 65: 4 jobs --------\n",
      "\n",
      "------Cluster 66: 22 jobs --------\n",
      "\n",
      "------Cluster 67: 24 jobs --------\n",
      "\n",
      "------Cluster 68: 3 jobs --------\n",
      "\n",
      "------Cluster 69: 14 jobs --------\n",
      "\n",
      "------Cluster 70: 22 jobs --------\n",
      "\n",
      "------Cluster 71: 34 jobs --------\n",
      "\n",
      "------Cluster 72: 3 jobs --------\n",
      "\n",
      "------Cluster 73: 10 jobs --------\n",
      "\n",
      "------Cluster 74: 6 jobs --------\n",
      "\n",
      "------Cluster 75: 43 jobs --------\n",
      "\n",
      "------Cluster 76: 9 jobs --------\n",
      "\n",
      "------Cluster 77: 7 jobs --------\n",
      "\n",
      "------Cluster 78: 4 jobs --------\n",
      "\n",
      "------Cluster 79: 23 jobs --------\n",
      "\n",
      "------Cluster 80: 6 jobs --------\n",
      "\n",
      "------Cluster 81: 23 jobs --------\n",
      "\n",
      "------Cluster 82: 14 jobs --------\n",
      "\n",
      "------Cluster 83: 13 jobs --------\n",
      "\n",
      "------Cluster 84: 16 jobs --------\n",
      "\n",
      "------Cluster 85: 4 jobs --------\n",
      "\n",
      "------Cluster 86: 11 jobs --------\n",
      "\n"
     ]
    }
   ],
   "source": [
    "# print cluster sizes\n",
    "for cluster, instances in dict_of_clusters.items():\n",
    "    print(f'------Cluster {cluster}: {len(instances)} jobs --------')\n",
    "    print()"
   ]
  },
  {
   "cell_type": "code",
   "execution_count": 16,
   "metadata": {},
   "outputs": [
    {
     "data": {
      "image/png": "[encoded data removed]",
      "text/plain": [
       "<Figure size 432x288 with 1 Axes>"
      ]
     },
     "metadata": {
      "needs_background": "light"
     },
     "output_type": "display_data"
    }
   ],
   "source": [
    "# plot the results\n",
    "clusters = [c for c in range(best_k)]\n",
    "colors = cm.rainbow(np.linspace(0, 1, Ks[3]))\n",
    "for cluster, c in zip(clusters, colors):\n",
    "    data = np.array(dict_of_clusters[cluster])\n",
    "    plt.scatter(data[:, 0], data[:, 1], color=c)"
   ]
  },
  {
   "cell_type": "markdown",
   "metadata": {},
   "source": [
    "# PART 2 - Order The Clusters "
   ]
  },
  {
   "cell_type": "code",
   "execution_count": 17,
   "metadata": {},
   "outputs": [],
   "source": [
    "# centers (centroids) of clusters\n",
    "centers = best_kmeans.cluster_centers_"
   ]
  },
  {
   "cell_type": "code",
   "execution_count": 18,
   "metadata": {},
   "outputs": [],
   "source": [
    "# radius of the Earth\n",
    "R = 6373.0\n",
    "\n",
    "def compute_distance(place_1, place_2):\n",
    "    \"\"\"\n",
    "    compute the distance between two lat-long coordinates\n",
    "\n",
    "    Input:\n",
    "\n",
    "    place_1 - tuple : (latitude, longitude) of place 1\n",
    "    place_2 - tuple : (latitude, longitude) of place 2\n",
    "\n",
    "    Returns:\n",
    "    distance - float number \n",
    "    \"\"\"    \n",
    "    \n",
    "    distance_lat = place_2[0] - place_1[0]\n",
    "    distance_long = place_2[1] - place_1[1]\n",
    "\n",
    "    #Haverinse formula \n",
    "    x = math.sin(distance_lat / 2)**2 + math.cos(place_1[0]) * math.cos(place_2[0]) * math.sin(distance_long / 2)**2\n",
    "\n",
    "    y = 2 * math.atan2(math.sqrt(x), math.sqrt(1 - x))\n",
    "\n",
    "    return R * y"
   ]
  },
  {
   "cell_type": "markdown",
   "metadata": {},
   "source": [
    "### 2a -\n",
    "- Order the cluster according to the distances between them. \n",
    "- All data points in the same cluster will get the same index."
   ]
  },
  {
   "cell_type": "code",
   "execution_count": 19,
   "metadata": {},
   "outputs": [],
   "source": [
    "# order the clusters according to distance from cluster 0 \n",
    "\n",
    "d_array = [(0,0)]\n",
    "c_0 = centers[0]\n",
    "for idx, c in enumerate(centers[1:]):\n",
    "    d_array += [(compute_distance(c_0, c), idx + 1)]\n",
    "cluster_distance = sorted(d_array, key=lambda x: x[0]) \n",
    "\n",
    "dict_cluster_to_idx = {c[1] : idx for idx, c in enumerate(cluster_distance)}\n",
    "\n",
    "idx_res_column = []\n",
    "\n",
    "# for each row add the relevent number according to the order of the clusters\n",
    "for label in labels:\n",
    "    idx_res_column += [dict_cluster_to_idx[label]]    "
   ]
  },
  {
   "cell_type": "code",
   "execution_count": 20,
   "metadata": {},
   "outputs": [],
   "source": [
    "# add the column to the dataFrame\n",
    "df['IDC_Index__c'] = idx_res_column"
   ]
  },
  {
   "cell_type": "code",
   "execution_count": 21,
   "metadata": {},
   "outputs": [],
   "source": [
    "# craete result new excel\n",
    "df.to_excel(f'results_{name_of_file}_(2a).xlsx', sheet_name='results')"
   ]
  },
  {
   "cell_type": "markdown",
   "metadata": {},
   "source": [
    "### 2b - \n",
    "Order the cluters by executing shortest path algorithm on each cluster. "
   ]
  },
  {
   "cell_type": "code",
   "execution_count": 22,
   "metadata": {},
   "outputs": [],
   "source": [
    "# seprate the datapoints according to their cluster\n",
    "# save id = job's row.\n",
    "separate_dataset = [[] for cluster in range(best_k)]\n",
    "id = 0\n",
    "for datapoint, label in zip(dataset, labels):\n",
    "    separate_dataset[label].append((id, datapoint))\n",
    "    id += 1"
   ]
  },
  {
   "cell_type": "markdown",
   "metadata": {},
   "source": [
    "Shoretest path Algorithm: \n",
    "### Dijkstra algorithm\n",
    "\n",
    "- We execute SP on every cluster according to the order we achieved above.\n",
    "- Fisrt iteration: \n",
    "    - Startpoint: take random datapoint\n",
    "    - Endpoint: random datapoint from the next cluster\n",
    "- Next iterations:\n",
    "    - StartPoint: the endpoint from the previous iteration\n",
    "    - Endpoint: random datapoint from the next cluster"
   ]
  },
  {
   "cell_type": "code",
   "execution_count": 23,
   "metadata": {},
   "outputs": [],
   "source": [
    "# save the oredr of the clusters\n",
    "cluster_order = [c[1] for c in cluster_distance]"
   ]
  },
  {
   "cell_type": "code",
   "execution_count": 24,
   "metadata": {},
   "outputs": [],
   "source": [
    "MAX_VALUE = sys.float_info.max"
   ]
  },
  {
   "cell_type": "code",
   "execution_count": 25,
   "metadata": {},
   "outputs": [],
   "source": [
    "class Vertex: \n",
    "    \n",
    "    def __init__(self, job, is_root=False):\n",
    "        self.id = job[0]\n",
    "        self.place = job[1]\n",
    "        self.distance = 0 if (is_root) else MAX_VALUE\n",
    "        self.parent = None\n",
    "\n",
    "\n",
    "    def relax(self, v):\n",
    "        distance_from_self_to_v = compute_distance(self.place, v.place) \n",
    "        if v.distance > self.distance + distance_from_self_to_v:\n",
    "            v.distance = self.distance + distance_from_self_to_v\n",
    "            v.parent = self.id\n",
    "            \n",
    "    # implemt =, < for using heapq on vertex\n",
    "    def __eq__(self, other):\n",
    "        if self.distance == other.distance:\n",
    "            return True\n",
    "        else:\n",
    "            return False\n",
    "\n",
    "    def __lt__(self, other):\n",
    "        if self.distance < other.distance:\n",
    "            return True\n",
    "        else:\n",
    "            return False"
   ]
  },
  {
   "cell_type": "code",
   "execution_count": 26,
   "metadata": {},
   "outputs": [],
   "source": [
    "idx = 0\n",
    "results = []\n",
    "for cluster in range(best_k):\n",
    "    root = Vertex(separate_dataset[cluster][0], is_root=True)\n",
    "    G = [Vertex(datapoint) for datapoint in separate_dataset[cluster][1:]]\n",
    "    G.append(root)\n",
    "    # we do not use E since there are edges between all the vertices\n",
    "    #E = [(v1.id, v2.id) for v1 in G for v2 in G]\n",
    "\n",
    "    # ------- Execute DIJKSTRA -------- #\n",
    "    priority_queue = []\n",
    "    #push all vertices\n",
    "    for v in G:\n",
    "        heapq.heappush(priority_queue, v)\n",
    "    while priority_queue != []:\n",
    "        # dequeue the smallest vertex (according to the distance field)\n",
    "        u = heapq.heappop(priority_queue)\n",
    "        results.append((u.id, idx)) #u.index = idx  ->. at Dijkstra the first to leave th queue is the closet to the begining\n",
    "        for v in G:\n",
    "            u.relax(v)\n",
    "        idx +=1"
   ]
  },
  {
   "cell_type": "code",
   "execution_count": 27,
   "metadata": {},
   "outputs": [],
   "source": [
    "#sort result according to rows order ('id')\n",
    "results.sort(key=lambda row: row[0])\n",
    "results = [row[1] for row in results]"
   ]
  },
  {
   "cell_type": "code",
   "execution_count": 28,
   "metadata": {},
   "outputs": [],
   "source": [
    "# add the column to the dataFrame\n",
    "df['IDC_Index__c'] = results"
   ]
  },
  {
   "cell_type": "code",
   "execution_count": 29,
   "metadata": {},
   "outputs": [],
   "source": [
    "# craete result new excel\n",
    "df.to_excel(f'results_{name_of_file}_(2b).xlsx', sheet_name='results')"
   ]
  },
  {
   "cell_type": "markdown",
   "metadata": {},
   "source": [
    "### 2c -\n",
    "- For each cluster perform Kmeans inside him and create sub-cluster\n",
    "- Order the cluster according to the distances between them. \n",
    "- All data points in the same sub-cluster will get the same index."
   ]
  },
  {
   "cell_type": "code",
   "execution_count": 54,
   "metadata": {},
   "outputs": [],
   "source": [
    "df = pd.read_excel(f'results_{name_of_file}_(2a).xlsx')"
   ]
  },
  {
   "cell_type": "code",
   "execution_count": 55,
   "metadata": {},
   "outputs": [],
   "source": [
    "# K to check for the KMeans\n",
    "Ks = [k for k in range(2, 10)]"
   ]
  },
  {
   "cell_type": "code",
   "execution_count": 56,
   "metadata": {},
   "outputs": [
    {
     "name": "stdout",
     "output_type": "stream",
     "text": [
      "cluster : 0 length:  31\n",
      "cluster : 1 length:  50\n",
      "cluster : 2 length:  23\n",
      "cluster : 3 length:  17\n"
     ]
    },
    {
     "name": "stderr",
     "output_type": "stream",
     "text": [
      "C:\\Users\\yonat\\anaconda3\\lib\\site-packages\\sklearn\\cluster\\_kmeans.py:1122: ConvergenceWarning: Number of distinct clusters (6) found smaller than n_clusters (7). Possibly due to duplicate points in X.\n",
      "  return self.fit(X, sample_weight=sample_weight).labels_\n",
      "C:\\Users\\yonat\\anaconda3\\lib\\site-packages\\sklearn\\cluster\\_kmeans.py:1122: ConvergenceWarning: Number of distinct clusters (6) found smaller than n_clusters (8). Possibly due to duplicate points in X.\n",
      "  return self.fit(X, sample_weight=sample_weight).labels_\n",
      "C:\\Users\\yonat\\anaconda3\\lib\\site-packages\\sklearn\\cluster\\_kmeans.py:1122: ConvergenceWarning: Number of distinct clusters (6) found smaller than n_clusters (9). Possibly due to duplicate points in X.\n",
      "  return self.fit(X, sample_weight=sample_weight).labels_\n",
      "C:\\Users\\yonat\\anaconda3\\lib\\site-packages\\sklearn\\cluster\\_kmeans.py:1122: ConvergenceWarning: Number of distinct clusters (4) found smaller than n_clusters (5). Possibly due to duplicate points in X.\n",
      "  return self.fit(X, sample_weight=sample_weight).labels_\n",
      "C:\\Users\\yonat\\anaconda3\\lib\\site-packages\\sklearn\\cluster\\_kmeans.py:1122: ConvergenceWarning: Number of distinct clusters (4) found smaller than n_clusters (6). Possibly due to duplicate points in X.\n",
      "  return self.fit(X, sample_weight=sample_weight).labels_\n",
      "C:\\Users\\yonat\\anaconda3\\lib\\site-packages\\sklearn\\cluster\\_kmeans.py:1122: ConvergenceWarning: Number of distinct clusters (4) found smaller than n_clusters (7). Possibly due to duplicate points in X.\n",
      "  return self.fit(X, sample_weight=sample_weight).labels_\n",
      "C:\\Users\\yonat\\anaconda3\\lib\\site-packages\\sklearn\\cluster\\_kmeans.py:1122: ConvergenceWarning: Number of distinct clusters (4) found smaller than n_clusters (8). Possibly due to duplicate points in X.\n",
      "  return self.fit(X, sample_weight=sample_weight).labels_\n",
      "C:\\Users\\yonat\\anaconda3\\lib\\site-packages\\sklearn\\cluster\\_kmeans.py:1122: ConvergenceWarning: Number of distinct clusters (4) found smaller than n_clusters (9). Possibly due to duplicate points in X.\n",
      "  return self.fit(X, sample_weight=sample_weight).labels_\n"
     ]
    },
    {
     "name": "stdout",
     "output_type": "stream",
     "text": [
      "cluster : 4 length:  16\n",
      "cluster : 5 length:  30\n",
      "cluster : 6 length:  21\n",
      "cluster : 7 length:  27\n"
     ]
    },
    {
     "name": "stderr",
     "output_type": "stream",
     "text": [
      "C:\\Users\\yonat\\anaconda3\\lib\\site-packages\\sklearn\\cluster\\_kmeans.py:1122: ConvergenceWarning: Number of distinct clusters (6) found smaller than n_clusters (7). Possibly due to duplicate points in X.\n",
      "  return self.fit(X, sample_weight=sample_weight).labels_\n",
      "C:\\Users\\yonat\\anaconda3\\lib\\site-packages\\sklearn\\cluster\\_kmeans.py:1122: ConvergenceWarning: Number of distinct clusters (6) found smaller than n_clusters (8). Possibly due to duplicate points in X.\n",
      "  return self.fit(X, sample_weight=sample_weight).labels_\n",
      "C:\\Users\\yonat\\anaconda3\\lib\\site-packages\\sklearn\\cluster\\_kmeans.py:1122: ConvergenceWarning: Number of distinct clusters (6) found smaller than n_clusters (9). Possibly due to duplicate points in X.\n",
      "  return self.fit(X, sample_weight=sample_weight).labels_\n"
     ]
    },
    {
     "name": "stdout",
     "output_type": "stream",
     "text": [
      "cluster : 8 length:  7\n",
      "cluster : 9 length:  16\n",
      "cluster : 10 length:  25\n",
      "cluster : 11 length:  19\n",
      "cluster : 12 length:  15\n",
      "cluster : 13 length:  22\n",
      "cluster : 14 length:  1\n",
      "cluster : 15 length:  12\n"
     ]
    },
    {
     "name": "stderr",
     "output_type": "stream",
     "text": [
      "C:\\Users\\yonat\\anaconda3\\lib\\site-packages\\sklearn\\cluster\\_kmeans.py:1122: ConvergenceWarning: Number of distinct clusters (4) found smaller than n_clusters (5). Possibly due to duplicate points in X.\n",
      "  return self.fit(X, sample_weight=sample_weight).labels_\n",
      "C:\\Users\\yonat\\anaconda3\\lib\\site-packages\\sklearn\\cluster\\_kmeans.py:1122: ConvergenceWarning: Number of distinct clusters (4) found smaller than n_clusters (6). Possibly due to duplicate points in X.\n",
      "  return self.fit(X, sample_weight=sample_weight).labels_\n",
      "C:\\Users\\yonat\\anaconda3\\lib\\site-packages\\sklearn\\cluster\\_kmeans.py:1122: ConvergenceWarning: Number of distinct clusters (4) found smaller than n_clusters (7). Possibly due to duplicate points in X.\n",
      "  return self.fit(X, sample_weight=sample_weight).labels_\n",
      "C:\\Users\\yonat\\anaconda3\\lib\\site-packages\\sklearn\\cluster\\_kmeans.py:1122: ConvergenceWarning: Number of distinct clusters (4) found smaller than n_clusters (8). Possibly due to duplicate points in X.\n",
      "  return self.fit(X, sample_weight=sample_weight).labels_\n",
      "C:\\Users\\yonat\\anaconda3\\lib\\site-packages\\sklearn\\cluster\\_kmeans.py:1122: ConvergenceWarning: Number of distinct clusters (4) found smaller than n_clusters (9). Possibly due to duplicate points in X.\n",
      "  return self.fit(X, sample_weight=sample_weight).labels_\n",
      "C:\\Users\\yonat\\anaconda3\\lib\\site-packages\\sklearn\\cluster\\_kmeans.py:1122: ConvergenceWarning: Number of distinct clusters (5) found smaller than n_clusters (6). Possibly due to duplicate points in X.\n",
      "  return self.fit(X, sample_weight=sample_weight).labels_\n"
     ]
    },
    {
     "name": "stdout",
     "output_type": "stream",
     "text": [
      "cluster : 16 length:  3\n",
      "cluster : 17 length:  14\n"
     ]
    },
    {
     "name": "stderr",
     "output_type": "stream",
     "text": [
      "C:\\Users\\yonat\\anaconda3\\lib\\site-packages\\sklearn\\cluster\\_kmeans.py:1122: ConvergenceWarning: Number of distinct clusters (5) found smaller than n_clusters (7). Possibly due to duplicate points in X.\n",
      "  return self.fit(X, sample_weight=sample_weight).labels_\n",
      "C:\\Users\\yonat\\anaconda3\\lib\\site-packages\\sklearn\\cluster\\_kmeans.py:1122: ConvergenceWarning: Number of distinct clusters (5) found smaller than n_clusters (8). Possibly due to duplicate points in X.\n",
      "  return self.fit(X, sample_weight=sample_weight).labels_\n",
      "C:\\Users\\yonat\\anaconda3\\lib\\site-packages\\sklearn\\cluster\\_kmeans.py:1122: ConvergenceWarning: Number of distinct clusters (5) found smaller than n_clusters (9). Possibly due to duplicate points in X.\n",
      "  return self.fit(X, sample_weight=sample_weight).labels_\n"
     ]
    },
    {
     "name": "stdout",
     "output_type": "stream",
     "text": [
      "cluster : 18 length:  5\n",
      "cluster : 19 length:  23\n",
      "cluster : 20 length:  29\n",
      "cluster : 21 length:  53\n",
      "cluster : 22 length:  7\n",
      "cluster : 23 length:  8\n",
      "cluster : 24 length:  8\n",
      "cluster : 25 length:  8\n",
      "cluster : 26 length:  26\n",
      "cluster : 27 length:  13\n",
      "cluster : 28 length:  8\n",
      "cluster : 29 length:  31\n"
     ]
    },
    {
     "name": "stderr",
     "output_type": "stream",
     "text": [
      "C:\\Users\\yonat\\anaconda3\\lib\\site-packages\\sklearn\\cluster\\_kmeans.py:1122: ConvergenceWarning: Number of distinct clusters (4) found smaller than n_clusters (5). Possibly due to duplicate points in X.\n",
      "  return self.fit(X, sample_weight=sample_weight).labels_\n",
      "C:\\Users\\yonat\\anaconda3\\lib\\site-packages\\sklearn\\cluster\\_kmeans.py:1122: ConvergenceWarning: Number of distinct clusters (4) found smaller than n_clusters (6). Possibly due to duplicate points in X.\n",
      "  return self.fit(X, sample_weight=sample_weight).labels_\n",
      "C:\\Users\\yonat\\anaconda3\\lib\\site-packages\\sklearn\\cluster\\_kmeans.py:1122: ConvergenceWarning: Number of distinct clusters (4) found smaller than n_clusters (7). Possibly due to duplicate points in X.\n",
      "  return self.fit(X, sample_weight=sample_weight).labels_\n",
      "C:\\Users\\yonat\\anaconda3\\lib\\site-packages\\sklearn\\cluster\\_kmeans.py:1122: ConvergenceWarning: Number of distinct clusters (4) found smaller than n_clusters (8). Possibly due to duplicate points in X.\n",
      "  return self.fit(X, sample_weight=sample_weight).labels_\n",
      "C:\\Users\\yonat\\anaconda3\\lib\\site-packages\\sklearn\\cluster\\_kmeans.py:1122: ConvergenceWarning: Number of distinct clusters (4) found smaller than n_clusters (9). Possibly due to duplicate points in X.\n",
      "  return self.fit(X, sample_weight=sample_weight).labels_\n"
     ]
    },
    {
     "name": "stdout",
     "output_type": "stream",
     "text": [
      "cluster : 30 length:  8\n",
      "cluster : 31 length:  9\n",
      "cluster : 32 length:  26\n",
      "cluster : 33 length:  31\n",
      "cluster : 34 length:  11\n",
      "cluster : 35 length:  10\n",
      "cluster : 36 length:  10\n",
      "cluster : 37 length:  10\n",
      "cluster : 38 length:  32\n",
      "cluster : 39 length:  20\n",
      "cluster : 40 length:  36\n",
      "cluster : 41 length:  11\n"
     ]
    },
    {
     "name": "stderr",
     "output_type": "stream",
     "text": [
      "C:\\Users\\yonat\\anaconda3\\lib\\site-packages\\sklearn\\cluster\\_kmeans.py:1122: ConvergenceWarning: Number of distinct clusters (5) found smaller than n_clusters (6). Possibly due to duplicate points in X.\n",
      "  return self.fit(X, sample_weight=sample_weight).labels_\n",
      "C:\\Users\\yonat\\anaconda3\\lib\\site-packages\\sklearn\\cluster\\_kmeans.py:1122: ConvergenceWarning: Number of distinct clusters (5) found smaller than n_clusters (7). Possibly due to duplicate points in X.\n",
      "  return self.fit(X, sample_weight=sample_weight).labels_\n",
      "C:\\Users\\yonat\\anaconda3\\lib\\site-packages\\sklearn\\cluster\\_kmeans.py:1122: ConvergenceWarning: Number of distinct clusters (5) found smaller than n_clusters (8). Possibly due to duplicate points in X.\n",
      "  return self.fit(X, sample_weight=sample_weight).labels_\n",
      "C:\\Users\\yonat\\anaconda3\\lib\\site-packages\\sklearn\\cluster\\_kmeans.py:1122: ConvergenceWarning: Number of distinct clusters (5) found smaller than n_clusters (9). Possibly due to duplicate points in X.\n",
      "  return self.fit(X, sample_weight=sample_weight).labels_\n"
     ]
    },
    {
     "name": "stdout",
     "output_type": "stream",
     "text": [
      "cluster : 42 length:  18\n",
      "cluster : 43 length:  40\n"
     ]
    },
    {
     "name": "stderr",
     "output_type": "stream",
     "text": [
      "C:\\Users\\yonat\\anaconda3\\lib\\site-packages\\sklearn\\cluster\\_kmeans.py:1122: ConvergenceWarning: Number of distinct clusters (4) found smaller than n_clusters (5). Possibly due to duplicate points in X.\n",
      "  return self.fit(X, sample_weight=sample_weight).labels_\n",
      "C:\\Users\\yonat\\anaconda3\\lib\\site-packages\\sklearn\\cluster\\_kmeans.py:1122: ConvergenceWarning: Number of distinct clusters (4) found smaller than n_clusters (6). Possibly due to duplicate points in X.\n",
      "  return self.fit(X, sample_weight=sample_weight).labels_\n",
      "C:\\Users\\yonat\\anaconda3\\lib\\site-packages\\sklearn\\cluster\\_kmeans.py:1122: ConvergenceWarning: Number of distinct clusters (4) found smaller than n_clusters (7). Possibly due to duplicate points in X.\n",
      "  return self.fit(X, sample_weight=sample_weight).labels_\n",
      "C:\\Users\\yonat\\anaconda3\\lib\\site-packages\\sklearn\\cluster\\_kmeans.py:1122: ConvergenceWarning: Number of distinct clusters (4) found smaller than n_clusters (8). Possibly due to duplicate points in X.\n",
      "  return self.fit(X, sample_weight=sample_weight).labels_\n",
      "C:\\Users\\yonat\\anaconda3\\lib\\site-packages\\sklearn\\cluster\\_kmeans.py:1122: ConvergenceWarning: Number of distinct clusters (4) found smaller than n_clusters (9). Possibly due to duplicate points in X.\n",
      "  return self.fit(X, sample_weight=sample_weight).labels_\n"
     ]
    },
    {
     "name": "stdout",
     "output_type": "stream",
     "text": [
      "cluster : 44 length:  9\n",
      "cluster : 45 length:  25\n",
      "cluster : 46 length:  4\n",
      "cluster : 47 length:  20\n",
      "cluster : 48 length:  55\n",
      "cluster : 49 length:  20\n"
     ]
    },
    {
     "name": "stderr",
     "output_type": "stream",
     "text": [
      "C:\\Users\\yonat\\anaconda3\\lib\\site-packages\\sklearn\\cluster\\_kmeans.py:1122: ConvergenceWarning: Number of distinct clusters (3) found smaller than n_clusters (4). Possibly due to duplicate points in X.\n",
      "  return self.fit(X, sample_weight=sample_weight).labels_\n",
      "C:\\Users\\yonat\\anaconda3\\lib\\site-packages\\sklearn\\cluster\\_kmeans.py:1122: ConvergenceWarning: Number of distinct clusters (3) found smaller than n_clusters (5). Possibly due to duplicate points in X.\n",
      "  return self.fit(X, sample_weight=sample_weight).labels_\n",
      "C:\\Users\\yonat\\anaconda3\\lib\\site-packages\\sklearn\\cluster\\_kmeans.py:1122: ConvergenceWarning: Number of distinct clusters (3) found smaller than n_clusters (6). Possibly due to duplicate points in X.\n",
      "  return self.fit(X, sample_weight=sample_weight).labels_\n",
      "C:\\Users\\yonat\\anaconda3\\lib\\site-packages\\sklearn\\cluster\\_kmeans.py:1122: ConvergenceWarning: Number of distinct clusters (3) found smaller than n_clusters (7). Possibly due to duplicate points in X.\n",
      "  return self.fit(X, sample_weight=sample_weight).labels_\n",
      "C:\\Users\\yonat\\anaconda3\\lib\\site-packages\\sklearn\\cluster\\_kmeans.py:1122: ConvergenceWarning: Number of distinct clusters (3) found smaller than n_clusters (8). Possibly due to duplicate points in X.\n",
      "  return self.fit(X, sample_weight=sample_weight).labels_\n",
      "C:\\Users\\yonat\\anaconda3\\lib\\site-packages\\sklearn\\cluster\\_kmeans.py:1122: ConvergenceWarning: Number of distinct clusters (3) found smaller than n_clusters (9). Possibly due to duplicate points in X.\n",
      "  return self.fit(X, sample_weight=sample_weight).labels_\n",
      "C:\\Users\\yonat\\anaconda3\\lib\\site-packages\\sklearn\\cluster\\_kmeans.py:1122: ConvergenceWarning: Number of distinct clusters (3) found smaller than n_clusters (4). Possibly due to duplicate points in X.\n",
      "  return self.fit(X, sample_weight=sample_weight).labels_\n",
      "C:\\Users\\yonat\\anaconda3\\lib\\site-packages\\sklearn\\cluster\\_kmeans.py:1122: ConvergenceWarning: Number of distinct clusters (4) found smaller than n_clusters (5). Possibly due to duplicate points in X.\n",
      "  return self.fit(X, sample_weight=sample_weight).labels_\n",
      "C:\\Users\\yonat\\anaconda3\\lib\\site-packages\\sklearn\\cluster\\_kmeans.py:1122: ConvergenceWarning: Number of distinct clusters (4) found smaller than n_clusters (6). Possibly due to duplicate points in X.\n",
      "  return self.fit(X, sample_weight=sample_weight).labels_\n",
      "C:\\Users\\yonat\\anaconda3\\lib\\site-packages\\sklearn\\cluster\\_kmeans.py:1122: ConvergenceWarning: Number of distinct clusters (4) found smaller than n_clusters (7). Possibly due to duplicate points in X.\n",
      "  return self.fit(X, sample_weight=sample_weight).labels_\n",
      "C:\\Users\\yonat\\anaconda3\\lib\\site-packages\\sklearn\\cluster\\_kmeans.py:1122: ConvergenceWarning: Number of distinct clusters (4) found smaller than n_clusters (8). Possibly due to duplicate points in X.\n",
      "  return self.fit(X, sample_weight=sample_weight).labels_\n",
      "C:\\Users\\yonat\\anaconda3\\lib\\site-packages\\sklearn\\cluster\\_kmeans.py:1122: ConvergenceWarning: Number of distinct clusters (4) found smaller than n_clusters (9). Possibly due to duplicate points in X.\n",
      "  return self.fit(X, sample_weight=sample_weight).labels_\n"
     ]
    },
    {
     "name": "stdout",
     "output_type": "stream",
     "text": [
      "cluster : 50 length:  22\n",
      "cluster : 51 length:  1\n",
      "cluster : 52 length:  4\n",
      "cluster : 53 length:  9\n",
      "cluster : 54 length:  9\n",
      "cluster : 55 length:  4\n",
      "cluster : 56 length:  14\n"
     ]
    },
    {
     "name": "stderr",
     "output_type": "stream",
     "text": [
      "C:\\Users\\yonat\\anaconda3\\lib\\site-packages\\sklearn\\cluster\\_kmeans.py:1122: ConvergenceWarning: Number of distinct clusters (7) found smaller than n_clusters (8). Possibly due to duplicate points in X.\n",
      "  return self.fit(X, sample_weight=sample_weight).labels_\n",
      "C:\\Users\\yonat\\anaconda3\\lib\\site-packages\\sklearn\\cluster\\_kmeans.py:1122: ConvergenceWarning: Number of distinct clusters (7) found smaller than n_clusters (9). Possibly due to duplicate points in X.\n",
      "  return self.fit(X, sample_weight=sample_weight).labels_\n"
     ]
    },
    {
     "name": "stdout",
     "output_type": "stream",
     "text": [
      "cluster : 57 length:  85\n",
      "cluster : 58 length:  17\n"
     ]
    },
    {
     "name": "stderr",
     "output_type": "stream",
     "text": [
      "C:\\Users\\yonat\\anaconda3\\lib\\site-packages\\sklearn\\cluster\\_kmeans.py:1122: ConvergenceWarning: Number of distinct clusters (5) found smaller than n_clusters (6). Possibly due to duplicate points in X.\n",
      "  return self.fit(X, sample_weight=sample_weight).labels_\n",
      "C:\\Users\\yonat\\anaconda3\\lib\\site-packages\\sklearn\\cluster\\_kmeans.py:1122: ConvergenceWarning: Number of distinct clusters (5) found smaller than n_clusters (7). Possibly due to duplicate points in X.\n",
      "  return self.fit(X, sample_weight=sample_weight).labels_\n",
      "C:\\Users\\yonat\\anaconda3\\lib\\site-packages\\sklearn\\cluster\\_kmeans.py:1122: ConvergenceWarning: Number of distinct clusters (5) found smaller than n_clusters (8). Possibly due to duplicate points in X.\n",
      "  return self.fit(X, sample_weight=sample_weight).labels_\n",
      "C:\\Users\\yonat\\anaconda3\\lib\\site-packages\\sklearn\\cluster\\_kmeans.py:1122: ConvergenceWarning: Number of distinct clusters (5) found smaller than n_clusters (9). Possibly due to duplicate points in X.\n",
      "  return self.fit(X, sample_weight=sample_weight).labels_\n",
      "C:\\Users\\yonat\\anaconda3\\lib\\site-packages\\sklearn\\cluster\\_kmeans.py:1122: ConvergenceWarning: Number of distinct clusters (6) found smaller than n_clusters (7). Possibly due to duplicate points in X.\n",
      "  return self.fit(X, sample_weight=sample_weight).labels_\n",
      "C:\\Users\\yonat\\anaconda3\\lib\\site-packages\\sklearn\\cluster\\_kmeans.py:1122: ConvergenceWarning: Number of distinct clusters (6) found smaller than n_clusters (8). Possibly due to duplicate points in X.\n",
      "  return self.fit(X, sample_weight=sample_weight).labels_\n",
      "C:\\Users\\yonat\\anaconda3\\lib\\site-packages\\sklearn\\cluster\\_kmeans.py:1122: ConvergenceWarning: Number of distinct clusters (6) found smaller than n_clusters (9). Possibly due to duplicate points in X.\n",
      "  return self.fit(X, sample_weight=sample_weight).labels_\n"
     ]
    },
    {
     "name": "stdout",
     "output_type": "stream",
     "text": [
      "cluster : 59 length:  18\n",
      "cluster : 60 length:  26\n"
     ]
    },
    {
     "name": "stderr",
     "output_type": "stream",
     "text": [
      "C:\\Users\\yonat\\anaconda3\\lib\\site-packages\\sklearn\\cluster\\_kmeans.py:1122: ConvergenceWarning: Number of distinct clusters (8) found smaller than n_clusters (9). Possibly due to duplicate points in X.\n",
      "  return self.fit(X, sample_weight=sample_weight).labels_\n",
      "C:\\Users\\yonat\\anaconda3\\lib\\site-packages\\sklearn\\cluster\\_kmeans.py:1122: ConvergenceWarning: Number of distinct clusters (3) found smaller than n_clusters (4). Possibly due to duplicate points in X.\n",
      "  return self.fit(X, sample_weight=sample_weight).labels_\n",
      "C:\\Users\\yonat\\anaconda3\\lib\\site-packages\\sklearn\\cluster\\_kmeans.py:1122: ConvergenceWarning: Number of distinct clusters (3) found smaller than n_clusters (5). Possibly due to duplicate points in X.\n",
      "  return self.fit(X, sample_weight=sample_weight).labels_\n",
      "C:\\Users\\yonat\\anaconda3\\lib\\site-packages\\sklearn\\cluster\\_kmeans.py:1122: ConvergenceWarning: Number of distinct clusters (3) found smaller than n_clusters (6). Possibly due to duplicate points in X.\n",
      "  return self.fit(X, sample_weight=sample_weight).labels_\n",
      "C:\\Users\\yonat\\anaconda3\\lib\\site-packages\\sklearn\\cluster\\_kmeans.py:1122: ConvergenceWarning: Number of distinct clusters (3) found smaller than n_clusters (7). Possibly due to duplicate points in X.\n",
      "  return self.fit(X, sample_weight=sample_weight).labels_\n",
      "C:\\Users\\yonat\\anaconda3\\lib\\site-packages\\sklearn\\cluster\\_kmeans.py:1122: ConvergenceWarning: Number of distinct clusters (3) found smaller than n_clusters (8). Possibly due to duplicate points in X.\n",
      "  return self.fit(X, sample_weight=sample_weight).labels_\n",
      "C:\\Users\\yonat\\anaconda3\\lib\\site-packages\\sklearn\\cluster\\_kmeans.py:1122: ConvergenceWarning: Number of distinct clusters (3) found smaller than n_clusters (9). Possibly due to duplicate points in X.\n",
      "  return self.fit(X, sample_weight=sample_weight).labels_\n",
      "C:\\Users\\yonat\\anaconda3\\lib\\site-packages\\sklearn\\cluster\\_kmeans.py:1122: ConvergenceWarning: Number of distinct clusters (3) found smaller than n_clusters (4). Possibly due to duplicate points in X.\n",
      "  return self.fit(X, sample_weight=sample_weight).labels_\n"
     ]
    },
    {
     "name": "stdout",
     "output_type": "stream",
     "text": [
      "cluster : 61 length:  9\n",
      "cluster : 62 length:  15\n",
      "cluster : 63 length:  31\n",
      "cluster : 64 length:  22\n",
      "cluster : 65 length:  4\n",
      "cluster : 66 length:  22\n",
      "cluster : 67 length:  24\n",
      "cluster : 68 length:  3\n",
      "cluster : 69 length:  14\n",
      "cluster : 70 length:  22\n",
      "cluster : 71 length:  34\n",
      "cluster : 72 length:  3\n",
      "cluster : 73 length:  10\n",
      "cluster : 74 length:  6\n",
      "cluster : 75 length:  43\n",
      "cluster : 76 length:  9\n",
      "cluster : 77 length:  7\n",
      "cluster : 78 length:  4\n",
      "cluster : 79 length:  23\n",
      "cluster : 80 length:  6\n",
      "cluster : 81 length:  23\n",
      "cluster : 82 length:  14\n",
      "cluster : 83 length:  13\n",
      "cluster : 84 length:  16\n",
      "cluster : 85 length:  4\n",
      "cluster : 86 length:  11\n"
     ]
    },
    {
     "name": "stderr",
     "output_type": "stream",
     "text": [
      "C:\\Users\\yonat\\anaconda3\\lib\\site-packages\\sklearn\\cluster\\_kmeans.py:1122: ConvergenceWarning: Number of distinct clusters (8) found smaller than n_clusters (9). Possibly due to duplicate points in X.\n",
      "  return self.fit(X, sample_weight=sample_weight).labels_\n"
     ]
    }
   ],
   "source": [
    "dict_of_clusters_2c = {}\n",
    "index_2c = 0\n",
    "\n",
    "for cluster in clusters:\n",
    "    #todo\n",
    "    dataset = dict_of_clusters[cluster]\n",
    "    inertia_lst = []\n",
    "    print(f'cluster : {cluster} length:  {len(dataset)}')\n",
    "    if(len(dataset) > 10):\n",
    "        for k in Ks:\n",
    "            kmeans = KMeans(n_clusters=k, random_state=0)\n",
    "            # fit the data\n",
    "            _ = kmeans.fit_predict(dataset)\n",
    "            # save inertia\n",
    "            inertia_lst.append(kmeans.inertia_)\n",
    "        # plot inertia as function of number of clusers (k)\n",
    "    \n",
    "        #print(plt.plot(Ks, inertia_lst, marker=11))\n",
    "    \n",
    "        # finding the elbow\n",
    "        length = len(inertia_lst) - 1\n",
    "\n",
    "        # delta_1: index=0 -> #cluster=2 -> best_k_idx=1\n",
    "        delta_1 = [inertia_lst[i] - inertia_lst[i+1] for i in range(length)]\n",
    "\n",
    "        # delta_2: index 0 -> #cluster=3 -> best_k_idx=2\n",
    "        delta_2 = [delta_1[i] - delta_1[i+1] for i in range(length - 1)]\n",
    "\n",
    "        strength = [(i, delta_2[i+1] - delta_1[i+2]) for i in range(length - 2) if delta_1[i+1] >= 0 and delta_2[i+1] >= 0]\n",
    "\n",
    "        best_k_idx = max(strength,key=lambda t: t[1])[0] + 2\n",
    "        best_k = Ks[best_k_idx]\n",
    "    \n",
    "        # get the best KMeans , n_clusters=best_k\n",
    "        best_kmeans = KMeans(n_clusters=best_k, random_state=0)\n",
    "    \n",
    "        # seperate the instances to clusters\n",
    "\n",
    "        # get labels \n",
    "        labels = best_kmeans.fit_predict(dataset)\n",
    "\n",
    "        # init dictionary\n",
    "        dict_of_clusters_2 = {cluster: [] for cluster in range(best_k)}\n",
    "\n",
    "        for idx, instance in enumerate(dataset):\n",
    "            dict_of_clusters_2[labels[idx]].append(instance)\n",
    "        \n",
    "        # print cluster sizes\n",
    "        for cluster, instances in dict_of_clusters_2.items():\n",
    "            #print(f'------Cluster {cluster}: {len(instances)} jobs --------')\n",
    "            #print()\n",
    "            dict_of_clusters_2c.update({index_2c: instances}) \n",
    "            index_2c += 1\n",
    "        \n",
    "        # centers (centroids) of clusters\n",
    "        centers = best_kmeans.cluster_centers_\n",
    "    \n",
    "    else:\n",
    "        dict_of_clusters_2c.update({index_2c: dataset}) \n",
    "        index_2c += 1\n",
    "            \n",
    "    \n",
    "#print(centers)"
   ]
  },
  {
   "cell_type": "code",
   "execution_count": 57,
   "metadata": {},
   "outputs": [
    {
     "name": "stderr",
     "output_type": "stream",
     "text": [
      "C:\\Users\\yonat\\anaconda3\\lib\\site-packages\\pandas\\core\\indexing.py:670: SettingWithCopyWarning: \n",
      "A value is trying to be set on a copy of a slice from a DataFrame\n",
      "\n",
      "See the caveats in the documentation: https://pandas.pydata.org/pandas-docs/stable/user_guide/indexing.html#returning-a-view-versus-a-copy\n",
      "  iloc._setitem_with_indexer(indexer, value)\n"
     ]
    }
   ],
   "source": [
    "for cluster, instances in dict_of_clusters_2c.items():\n",
    "    for instance in instances:\n",
    "        inds = np.where(np.logical_and(df['Latitude'].values  == instance[0],df['Longitude'].values == instance[1]))[0]\n",
    "        #print(np.logical_and(df['Latitude'].values  == instance[0],df['Longitude'].values == instance[1]))\n",
    "        #print(inds)\n",
    "        #print(instance, cluster)\n",
    "        #print(df[['Latitude','Longitude']].iloc[inds])\n",
    "        df['IDC_Index__c'].iloc[inds] = cluster\n",
    "        #print(df['IDC_Index__c'].iloc[inds])"
   ]
  },
  {
   "cell_type": "code",
   "execution_count": 58,
   "metadata": {},
   "outputs": [],
   "source": [
    "# craete result new excel\n",
    "df.to_excel(f'results_{name_of_file}_(2c).xlsx', sheet_name='results')"
   ]
  },
  {
   "cell_type": "code",
   "execution_count": 59,
   "metadata": {},
   "outputs": [
    {
     "data": {
      "text/html": [
       "<div>\n",
       "<style scoped>\n",
       "    .dataframe tbody tr th:only-of-type {\n",
       "        vertical-align: middle;\n",
       "    }\n",
       "\n",
       "    .dataframe tbody tr th {\n",
       "        vertical-align: top;\n",
       "    }\n",
       "\n",
       "    .dataframe thead th {\n",
       "        text-align: right;\n",
       "    }\n",
       "</style>\n",
       "<table border=\"1\" class=\"dataframe\">\n",
       "  <thead>\n",
       "    <tr style=\"text-align: right;\">\n",
       "      <th></th>\n",
       "      <th>Unnamed: 0</th>\n",
       "      <th>_</th>\n",
       "      <th>Id</th>\n",
       "      <th>AppointmentNumber</th>\n",
       "      <th>Latitude</th>\n",
       "      <th>Longitude</th>\n",
       "      <th>IDC_Index__c</th>\n",
       "      <th>EarliestStartTime</th>\n",
       "      <th>DurationInMinutes</th>\n",
       "    </tr>\n",
       "  </thead>\n",
       "  <tbody>\n",
       "    <tr>\n",
       "      <th>0</th>\n",
       "      <td>0</td>\n",
       "      <td>[ServiceAppointment]</td>\n",
       "      <td>08p4L000000lKo4QAE</td>\n",
       "      <td>SA-5319</td>\n",
       "      <td>19.460891</td>\n",
       "      <td>-99.139634</td>\n",
       "      <td>118</td>\n",
       "      <td>2021-12-21T00:00:00.000+0000</td>\n",
       "      <td>14</td>\n",
       "    </tr>\n",
       "    <tr>\n",
       "      <th>1</th>\n",
       "      <td>1</td>\n",
       "      <td>[ServiceAppointment]</td>\n",
       "      <td>08p4L000000lKo5QAE</td>\n",
       "      <td>SA-5320</td>\n",
       "      <td>19.368634</td>\n",
       "      <td>-99.145334</td>\n",
       "      <td>112</td>\n",
       "      <td>2021-12-21T00:00:00.000+0000</td>\n",
       "      <td>14</td>\n",
       "    </tr>\n",
       "    <tr>\n",
       "      <th>2</th>\n",
       "      <td>2</td>\n",
       "      <td>[ServiceAppointment]</td>\n",
       "      <td>08p4L000000lKoCQAU</td>\n",
       "      <td>SA-5327</td>\n",
       "      <td>19.493341</td>\n",
       "      <td>-99.190447</td>\n",
       "      <td>17</td>\n",
       "      <td>2021-12-21T00:00:00.000+0000</td>\n",
       "      <td>14</td>\n",
       "    </tr>\n",
       "    <tr>\n",
       "      <th>3</th>\n",
       "      <td>3</td>\n",
       "      <td>[ServiceAppointment]</td>\n",
       "      <td>08p4L000000lKoDQAU</td>\n",
       "      <td>SA-5328</td>\n",
       "      <td>19.462779</td>\n",
       "      <td>-99.135322</td>\n",
       "      <td>236</td>\n",
       "      <td>2021-12-21T00:00:00.000+0000</td>\n",
       "      <td>14</td>\n",
       "    </tr>\n",
       "    <tr>\n",
       "      <th>4</th>\n",
       "      <td>4</td>\n",
       "      <td>[ServiceAppointment]</td>\n",
       "      <td>08p4L000000lKo9QAE</td>\n",
       "      <td>SA-5324</td>\n",
       "      <td>19.487029</td>\n",
       "      <td>-99.198889</td>\n",
       "      <td>302</td>\n",
       "      <td>2021-12-21T00:00:00.000+0000</td>\n",
       "      <td>14</td>\n",
       "    </tr>\n",
       "    <tr>\n",
       "      <th>...</th>\n",
       "      <td>...</td>\n",
       "      <td>...</td>\n",
       "      <td>...</td>\n",
       "      <td>...</td>\n",
       "      <td>...</td>\n",
       "      <td>...</td>\n",
       "      <td>...</td>\n",
       "      <td>...</td>\n",
       "      <td>...</td>\n",
       "    </tr>\n",
       "    <tr>\n",
       "      <th>1569</th>\n",
       "      <td>1569</td>\n",
       "      <td>[ServiceAppointment]</td>\n",
       "      <td>08p4L000000lKqvQAE</td>\n",
       "      <td>SA-5496</td>\n",
       "      <td>19.410017</td>\n",
       "      <td>-99.175183</td>\n",
       "      <td>13</td>\n",
       "      <td>2021-12-21T00:00:00.000+0000</td>\n",
       "      <td>14</td>\n",
       "    </tr>\n",
       "    <tr>\n",
       "      <th>1570</th>\n",
       "      <td>1570</td>\n",
       "      <td>[ServiceAppointment]</td>\n",
       "      <td>08p4L000000lKqwQAE</td>\n",
       "      <td>SA-5497</td>\n",
       "      <td>19.404777</td>\n",
       "      <td>-99.169003</td>\n",
       "      <td>205</td>\n",
       "      <td>2021-12-21T00:00:00.000+0000</td>\n",
       "      <td>14</td>\n",
       "    </tr>\n",
       "    <tr>\n",
       "      <th>1571</th>\n",
       "      <td>1571</td>\n",
       "      <td>[ServiceAppointment]</td>\n",
       "      <td>08p4L000000lKqsQAE</td>\n",
       "      <td>SA-5493</td>\n",
       "      <td>19.453365</td>\n",
       "      <td>-99.130240</td>\n",
       "      <td>53</td>\n",
       "      <td>2021-12-21T00:00:00.000+0000</td>\n",
       "      <td>14</td>\n",
       "    </tr>\n",
       "    <tr>\n",
       "      <th>1572</th>\n",
       "      <td>1572</td>\n",
       "      <td>[ServiceAppointment]</td>\n",
       "      <td>08p4L000000lKqtQAE</td>\n",
       "      <td>SA-5494</td>\n",
       "      <td>19.452480</td>\n",
       "      <td>-99.145865</td>\n",
       "      <td>8</td>\n",
       "      <td>2021-12-21T00:00:00.000+0000</td>\n",
       "      <td>14</td>\n",
       "    </tr>\n",
       "    <tr>\n",
       "      <th>1573</th>\n",
       "      <td>1573</td>\n",
       "      <td>[ServiceAppointment]</td>\n",
       "      <td>08p4L000000lKqxQAE</td>\n",
       "      <td>SA-5498</td>\n",
       "      <td>19.457710</td>\n",
       "      <td>-99.143010</td>\n",
       "      <td>125</td>\n",
       "      <td>2021-12-21T00:00:00.000+0000</td>\n",
       "      <td>14</td>\n",
       "    </tr>\n",
       "  </tbody>\n",
       "</table>\n",
       "<p>1574 rows × 9 columns</p>\n",
       "</div>"
      ],
      "text/plain": [
       "      Unnamed: 0                     _                  Id AppointmentNumber  \\\n",
       "0              0  [ServiceAppointment]  08p4L000000lKo4QAE           SA-5319   \n",
       "1              1  [ServiceAppointment]  08p4L000000lKo5QAE           SA-5320   \n",
       "2              2  [ServiceAppointment]  08p4L000000lKoCQAU           SA-5327   \n",
       "3              3  [ServiceAppointment]  08p4L000000lKoDQAU           SA-5328   \n",
       "4              4  [ServiceAppointment]  08p4L000000lKo9QAE           SA-5324   \n",
       "...          ...                   ...                 ...               ...   \n",
       "1569        1569  [ServiceAppointment]  08p4L000000lKqvQAE           SA-5496   \n",
       "1570        1570  [ServiceAppointment]  08p4L000000lKqwQAE           SA-5497   \n",
       "1571        1571  [ServiceAppointment]  08p4L000000lKqsQAE           SA-5493   \n",
       "1572        1572  [ServiceAppointment]  08p4L000000lKqtQAE           SA-5494   \n",
       "1573        1573  [ServiceAppointment]  08p4L000000lKqxQAE           SA-5498   \n",
       "\n",
       "       Latitude  Longitude  IDC_Index__c             EarliestStartTime  \\\n",
       "0     19.460891 -99.139634           118  2021-12-21T00:00:00.000+0000   \n",
       "1     19.368634 -99.145334           112  2021-12-21T00:00:00.000+0000   \n",
       "2     19.493341 -99.190447            17  2021-12-21T00:00:00.000+0000   \n",
       "3     19.462779 -99.135322           236  2021-12-21T00:00:00.000+0000   \n",
       "4     19.487029 -99.198889           302  2021-12-21T00:00:00.000+0000   \n",
       "...         ...        ...           ...                           ...   \n",
       "1569  19.410017 -99.175183            13  2021-12-21T00:00:00.000+0000   \n",
       "1570  19.404777 -99.169003           205  2021-12-21T00:00:00.000+0000   \n",
       "1571  19.453365 -99.130240            53  2021-12-21T00:00:00.000+0000   \n",
       "1572  19.452480 -99.145865             8  2021-12-21T00:00:00.000+0000   \n",
       "1573  19.457710 -99.143010           125  2021-12-21T00:00:00.000+0000   \n",
       "\n",
       "      DurationInMinutes  \n",
       "0                    14  \n",
       "1                    14  \n",
       "2                    14  \n",
       "3                    14  \n",
       "4                    14  \n",
       "...                 ...  \n",
       "1569                 14  \n",
       "1570                 14  \n",
       "1571                 14  \n",
       "1572                 14  \n",
       "1573                 14  \n",
       "\n",
       "[1574 rows x 9 columns]"
      ]
     },
     "execution_count": 59,
     "metadata": {},
     "output_type": "execute_result"
    }
   ],
   "source": [
    "df"
   ]
  },
  {
   "cell_type": "code",
   "execution_count": null,
   "metadata": {},
   "outputs": [],
   "source": []
  }
 ],
 "metadata": {
  "kernelspec": {
   "display_name": "Python 3",
   "language": "python",
   "name": "python3"
  },
  "language_info": {
   "codemirror_mode": {
    "name": "ipython",
    "version": 3
   },
   "file_extension": ".py",
   "mimetype": "text/x-python",
   "name": "python",
   "nbconvert_exporter": "python",
   "pygments_lexer": "ipython3",
   "version": "3.8.5"
  }
 },
 "nbformat": 4,
 "nbformat_minor": 5
}

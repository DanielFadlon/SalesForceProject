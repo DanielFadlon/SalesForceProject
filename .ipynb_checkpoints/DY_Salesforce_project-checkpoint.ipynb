{
 "cells": [
  {
   "cell_type": "code",
   "execution_count": 1,
   "id": "4cff56ca",
   "metadata": {},
   "outputs": [],
   "source": [
    "import numpy as np # used for scientific computing\\n\",\n",
    "import pandas as pd # used for data analysis and manipulation\\n\",\n",
    "import matplotlib.pyplot as plt # used for visualization and plotting\\n\","
   ]
  },
  {
   "cell_type": "code",
   "execution_count": 2,
   "id": "b4441e11",
   "metadata": {},
   "outputs": [],
   "source": [
    "import matplotlib.cm as cm "
   ]
  },
  {
   "cell_type": "code",
   "execution_count": 3,
   "id": "cda7b52f",
   "metadata": {},
   "outputs": [],
   "source": [
    "import math"
   ]
  },
  {
   "cell_type": "code",
   "execution_count": 4,
   "id": "37847509",
   "metadata": {},
   "outputs": [],
   "source": [
    "from sklearn.cluster import KMeans "
   ]
  },
  {
   "cell_type": "code",
   "execution_count": 5,
   "id": "2c6ef250",
   "metadata": {},
   "outputs": [],
   "source": [
    "# read the data\n",
    "df = pd.read_excel('Data/1500 SAs 21 Resources - For IDC.xlsx')"
   ]
  },
  {
   "cell_type": "code",
   "execution_count": 6,
   "id": "f0ccf97c",
   "metadata": {},
   "outputs": [
    {
     "data": {
      "text/html": [
       "<div>\n",
       "<style scoped>\n",
       "    .dataframe tbody tr th:only-of-type {\n",
       "        vertical-align: middle;\n",
       "    }\n",
       "\n",
       "    .dataframe tbody tr th {\n",
       "        vertical-align: top;\n",
       "    }\n",
       "\n",
       "    .dataframe thead th {\n",
       "        text-align: right;\n",
       "    }\n",
       "</style>\n",
       "<table border=\"1\" class=\"dataframe\">\n",
       "  <thead>\n",
       "    <tr style=\"text-align: right;\">\n",
       "      <th></th>\n",
       "      <th>_</th>\n",
       "      <th>AppointmentNumber</th>\n",
       "      <th>DurationInMinutes</th>\n",
       "      <th>Latitude</th>\n",
       "      <th>Longitude</th>\n",
       "      <th>Grid_Number__c</th>\n",
       "      <th>EarliestStartTime</th>\n",
       "      <th>DueDate</th>\n",
       "      <th>SchedStartTime</th>\n",
       "      <th>SchedEndTime</th>\n",
       "    </tr>\n",
       "  </thead>\n",
       "  <tbody>\n",
       "    <tr>\n",
       "      <th>0</th>\n",
       "      <td>[ServiceAppointment]</td>\n",
       "      <td>SA-000093262</td>\n",
       "      <td>4</td>\n",
       "      <td>19.477956</td>\n",
       "      <td>-99.180741</td>\n",
       "      <td>37739.12911</td>\n",
       "      <td>2021-07-20T05:12:00.000+0000</td>\n",
       "      <td>2021-08-20T00:00:00.000+0000</td>\n",
       "      <td>2021-07-21T13:18:00.000+0000</td>\n",
       "      <td>2021-07-21T13:22:00.000+0000</td>\n",
       "    </tr>\n",
       "    <tr>\n",
       "      <th>1</th>\n",
       "      <td>[ServiceAppointment]</td>\n",
       "      <td>SA-000091887</td>\n",
       "      <td>4</td>\n",
       "      <td>19.477956</td>\n",
       "      <td>-99.180741</td>\n",
       "      <td>37739.12911</td>\n",
       "      <td>2021-07-20T05:12:00.000+0000</td>\n",
       "      <td>2021-08-20T00:00:00.000+0000</td>\n",
       "      <td>2021-07-21T13:22:00.000+0000</td>\n",
       "      <td>2021-07-21T13:26:00.000+0000</td>\n",
       "    </tr>\n",
       "    <tr>\n",
       "      <th>2</th>\n",
       "      <td>[ServiceAppointment]</td>\n",
       "      <td>SA-000093274</td>\n",
       "      <td>4</td>\n",
       "      <td>19.477937</td>\n",
       "      <td>-99.180605</td>\n",
       "      <td>37739.12911</td>\n",
       "      <td>2021-07-20T05:12:00.000+0000</td>\n",
       "      <td>2021-08-20T00:00:00.000+0000</td>\n",
       "      <td>2021-07-21T13:26:00.000+0000</td>\n",
       "      <td>2021-07-21T13:30:00.000+0000</td>\n",
       "    </tr>\n",
       "    <tr>\n",
       "      <th>3</th>\n",
       "      <td>[ServiceAppointment]</td>\n",
       "      <td>SA-000091881</td>\n",
       "      <td>4</td>\n",
       "      <td>19.477937</td>\n",
       "      <td>-99.180605</td>\n",
       "      <td>37739.12911</td>\n",
       "      <td>2021-07-20T05:12:00.000+0000</td>\n",
       "      <td>2021-08-20T00:00:00.000+0000</td>\n",
       "      <td>2021-07-21T13:30:00.000+0000</td>\n",
       "      <td>2021-07-21T13:34:00.000+0000</td>\n",
       "    </tr>\n",
       "    <tr>\n",
       "      <th>4</th>\n",
       "      <td>[ServiceAppointment]</td>\n",
       "      <td>SA-000100570</td>\n",
       "      <td>4</td>\n",
       "      <td>19.477937</td>\n",
       "      <td>-99.180605</td>\n",
       "      <td>37739.12911</td>\n",
       "      <td>2021-07-20T05:12:00.000+0000</td>\n",
       "      <td>2021-08-28T00:00:00.000+0000</td>\n",
       "      <td>2021-07-21T13:34:00.000+0000</td>\n",
       "      <td>2021-07-21T13:38:00.000+0000</td>\n",
       "    </tr>\n",
       "    <tr>\n",
       "      <th>...</th>\n",
       "      <td>...</td>\n",
       "      <td>...</td>\n",
       "      <td>...</td>\n",
       "      <td>...</td>\n",
       "      <td>...</td>\n",
       "      <td>...</td>\n",
       "      <td>...</td>\n",
       "      <td>...</td>\n",
       "      <td>...</td>\n",
       "      <td>...</td>\n",
       "    </tr>\n",
       "    <tr>\n",
       "      <th>1495</th>\n",
       "      <td>[ServiceAppointment]</td>\n",
       "      <td>SA-000100513</td>\n",
       "      <td>2</td>\n",
       "      <td>19.480504</td>\n",
       "      <td>-99.180529</td>\n",
       "      <td>37741.12911</td>\n",
       "      <td>2021-07-20T05:12:00.000+0000</td>\n",
       "      <td>2021-08-28T00:00:00.000+0000</td>\n",
       "      <td>2021-07-21T21:37:00.000+0000</td>\n",
       "      <td>2021-07-21T21:39:00.000+0000</td>\n",
       "    </tr>\n",
       "    <tr>\n",
       "      <th>1496</th>\n",
       "      <td>[ServiceAppointment]</td>\n",
       "      <td>SA-000091560</td>\n",
       "      <td>2</td>\n",
       "      <td>19.480362</td>\n",
       "      <td>-99.180432</td>\n",
       "      <td>37741.12911</td>\n",
       "      <td>2021-07-20T05:12:00.000+0000</td>\n",
       "      <td>2021-08-20T00:00:00.000+0000</td>\n",
       "      <td>2021-07-21T21:40:00.000+0000</td>\n",
       "      <td>2021-07-21T21:42:00.000+0000</td>\n",
       "    </tr>\n",
       "    <tr>\n",
       "      <th>1497</th>\n",
       "      <td>[ServiceAppointment]</td>\n",
       "      <td>SA-000091581</td>\n",
       "      <td>2</td>\n",
       "      <td>19.480650</td>\n",
       "      <td>-99.180485</td>\n",
       "      <td>37741.12911</td>\n",
       "      <td>2021-07-20T05:12:00.000+0000</td>\n",
       "      <td>2021-08-20T00:00:00.000+0000</td>\n",
       "      <td>2021-07-21T21:43:00.000+0000</td>\n",
       "      <td>2021-07-21T21:45:00.000+0000</td>\n",
       "    </tr>\n",
       "    <tr>\n",
       "      <th>1498</th>\n",
       "      <td>[ServiceAppointment]</td>\n",
       "      <td>SA-000091572</td>\n",
       "      <td>2</td>\n",
       "      <td>19.480748</td>\n",
       "      <td>-99.180456</td>\n",
       "      <td>37741.12911</td>\n",
       "      <td>2021-07-20T05:12:00.000+0000</td>\n",
       "      <td>2021-08-20T00:00:00.000+0000</td>\n",
       "      <td>2021-07-21T21:46:00.000+0000</td>\n",
       "      <td>2021-07-21T21:48:00.000+0000</td>\n",
       "    </tr>\n",
       "    <tr>\n",
       "      <th>1499</th>\n",
       "      <td>[ServiceAppointment]</td>\n",
       "      <td>SA-000091578</td>\n",
       "      <td>2</td>\n",
       "      <td>19.480797</td>\n",
       "      <td>-99.180442</td>\n",
       "      <td>37741.12911</td>\n",
       "      <td>2021-07-20T05:12:00.000+0000</td>\n",
       "      <td>2021-08-20T00:00:00.000+0000</td>\n",
       "      <td>2021-07-21T21:49:00.000+0000</td>\n",
       "      <td>2021-07-21T21:51:00.000+0000</td>\n",
       "    </tr>\n",
       "  </tbody>\n",
       "</table>\n",
       "<p>1500 rows × 10 columns</p>\n",
       "</div>"
      ],
      "text/plain": [
       "                         _ AppointmentNumber  DurationInMinutes   Latitude  \\\n",
       "0     [ServiceAppointment]      SA-000093262                  4  19.477956   \n",
       "1     [ServiceAppointment]      SA-000091887                  4  19.477956   \n",
       "2     [ServiceAppointment]      SA-000093274                  4  19.477937   \n",
       "3     [ServiceAppointment]      SA-000091881                  4  19.477937   \n",
       "4     [ServiceAppointment]      SA-000100570                  4  19.477937   \n",
       "...                    ...               ...                ...        ...   \n",
       "1495  [ServiceAppointment]      SA-000100513                  2  19.480504   \n",
       "1496  [ServiceAppointment]      SA-000091560                  2  19.480362   \n",
       "1497  [ServiceAppointment]      SA-000091581                  2  19.480650   \n",
       "1498  [ServiceAppointment]      SA-000091572                  2  19.480748   \n",
       "1499  [ServiceAppointment]      SA-000091578                  2  19.480797   \n",
       "\n",
       "      Longitude  Grid_Number__c             EarliestStartTime  \\\n",
       "0    -99.180741     37739.12911  2021-07-20T05:12:00.000+0000   \n",
       "1    -99.180741     37739.12911  2021-07-20T05:12:00.000+0000   \n",
       "2    -99.180605     37739.12911  2021-07-20T05:12:00.000+0000   \n",
       "3    -99.180605     37739.12911  2021-07-20T05:12:00.000+0000   \n",
       "4    -99.180605     37739.12911  2021-07-20T05:12:00.000+0000   \n",
       "...         ...             ...                           ...   \n",
       "1495 -99.180529     37741.12911  2021-07-20T05:12:00.000+0000   \n",
       "1496 -99.180432     37741.12911  2021-07-20T05:12:00.000+0000   \n",
       "1497 -99.180485     37741.12911  2021-07-20T05:12:00.000+0000   \n",
       "1498 -99.180456     37741.12911  2021-07-20T05:12:00.000+0000   \n",
       "1499 -99.180442     37741.12911  2021-07-20T05:12:00.000+0000   \n",
       "\n",
       "                           DueDate                SchedStartTime  \\\n",
       "0     2021-08-20T00:00:00.000+0000  2021-07-21T13:18:00.000+0000   \n",
       "1     2021-08-20T00:00:00.000+0000  2021-07-21T13:22:00.000+0000   \n",
       "2     2021-08-20T00:00:00.000+0000  2021-07-21T13:26:00.000+0000   \n",
       "3     2021-08-20T00:00:00.000+0000  2021-07-21T13:30:00.000+0000   \n",
       "4     2021-08-28T00:00:00.000+0000  2021-07-21T13:34:00.000+0000   \n",
       "...                            ...                           ...   \n",
       "1495  2021-08-28T00:00:00.000+0000  2021-07-21T21:37:00.000+0000   \n",
       "1496  2021-08-20T00:00:00.000+0000  2021-07-21T21:40:00.000+0000   \n",
       "1497  2021-08-20T00:00:00.000+0000  2021-07-21T21:43:00.000+0000   \n",
       "1498  2021-08-20T00:00:00.000+0000  2021-07-21T21:46:00.000+0000   \n",
       "1499  2021-08-20T00:00:00.000+0000  2021-07-21T21:49:00.000+0000   \n",
       "\n",
       "                      SchedEndTime  \n",
       "0     2021-07-21T13:22:00.000+0000  \n",
       "1     2021-07-21T13:26:00.000+0000  \n",
       "2     2021-07-21T13:30:00.000+0000  \n",
       "3     2021-07-21T13:34:00.000+0000  \n",
       "4     2021-07-21T13:38:00.000+0000  \n",
       "...                            ...  \n",
       "1495  2021-07-21T21:39:00.000+0000  \n",
       "1496  2021-07-21T21:42:00.000+0000  \n",
       "1497  2021-07-21T21:45:00.000+0000  \n",
       "1498  2021-07-21T21:48:00.000+0000  \n",
       "1499  2021-07-21T21:51:00.000+0000  \n",
       "\n",
       "[1500 rows x 10 columns]"
      ]
     },
     "execution_count": 6,
     "metadata": {},
     "output_type": "execute_result"
    }
   ],
   "source": [
    "# verify the data\n",
    "df"
   ]
  },
  {
   "cell_type": "code",
   "execution_count": 7,
   "id": "ec57b738",
   "metadata": {},
   "outputs": [],
   "source": [
    "# radius of the Earth\n",
    "R = 6373.0\n",
    "\n",
    "def compute_distance(place_1, place_2):\n",
    "    \"\"\"\n",
    "    compute the distance between two lat-long coordinates\n",
    "\n",
    "    Input:\n",
    "\n",
    "    place_1 - tuple : (latitude, longitude) of place 1\n",
    "    place_2 - tuple : (latitude, longitude) of place 2\n",
    "\n",
    "    Returns:\n",
    "    distance - float number \n",
    "    \"\"\"    \n",
    "\n",
    "    distance_lat = place_2[0] - place_1[0]\n",
    "    distance_long = place_2[1] - place_1[1]\n",
    "\n",
    "    #Haverinse formula \n",
    "    x = math.sin(distance_lat / 2)**2 + math.cos(place_1[0]) * math.cos(place_2[0]) * math.sin(distance_long / 2)**2\n",
    "\n",
    "    y = 2 * math.atan2(math.sqrt(x), math.sqrt(1 - x))\n",
    "\n",
    "    return R * y"
   ]
  },
  {
   "cell_type": "code",
   "execution_count": 8,
   "id": "9c1e7078",
   "metadata": {},
   "outputs": [],
   "source": [
    "def plot(c): \n",
    "    plt.scatter(df['Latitude'], df['Longitude'], color=c)"
   ]
  },
  {
   "cell_type": "code",
   "execution_count": 9,
   "id": "26d6c491",
   "metadata": {},
   "outputs": [
    {
     "data": {
      "image/png": "[encoded data removed]",
      "text/plain": [
       "<Figure size 432x288 with 1 Axes>"
      ]
     },
     "metadata": {
      "needs_background": "light"
     },
     "output_type": "display_data"
    }
   ],
   "source": [
    "# map of the jobs\n",
    "plot('blue')"
   ]
  },
  {
   "cell_type": "code",
   "execution_count": 10,
   "id": "ce5061cf",
   "metadata": {},
   "outputs": [],
   "source": [
    "# extract the relvent columns\n",
    "dataset = np.array(df[['Latitude', 'Longitude']])"
   ]
  },
  {
   "cell_type": "code",
   "execution_count": 11,
   "id": "62aa85ec",
   "metadata": {},
   "outputs": [
    {
     "data": {
      "text/plain": [
       "array([[ 19.477956, -99.180741],\n",
       "       [ 19.477956, -99.180741],\n",
       "       [ 19.477937, -99.180605],\n",
       "       ...,\n",
       "       [ 19.48065 , -99.180485],\n",
       "       [ 19.480748, -99.180456],\n",
       "       [ 19.480797, -99.180442]])"
      ]
     },
     "execution_count": 11,
     "metadata": {},
     "output_type": "execute_result"
    }
   ],
   "source": [
    "# verify the exctraction\n",
    "dataset"
   ]
  },
  {
   "cell_type": "code",
   "execution_count": 12,
   "id": "1e59ed7d",
   "metadata": {},
   "outputs": [],
   "source": [
    "# K to check for the KMeans\n",
    "Ks = [5, 10, 15, 18, 20, 22, 25, 30, 35, 40, 45, 50]"
   ]
  },
  {
   "cell_type": "code",
   "execution_count": 13,
   "id": "4d779799",
   "metadata": {},
   "outputs": [],
   "source": [
    "# execute KMeans for each K in Ks\n",
    "inertia_lst = []\n",
    "for k in Ks:\n",
    "    kmeans = KMeans(n_clusters=k, random_state=0)\n",
    "    # fit the data\n",
    "    _ = kmeans.fit_predict(dataset)\n",
    "    # save inertia\n",
    "    inertia_lst.append(kmeans.inertia_)"
   ]
  },
  {
   "cell_type": "code",
   "execution_count": 14,
   "id": "44c80fb3",
   "metadata": {},
   "outputs": [
    {
     "data": {
      "text/plain": [
       "[<matplotlib.lines.Line2D at 0x7fc917ca2b20>]"
      ]
     },
     "execution_count": 14,
     "metadata": {},
     "output_type": "execute_result"
    },
    {
     "data": {
      "image/png": "[encoded data removed]",
      "text/plain": [
       "<Figure size 432x288 with 1 Axes>"
      ]
     },
     "metadata": {
      "needs_background": "light"
     },
     "output_type": "display_data"
    }
   ],
   "source": [
    "# plot inertia as function of number of clusers (k)\n",
    "plt.plot(Ks, inertia_lst, marker=11)"
   ]
  },
  {
   "cell_type": "markdown",
   "id": "c034d94e",
   "metadata": {},
   "source": [
    "finding the elbow is the method to find the best K. \n",
    "we need to find a script to do it automatticly. \n",
    "In the meantime, we can see that in this case the best k is 15."
   ]
  },
  {
   "cell_type": "code",
   "execution_count": 15,
   "id": "7278a567",
   "metadata": {},
   "outputs": [],
   "source": [
    "# best k = 15 , Ks[2]\n",
    "best_k_idx = 2\n",
    "best_k = 15"
   ]
  },
  {
   "cell_type": "code",
   "execution_count": 16,
   "id": "45be89dd",
   "metadata": {},
   "outputs": [],
   "source": [
    "# get the best KMeans \n",
    "best_kmeans = KMeans(n_clusters=best_k, random_state=0)"
   ]
  },
  {
   "cell_type": "code",
   "execution_count": 17,
   "id": "46da50bb",
   "metadata": {},
   "outputs": [],
   "source": [
    "# finding the elbow"
   ]
  },
  {
   "cell_type": "code",
   "execution_count": 18,
   "id": "674ec5a0",
   "metadata": {},
   "outputs": [],
   "source": [
    "# seperate the instances to clusters\n",
    "\n",
    "# get labels \n",
    "labels = best_kmeans.fit_predict(dataset)\n",
    "\n",
    "# init dictionary\n",
    "dict_of_clusters = {cluster: [] for cluster in range(best_k)}\n",
    "\n",
    "for idx, instance in enumerate(dataset):\n",
    "    dict_of_clusters[labels[idx]].append(instance)"
   ]
  },
  {
   "cell_type": "code",
   "execution_count": 19,
   "id": "1e3f1d9d",
   "metadata": {},
   "outputs": [
    {
     "name": "stdout",
     "output_type": "stream",
     "text": [
      "------Cluster 0: 131 jobs --------\n",
      "\n",
      "------Cluster 1: 163 jobs --------\n",
      "\n",
      "------Cluster 2: 73 jobs --------\n",
      "\n",
      "------Cluster 3: 120 jobs --------\n",
      "\n",
      "------Cluster 4: 250 jobs --------\n",
      "\n",
      "------Cluster 5: 116 jobs --------\n",
      "\n",
      "------Cluster 6: 37 jobs --------\n",
      "\n",
      "------Cluster 7: 153 jobs --------\n",
      "\n",
      "------Cluster 8: 68 jobs --------\n",
      "\n",
      "------Cluster 9: 38 jobs --------\n",
      "\n",
      "------Cluster 10: 117 jobs --------\n",
      "\n",
      "------Cluster 11: 68 jobs --------\n",
      "\n",
      "------Cluster 12: 99 jobs --------\n",
      "\n",
      "------Cluster 13: 48 jobs --------\n",
      "\n",
      "------Cluster 14: 19 jobs --------\n",
      "\n"
     ]
    }
   ],
   "source": [
    "# print cluster sizes\n",
    "for cluster, instances in dict_of_clusters.items():\n",
    "    print(f'------Cluster {cluster}: {len(instances)} jobs --------')\n",
    "    print()"
   ]
  },
  {
   "cell_type": "code",
   "execution_count": 20,
   "id": "afe31f46",
   "metadata": {},
   "outputs": [
    {
     "data": {
      "image/png": "[encoded data removed]",
      "text/plain": [
       "<Figure size 432x288 with 1 Axes>"
      ]
     },
     "metadata": {
      "needs_background": "light"
     },
     "output_type": "display_data"
    }
   ],
   "source": [
    "# plot the results\n",
    "clusters = [c for c in range(best_k)]\n",
    "colors = cm.rainbow(np.linspace(0, 1, Ks[3]))\n",
    "for cluster, c in zip(clusters, colors):\n",
    "    data = np.array(dict_of_clusters[cluster])\n",
    "    plt.scatter(data[:, 0], data[:, 1], color=c)"
   ]
  },
  {
   "cell_type": "markdown",
   "id": "8d65dd42",
   "metadata": {},
   "source": [
    "## order the clusters"
   ]
  },
  {
   "cell_type": "code",
   "execution_count": 21,
   "id": "3fd5238b",
   "metadata": {},
   "outputs": [
    {
     "data": {
      "text/plain": [
       "array([[ 19.47992919, -99.18243661],\n",
       "       [ 19.4763162 , -99.17903315],\n",
       "       [ 19.47908584, -99.1762854 ],\n",
       "       [ 19.4769335 , -99.1770622 ],\n",
       "       [ 19.47822456, -99.18302867],\n",
       "       [ 19.47962001, -99.18023726],\n",
       "       [ 19.47908578, -99.18583278],\n",
       "       [ 19.47802676, -99.17991843],\n",
       "       [ 19.47901815, -99.18384806],\n",
       "       [ 19.48071371, -99.18380566],\n",
       "       [ 19.47676572, -99.17584279],\n",
       "       [ 19.48145476, -99.18222701],\n",
       "       [ 19.47709691, -99.17800164],\n",
       "       [ 19.4788635 , -99.17818931],\n",
       "       [ 19.48137995, -99.18716968]])"
      ]
     },
     "execution_count": 21,
     "metadata": {},
     "output_type": "execute_result"
    }
   ],
   "source": [
    "# print the centers\n",
    "centers = best_kmeans.cluster_centers_\n",
    "centers"
   ]
  },
  {
   "cell_type": "code",
   "execution_count": 23,
   "id": "c068cbe5",
   "metadata": {},
   "outputs": [],
   "source": [
    "# order the clusters according to distance from cluster 0 \n",
    "\n",
    "d_array = [(0,0)]\n",
    "c_0 = centers[0]\n",
    "for idx, c in enumerate(centers[1:]):\n",
    "    d_array += [(compute_distance(c_0, c), idx + 1)]\n",
    "cluster_distance = sorted(d_array, key=lambda x: x[0]) \n",
    "\n",
    "dict_cluster_to_idx = {c[1] : idx for idx, c in enumerate(cluster_distance)}\n",
    "\n",
    "idx_res_column = []\n",
    "\n",
    "# for each row add the relevent number according to the order of the clusters\n",
    "for label in labels:\n",
    "    idx_res_column += [dict_cluster_to_idx[label]]    "
   ]
  },
  {
   "cell_type": "code",
   "execution_count": 24,
   "id": "0b91e379",
   "metadata": {},
   "outputs": [],
   "source": [
    "# add the column to the dataFrame\n",
    "df['Index'] = idx_res_column"
   ]
  },
  {
   "cell_type": "code",
   "execution_count": 25,
   "id": "2671f9ca",
   "metadata": {},
   "outputs": [],
   "source": [
    "# craete result new excel\n",
    "df.to_excel('results_1.xlsx', sheet_name='results')"
   ]
  }
 ],
 "metadata": {
  "kernelspec": {
   "display_name": "Python 3",
   "language": "python",
   "name": "python3"
  },
  "language_info": {
   "codemirror_mode": {
    "name": "ipython",
    "version": 3
   },
   "file_extension": ".py",
   "mimetype": "text/x-python",
   "name": "python",
   "nbconvert_exporter": "python",
   "pygments_lexer": "ipython3",
   "version": "3.8.8"
  }
 },
 "nbformat": 4,
 "nbformat_minor": 5
}

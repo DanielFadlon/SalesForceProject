{
 "cells": [
  {
   "cell_type": "markdown",
   "metadata": {},
   "source": [
    "# Algorithm 1 "
   ]
  },
  {
   "cell_type": "markdown",
   "metadata": {},
   "source": [
    "Create kind of Kmeans, with K = #resources and bound each cluster to be less than the maximum hours that resource can work."
   ]
  },
  {
   "cell_type": "code",
   "execution_count": 1,
   "metadata": {},
   "outputs": [],
   "source": [
    "import sys\n",
    "import numpy as np # used for scientific computing\\n\",\n",
    "import pandas as pd # used for data analysis and manipulation\\n\",\n",
    "import matplotlib.pyplot as plt # used for visualization and plotting\\n\",\n",
    "import matplotlib.cm as cm\n",
    "import math\n",
    "from sklearn.cluster import KMeans "
   ]
  },
  {
   "cell_type": "code",
   "execution_count": 2,
   "metadata": {},
   "outputs": [],
   "source": [
    "MAX_VALUE = sys.float_info.max"
   ]
  },
  {
   "cell_type": "markdown",
   "metadata": {},
   "source": [
    "# How TO get it Genery from any database - ( I mean the num of resources and hours)"
   ]
  },
  {
   "cell_type": "code",
   "execution_count": 3,
   "metadata": {},
   "outputs": [],
   "source": [
    "\n",
    "#get the number of resources\n",
    "num_resources = 21\n",
    "\n",
    "# get the number of daily work hours\n",
    "daily_work_hours = 12\n",
    "# guess the time of non relvent issues \n",
    "time_of_non_relvent_issues = 3 "
   ]
  },
  {
   "cell_type": "code",
   "execution_count": 4,
   "metadata": {},
   "outputs": [],
   "source": [
    "max_work_time_in_minutes = (daily_work_hours - time_of_non_relvent_issues) * 60"
   ]
  },
  {
   "cell_type": "code",
   "execution_count": 5,
   "metadata": {},
   "outputs": [],
   "source": [
    "# read the data\n",
    "df = pd.read_excel('Data/1500 SAs 21 Resources - For IDC.xlsx')"
   ]
  },
  {
   "cell_type": "code",
   "execution_count": 6,
   "metadata": {},
   "outputs": [
    {
     "data": {
      "text/html": [
       "<div>\n",
       "<style scoped>\n",
       "    .dataframe tbody tr th:only-of-type {\n",
       "        vertical-align: middle;\n",
       "    }\n",
       "\n",
       "    .dataframe tbody tr th {\n",
       "        vertical-align: top;\n",
       "    }\n",
       "\n",
       "    .dataframe thead th {\n",
       "        text-align: right;\n",
       "    }\n",
       "</style>\n",
       "<table border=\"1\" class=\"dataframe\">\n",
       "  <thead>\n",
       "    <tr style=\"text-align: right;\">\n",
       "      <th></th>\n",
       "      <th>_</th>\n",
       "      <th>AppointmentNumber</th>\n",
       "      <th>DurationInMinutes</th>\n",
       "      <th>Latitude</th>\n",
       "      <th>Longitude</th>\n",
       "      <th>Grid_Number__c</th>\n",
       "      <th>EarliestStartTime</th>\n",
       "      <th>DueDate</th>\n",
       "      <th>SchedStartTime</th>\n",
       "      <th>SchedEndTime</th>\n",
       "    </tr>\n",
       "  </thead>\n",
       "  <tbody>\n",
       "    <tr>\n",
       "      <th>0</th>\n",
       "      <td>[ServiceAppointment]</td>\n",
       "      <td>SA-000093262</td>\n",
       "      <td>4</td>\n",
       "      <td>19.477956</td>\n",
       "      <td>-99.180741</td>\n",
       "      <td>37739.12911</td>\n",
       "      <td>2021-07-20T05:12:00.000+0000</td>\n",
       "      <td>2021-08-20T00:00:00.000+0000</td>\n",
       "      <td>2021-07-21T13:18:00.000+0000</td>\n",
       "      <td>2021-07-21T13:22:00.000+0000</td>\n",
       "    </tr>\n",
       "    <tr>\n",
       "      <th>1</th>\n",
       "      <td>[ServiceAppointment]</td>\n",
       "      <td>SA-000091887</td>\n",
       "      <td>4</td>\n",
       "      <td>19.477956</td>\n",
       "      <td>-99.180741</td>\n",
       "      <td>37739.12911</td>\n",
       "      <td>2021-07-20T05:12:00.000+0000</td>\n",
       "      <td>2021-08-20T00:00:00.000+0000</td>\n",
       "      <td>2021-07-21T13:22:00.000+0000</td>\n",
       "      <td>2021-07-21T13:26:00.000+0000</td>\n",
       "    </tr>\n",
       "    <tr>\n",
       "      <th>2</th>\n",
       "      <td>[ServiceAppointment]</td>\n",
       "      <td>SA-000093274</td>\n",
       "      <td>4</td>\n",
       "      <td>19.477937</td>\n",
       "      <td>-99.180605</td>\n",
       "      <td>37739.12911</td>\n",
       "      <td>2021-07-20T05:12:00.000+0000</td>\n",
       "      <td>2021-08-20T00:00:00.000+0000</td>\n",
       "      <td>2021-07-21T13:26:00.000+0000</td>\n",
       "      <td>2021-07-21T13:30:00.000+0000</td>\n",
       "    </tr>\n",
       "    <tr>\n",
       "      <th>3</th>\n",
       "      <td>[ServiceAppointment]</td>\n",
       "      <td>SA-000091881</td>\n",
       "      <td>4</td>\n",
       "      <td>19.477937</td>\n",
       "      <td>-99.180605</td>\n",
       "      <td>37739.12911</td>\n",
       "      <td>2021-07-20T05:12:00.000+0000</td>\n",
       "      <td>2021-08-20T00:00:00.000+0000</td>\n",
       "      <td>2021-07-21T13:30:00.000+0000</td>\n",
       "      <td>2021-07-21T13:34:00.000+0000</td>\n",
       "    </tr>\n",
       "    <tr>\n",
       "      <th>4</th>\n",
       "      <td>[ServiceAppointment]</td>\n",
       "      <td>SA-000100570</td>\n",
       "      <td>4</td>\n",
       "      <td>19.477937</td>\n",
       "      <td>-99.180605</td>\n",
       "      <td>37739.12911</td>\n",
       "      <td>2021-07-20T05:12:00.000+0000</td>\n",
       "      <td>2021-08-28T00:00:00.000+0000</td>\n",
       "      <td>2021-07-21T13:34:00.000+0000</td>\n",
       "      <td>2021-07-21T13:38:00.000+0000</td>\n",
       "    </tr>\n",
       "    <tr>\n",
       "      <th>...</th>\n",
       "      <td>...</td>\n",
       "      <td>...</td>\n",
       "      <td>...</td>\n",
       "      <td>...</td>\n",
       "      <td>...</td>\n",
       "      <td>...</td>\n",
       "      <td>...</td>\n",
       "      <td>...</td>\n",
       "      <td>...</td>\n",
       "      <td>...</td>\n",
       "    </tr>\n",
       "    <tr>\n",
       "      <th>1495</th>\n",
       "      <td>[ServiceAppointment]</td>\n",
       "      <td>SA-000100513</td>\n",
       "      <td>2</td>\n",
       "      <td>19.480504</td>\n",
       "      <td>-99.180529</td>\n",
       "      <td>37741.12911</td>\n",
       "      <td>2021-07-20T05:12:00.000+0000</td>\n",
       "      <td>2021-08-28T00:00:00.000+0000</td>\n",
       "      <td>2021-07-21T21:37:00.000+0000</td>\n",
       "      <td>2021-07-21T21:39:00.000+0000</td>\n",
       "    </tr>\n",
       "    <tr>\n",
       "      <th>1496</th>\n",
       "      <td>[ServiceAppointment]</td>\n",
       "      <td>SA-000091560</td>\n",
       "      <td>2</td>\n",
       "      <td>19.480362</td>\n",
       "      <td>-99.180432</td>\n",
       "      <td>37741.12911</td>\n",
       "      <td>2021-07-20T05:12:00.000+0000</td>\n",
       "      <td>2021-08-20T00:00:00.000+0000</td>\n",
       "      <td>2021-07-21T21:40:00.000+0000</td>\n",
       "      <td>2021-07-21T21:42:00.000+0000</td>\n",
       "    </tr>\n",
       "    <tr>\n",
       "      <th>1497</th>\n",
       "      <td>[ServiceAppointment]</td>\n",
       "      <td>SA-000091581</td>\n",
       "      <td>2</td>\n",
       "      <td>19.480650</td>\n",
       "      <td>-99.180485</td>\n",
       "      <td>37741.12911</td>\n",
       "      <td>2021-07-20T05:12:00.000+0000</td>\n",
       "      <td>2021-08-20T00:00:00.000+0000</td>\n",
       "      <td>2021-07-21T21:43:00.000+0000</td>\n",
       "      <td>2021-07-21T21:45:00.000+0000</td>\n",
       "    </tr>\n",
       "    <tr>\n",
       "      <th>1498</th>\n",
       "      <td>[ServiceAppointment]</td>\n",
       "      <td>SA-000091572</td>\n",
       "      <td>2</td>\n",
       "      <td>19.480748</td>\n",
       "      <td>-99.180456</td>\n",
       "      <td>37741.12911</td>\n",
       "      <td>2021-07-20T05:12:00.000+0000</td>\n",
       "      <td>2021-08-20T00:00:00.000+0000</td>\n",
       "      <td>2021-07-21T21:46:00.000+0000</td>\n",
       "      <td>2021-07-21T21:48:00.000+0000</td>\n",
       "    </tr>\n",
       "    <tr>\n",
       "      <th>1499</th>\n",
       "      <td>[ServiceAppointment]</td>\n",
       "      <td>SA-000091578</td>\n",
       "      <td>2</td>\n",
       "      <td>19.480797</td>\n",
       "      <td>-99.180442</td>\n",
       "      <td>37741.12911</td>\n",
       "      <td>2021-07-20T05:12:00.000+0000</td>\n",
       "      <td>2021-08-20T00:00:00.000+0000</td>\n",
       "      <td>2021-07-21T21:49:00.000+0000</td>\n",
       "      <td>2021-07-21T21:51:00.000+0000</td>\n",
       "    </tr>\n",
       "  </tbody>\n",
       "</table>\n",
       "<p>1500 rows × 10 columns</p>\n",
       "</div>"
      ],
      "text/plain": [
       "                         _ AppointmentNumber  DurationInMinutes   Latitude  \\\n",
       "0     [ServiceAppointment]      SA-000093262                  4  19.477956   \n",
       "1     [ServiceAppointment]      SA-000091887                  4  19.477956   \n",
       "2     [ServiceAppointment]      SA-000093274                  4  19.477937   \n",
       "3     [ServiceAppointment]      SA-000091881                  4  19.477937   \n",
       "4     [ServiceAppointment]      SA-000100570                  4  19.477937   \n",
       "...                    ...               ...                ...        ...   \n",
       "1495  [ServiceAppointment]      SA-000100513                  2  19.480504   \n",
       "1496  [ServiceAppointment]      SA-000091560                  2  19.480362   \n",
       "1497  [ServiceAppointment]      SA-000091581                  2  19.480650   \n",
       "1498  [ServiceAppointment]      SA-000091572                  2  19.480748   \n",
       "1499  [ServiceAppointment]      SA-000091578                  2  19.480797   \n",
       "\n",
       "      Longitude  Grid_Number__c             EarliestStartTime  \\\n",
       "0    -99.180741     37739.12911  2021-07-20T05:12:00.000+0000   \n",
       "1    -99.180741     37739.12911  2021-07-20T05:12:00.000+0000   \n",
       "2    -99.180605     37739.12911  2021-07-20T05:12:00.000+0000   \n",
       "3    -99.180605     37739.12911  2021-07-20T05:12:00.000+0000   \n",
       "4    -99.180605     37739.12911  2021-07-20T05:12:00.000+0000   \n",
       "...         ...             ...                           ...   \n",
       "1495 -99.180529     37741.12911  2021-07-20T05:12:00.000+0000   \n",
       "1496 -99.180432     37741.12911  2021-07-20T05:12:00.000+0000   \n",
       "1497 -99.180485     37741.12911  2021-07-20T05:12:00.000+0000   \n",
       "1498 -99.180456     37741.12911  2021-07-20T05:12:00.000+0000   \n",
       "1499 -99.180442     37741.12911  2021-07-20T05:12:00.000+0000   \n",
       "\n",
       "                           DueDate                SchedStartTime  \\\n",
       "0     2021-08-20T00:00:00.000+0000  2021-07-21T13:18:00.000+0000   \n",
       "1     2021-08-20T00:00:00.000+0000  2021-07-21T13:22:00.000+0000   \n",
       "2     2021-08-20T00:00:00.000+0000  2021-07-21T13:26:00.000+0000   \n",
       "3     2021-08-20T00:00:00.000+0000  2021-07-21T13:30:00.000+0000   \n",
       "4     2021-08-28T00:00:00.000+0000  2021-07-21T13:34:00.000+0000   \n",
       "...                            ...                           ...   \n",
       "1495  2021-08-28T00:00:00.000+0000  2021-07-21T21:37:00.000+0000   \n",
       "1496  2021-08-20T00:00:00.000+0000  2021-07-21T21:40:00.000+0000   \n",
       "1497  2021-08-20T00:00:00.000+0000  2021-07-21T21:43:00.000+0000   \n",
       "1498  2021-08-20T00:00:00.000+0000  2021-07-21T21:46:00.000+0000   \n",
       "1499  2021-08-20T00:00:00.000+0000  2021-07-21T21:49:00.000+0000   \n",
       "\n",
       "                      SchedEndTime  \n",
       "0     2021-07-21T13:22:00.000+0000  \n",
       "1     2021-07-21T13:26:00.000+0000  \n",
       "2     2021-07-21T13:30:00.000+0000  \n",
       "3     2021-07-21T13:34:00.000+0000  \n",
       "4     2021-07-21T13:38:00.000+0000  \n",
       "...                            ...  \n",
       "1495  2021-07-21T21:39:00.000+0000  \n",
       "1496  2021-07-21T21:42:00.000+0000  \n",
       "1497  2021-07-21T21:45:00.000+0000  \n",
       "1498  2021-07-21T21:48:00.000+0000  \n",
       "1499  2021-07-21T21:51:00.000+0000  \n",
       "\n",
       "[1500 rows x 10 columns]"
      ]
     },
     "execution_count": 6,
     "metadata": {},
     "output_type": "execute_result"
    }
   ],
   "source": [
    "# verify the data\n",
    "df"
   ]
  },
  {
   "cell_type": "code",
   "execution_count": 7,
   "metadata": {},
   "outputs": [],
   "source": [
    "# radius of the Earth\n",
    "R = 6373.0\n",
    "\n",
    "def compute_distance(place_1, place_2):\n",
    "    \"\"\"\n",
    "    compute the distance between two lat-long coordinates\n",
    "\n",
    "    Input:\n",
    "\n",
    "    place_1 - tuple : (latitude, longitude) of place 1\n",
    "    place_2 - tuple : (latitude, longitude) of place 2\n",
    "\n",
    "    Returns:\n",
    "    distance - float number \n",
    "    \"\"\"    \n",
    "\n",
    "    distance_lat = place_2[0] - place_1[0]\n",
    "    distance_long = place_2[1] - place_1[1]\n",
    "\n",
    "    #Haverinse formula \n",
    "    x = math.sin(distance_lat / 2)**2 + math.cos(place_1[0]) * math.cos(place_2[0]) * math.sin(distance_long / 2)**2\n",
    "\n",
    "    y = 2 * math.atan2(math.sqrt(x), math.sqrt(1 - x))\n",
    "\n",
    "    return R * y"
   ]
  },
  {
   "cell_type": "code",
   "execution_count": 16,
   "metadata": {},
   "outputs": [],
   "source": [
    "def distance_from_centroids(dataset, centroids):\n",
    "    distances = []\n",
    "    for c in centroids:\n",
    "        row = []\n",
    "        if c[0] == 'full':\n",
    "            distances.append([MAX_VALUE])\n",
    "        else:\n",
    "            for d in dataset:\n",
    "                row. append(compute_distance(c, d))\n",
    "            distances.append(row)\n",
    "    return np.array(distances)    "
   ]
  },
  {
   "cell_type": "code",
   "execution_count": 17,
   "metadata": {},
   "outputs": [],
   "source": [
    "def get_random_centroids(X, k):\n",
    "    centroids = []\n",
    "    \n",
    "    rows = np.random.randint(0, X.shape[0], size=k)\n",
    "    centroids = X[rows, :]\n",
    "    \n",
    "    return centroids"
   ]
  },
  {
   "cell_type": "code",
   "execution_count": 18,
   "metadata": {},
   "outputs": [],
   "source": [
    "def plot(c): \n",
    "    plt.scatter(df['Latitude'], df['Longitude'], color=c)"
   ]
  },
  {
   "cell_type": "code",
   "execution_count": 19,
   "metadata": {},
   "outputs": [
    {
     "data": {
      "image/png": "[encoded data removed]",
      "text/plain": [
       "<Figure size 432x288 with 1 Axes>"
      ]
     },
     "metadata": {
      "needs_background": "light"
     },
     "output_type": "display_data"
    }
   ],
   "source": [
    "# map of the jobs\n",
    "plot('blue')"
   ]
  },
  {
   "cell_type": "code",
   "execution_count": 20,
   "metadata": {},
   "outputs": [],
   "source": [
    "# extract the relvent columns\n",
    "dataset = np.array(df[['Latitude', 'Longitude']])\n",
    "duration_in_minutes = np.array(df['DurationInMinutes'])"
   ]
  },
  {
   "cell_type": "code",
   "execution_count": 21,
   "metadata": {},
   "outputs": [
    {
     "data": {
      "text/plain": [
       "array([[ 19.477956, -99.180741],\n",
       "       [ 19.477956, -99.180741],\n",
       "       [ 19.477937, -99.180605],\n",
       "       ...,\n",
       "       [ 19.48065 , -99.180485],\n",
       "       [ 19.480748, -99.180456],\n",
       "       [ 19.480797, -99.180442]])"
      ]
     },
     "execution_count": 21,
     "metadata": {},
     "output_type": "execute_result"
    }
   ],
   "source": [
    "# verify the exctraction\n",
    "dataset"
   ]
  },
  {
   "cell_type": "code",
   "execution_count": 37,
   "metadata": {},
   "outputs": [],
   "source": [
    "def kmeans(dataset, k, max_iter=100):\n",
    "    \"\"\"\n",
    "    Inputs:\n",
    "    - dataset: include all job's datapoints\n",
    "    - k: the number of centroid\n",
    "    - max_iter: the maximum number of iterations to perform\n",
    "    \n",
    "    Returns:\n",
    "    - The final assignment of all datapoints in the dataset\n",
    "    \"\"\"\n",
    "    \n",
    "    classes = []\n",
    "    duration_of_centroids = np.array([0 for cluster in range(k)])\n",
    "    \n",
    "    # init centroids\n",
    "    centroids = get_random_centroids(dataset, k)\n",
    "    \n",
    "    for i in range(max_iter):\n",
    "        #compute distance \n",
    "        distances = distance_from_centroids(dataset, centroids)\n",
    "        \n",
    "        #classify to clusters \n",
    "        classes = np.argmin(distances, axis=0)\n",
    "        \n",
    "        #update the duration time of cluster\n",
    "        #delete cluster if needed\n",
    "        duration_of_centroids += np.array([sum(duration_in_minutes[classes == c]) for c in range(k)])\n",
    "        \n",
    "        #update centroids\n",
    "        for c in range(k):\n",
    "            if duration_of_centroids[c] >= max_work_time_in_minutes:\n",
    "                centroids[c] = ['full', 'full']\n",
    "            else:\n",
    "                centroids[c] = np.mean(dataset[classes == c], axis=0)\n",
    "    return classes"
   ]
  },
  {
   "cell_type": "code",
   "execution_count": 36,
   "metadata": {},
   "outputs": [
    {
     "ename": "ValueError",
     "evalue": "setting an array element with a sequence. The requested array would exceed the maximum number of dimension of 1.",
     "output_type": "error",
     "traceback": [
      "\u001b[0;31m---------------------------------------------------------------------------\u001b[0m",
      "\u001b[0;31mValueError\u001b[0m                                Traceback (most recent call last)",
      "\u001b[0;32m<ipython-input-36-e284e7a1bd14>\u001b[0m in \u001b[0;36m<module>\u001b[0;34m\u001b[0m\n\u001b[0;32m----> 1\u001b[0;31m \u001b[0mkmeans\u001b[0m\u001b[0;34m(\u001b[0m\u001b[0mdataset\u001b[0m\u001b[0;34m,\u001b[0m \u001b[0;36m21\u001b[0m\u001b[0;34m,\u001b[0m \u001b[0mmax_iter\u001b[0m\u001b[0;34m=\u001b[0m\u001b[0;36m100\u001b[0m\u001b[0;34m)\u001b[0m\u001b[0;34m\u001b[0m\u001b[0;34m\u001b[0m\u001b[0m\n\u001b[0m",
      "\u001b[0;32m<ipython-input-35-85ef9d0cb082>\u001b[0m in \u001b[0;36mkmeans\u001b[0;34m(dataset, k, max_iter)\u001b[0m\n\u001b[1;32m     30\u001b[0m         \u001b[0;32mfor\u001b[0m \u001b[0mc\u001b[0m \u001b[0;32min\u001b[0m \u001b[0mrange\u001b[0m\u001b[0;34m(\u001b[0m\u001b[0mk\u001b[0m\u001b[0;34m)\u001b[0m\u001b[0;34m:\u001b[0m\u001b[0;34m\u001b[0m\u001b[0;34m\u001b[0m\u001b[0m\n\u001b[1;32m     31\u001b[0m             \u001b[0;32mif\u001b[0m \u001b[0mduration_of_centroids\u001b[0m\u001b[0;34m[\u001b[0m\u001b[0mc\u001b[0m\u001b[0;34m]\u001b[0m \u001b[0;34m>=\u001b[0m \u001b[0mmax_work_time_in_minutes\u001b[0m\u001b[0;34m:\u001b[0m\u001b[0;34m\u001b[0m\u001b[0;34m\u001b[0m\u001b[0m\n\u001b[0;32m---> 32\u001b[0;31m                 \u001b[0mcentroids\u001b[0m\u001b[0;34m[\u001b[0m\u001b[0mc\u001b[0m\u001b[0;34m]\u001b[0m \u001b[0;34m=\u001b[0m \u001b[0;34m(\u001b[0m\u001b[0;34m'full'\u001b[0m\u001b[0;34m,\u001b[0m \u001b[0mcentroids\u001b[0m\u001b[0;34m[\u001b[0m\u001b[0mc\u001b[0m\u001b[0;34m]\u001b[0m\u001b[0;34m)\u001b[0m\u001b[0;34m\u001b[0m\u001b[0;34m\u001b[0m\u001b[0m\n\u001b[0m",
      "\u001b[0;31mValueError\u001b[0m: setting an array element with a sequence. The requested array would exceed the maximum number of dimension of 1."
     ]
    }
   ],
   "source": [
    "kmeans(dataset, 21, max_iter=100)"
   ]
  },
  {
   "cell_type": "code",
   "execution_count": 23,
   "metadata": {},
   "outputs": [],
   "source": [
    "centroids = get_random_centroids(dataset, 21)\n",
    "distances = distance_from_centroids(dataset, centroids)"
   ]
  },
  {
   "cell_type": "code",
   "execution_count": 26,
   "metadata": {},
   "outputs": [
    {
     "data": {
      "text/plain": [
       "array([[13.54831728, 13.54831728, 13.02113384, ..., 28.6174928 ,\n",
       "        29.1858587 , 29.4717906 ],\n",
       "       [11.73406237, 11.73406237, 12.44505626, ..., 19.49133644,\n",
       "        20.06268426, 20.34829129],\n",
       "       [28.31267159, 28.31267159, 27.74900958, ..., 24.18405911,\n",
       "        24.15286604, 24.14618219],\n",
       "       ...,\n",
       "       [ 4.99418839,  4.99418839,  4.30076073, ..., 17.36920006,\n",
       "        17.95026697, 18.24282456],\n",
       "       [12.29725567, 12.29725567, 13.00344494, ..., 21.47552789,\n",
       "        22.05507678, 22.3445382 ],\n",
       "       [26.938101  , 26.938101  , 26.22967128, ..., 34.55943768,\n",
       "        34.89421437, 35.06661505]])"
      ]
     },
     "execution_count": 26,
     "metadata": {},
     "output_type": "execute_result"
    }
   ],
   "source": [
    "distances"
   ]
  },
  {
   "cell_type": "code",
   "execution_count": 24,
   "metadata": {},
   "outputs": [
    {
     "data": {
      "text/plain": [
       "(21, 1500)"
      ]
     },
     "execution_count": 24,
     "metadata": {},
     "output_type": "execute_result"
    }
   ],
   "source": [
    "distances.shape"
   ]
  },
  {
   "cell_type": "code",
   "execution_count": 25,
   "metadata": {},
   "outputs": [],
   "source": [
    "classes = np.argmin(distances, axis=0)"
   ]
  },
  {
   "cell_type": "code",
   "execution_count": null,
   "metadata": {},
   "outputs": [],
   "source": [
    "duration_of_centroids = np.array([0 for cluster in range(21)])"
   ]
  },
  {
   "cell_type": "code",
   "execution_count": null,
   "metadata": {},
   "outputs": [],
   "source": [
    "sum(duration_in_minutes[classes == 15])"
   ]
  },
  {
   "cell_type": "code",
   "execution_count": null,
   "metadata": {},
   "outputs": [],
   "source": [
    "np.array([1, 2, 3]) + np.array([4, 5, 6])"
   ]
  },
  {
   "cell_type": "code",
   "execution_count": null,
   "metadata": {},
   "outputs": [],
   "source": [
    "c1 = 2\n",
    "a = np.concatenate((distances[0:c1], distances[c1+1:]), axis=0)"
   ]
  },
  {
   "cell_type": "code",
   "execution_count": null,
   "metadata": {},
   "outputs": [],
   "source": [
    "a[0].shape"
   ]
  },
  {
   "cell_type": "code",
   "execution_count": null,
   "metadata": {},
   "outputs": [],
   "source": [
    "centroids = [[0,1],[2,2],[3,3],[4,4]]\n",
    "centroids[3] = ('full', centroids[3])"
   ]
  },
  {
   "cell_type": "code",
   "execution_count": null,
   "metadata": {},
   "outputs": [],
   "source": [
    "centroids"
   ]
  },
  {
   "cell_type": "code",
   "execution_count": null,
   "metadata": {},
   "outputs": [],
   "source": []
  }
 ],
 "metadata": {
  "kernelspec": {
   "display_name": "Python 3",
   "language": "python",
   "name": "python3"
  },
  "language_info": {
   "codemirror_mode": {
    "name": "ipython",
    "version": 3
   },
   "file_extension": ".py",
   "mimetype": "text/x-python",
   "name": "python",
   "nbconvert_exporter": "python",
   "pygments_lexer": "ipython3",
   "version": "3.8.5"
  }
 },
 "nbformat": 4,
 "nbformat_minor": 5
}

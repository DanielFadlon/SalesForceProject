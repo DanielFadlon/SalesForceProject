{
 "cells": [
  {
   "cell_type": "markdown",
   "id": "5a82c160",
   "metadata": {},
   "source": [
    "# Generate Data "
   ]
  },
  {
   "cell_type": "code",
   "execution_count": 2,
   "id": "62532de2",
   "metadata": {},
   "outputs": [],
   "source": [
    "import numpy as np # used for scientific computing\\n\",\n",
    "import pandas as pd # used for data analysis and manipulation\\n\",\n",
    "import matplotlib.pyplot as plt # used for visualization and plotting\\n\","
   ]
  },
  {
   "cell_type": "code",
   "execution_count": 106,
   "id": "c4f74834",
   "metadata": {},
   "outputs": [],
   "source": [
    "num_rows = 1000"
   ]
  },
  {
   "cell_type": "code",
   "execution_count": 107,
   "id": "1179c0aa",
   "metadata": {},
   "outputs": [],
   "source": [
    "def plot(c): \n",
    "    plt.scatter(df['Latitude'], df['Longitude'], color=c)"
   ]
  },
  {
   "cell_type": "markdown",
   "id": "14905c4e",
   "metadata": {},
   "source": [
    "## 1 - one group data "
   ]
  },
  {
   "cell_type": "code",
   "execution_count": 109,
   "id": "383fba94",
   "metadata": {},
   "outputs": [],
   "source": [
    "latitude_lst = []\n",
    "longitude_lst = []"
   ]
  },
  {
   "cell_type": "code",
   "execution_count": 110,
   "id": "c4e512bc",
   "metadata": {},
   "outputs": [],
   "source": [
    "latitude = 19.99\n",
    "longitude = 73.78\n",
    "for _ in range(num_rows):\n",
    "    dec_lat = np.random.random()/100\n",
    "    dec_lon = np.random.random()/100\n",
    "    \n",
    "    latitude_lst.append(latitude + dec_lat)\n",
    "    longitude_lst.append(longitude + dec_lon)"
   ]
  },
  {
   "cell_type": "code",
   "execution_count": 111,
   "id": "01bd6a90",
   "metadata": {},
   "outputs": [
    {
     "data": {
      "text/html": [
       "<div>\n",
       "<style scoped>\n",
       "    .dataframe tbody tr th:only-of-type {\n",
       "        vertical-align: middle;\n",
       "    }\n",
       "\n",
       "    .dataframe tbody tr th {\n",
       "        vertical-align: top;\n",
       "    }\n",
       "\n",
       "    .dataframe thead th {\n",
       "        text-align: right;\n",
       "    }\n",
       "</style>\n",
       "<table border=\"1\" class=\"dataframe\">\n",
       "  <thead>\n",
       "    <tr style=\"text-align: right;\">\n",
       "      <th></th>\n",
       "      <th>Latitude</th>\n",
       "      <th>Longitude</th>\n",
       "    </tr>\n",
       "  </thead>\n",
       "  <tbody>\n",
       "    <tr>\n",
       "      <th>0</th>\n",
       "      <td>19.992569</td>\n",
       "      <td>73.789534</td>\n",
       "    </tr>\n",
       "    <tr>\n",
       "      <th>1</th>\n",
       "      <td>19.997425</td>\n",
       "      <td>73.781154</td>\n",
       "    </tr>\n",
       "    <tr>\n",
       "      <th>2</th>\n",
       "      <td>19.990832</td>\n",
       "      <td>73.783455</td>\n",
       "    </tr>\n",
       "    <tr>\n",
       "      <th>3</th>\n",
       "      <td>19.994102</td>\n",
       "      <td>73.781253</td>\n",
       "    </tr>\n",
       "    <tr>\n",
       "      <th>4</th>\n",
       "      <td>19.995338</td>\n",
       "      <td>73.780417</td>\n",
       "    </tr>\n",
       "    <tr>\n",
       "      <th>...</th>\n",
       "      <td>...</td>\n",
       "      <td>...</td>\n",
       "    </tr>\n",
       "    <tr>\n",
       "      <th>1995</th>\n",
       "      <td>19.990810</td>\n",
       "      <td>73.780129</td>\n",
       "    </tr>\n",
       "    <tr>\n",
       "      <th>1996</th>\n",
       "      <td>19.997447</td>\n",
       "      <td>73.783407</td>\n",
       "    </tr>\n",
       "    <tr>\n",
       "      <th>1997</th>\n",
       "      <td>19.996927</td>\n",
       "      <td>73.780210</td>\n",
       "    </tr>\n",
       "    <tr>\n",
       "      <th>1998</th>\n",
       "      <td>19.993539</td>\n",
       "      <td>73.783224</td>\n",
       "    </tr>\n",
       "    <tr>\n",
       "      <th>1999</th>\n",
       "      <td>19.991517</td>\n",
       "      <td>73.788859</td>\n",
       "    </tr>\n",
       "  </tbody>\n",
       "</table>\n",
       "<p>2000 rows × 2 columns</p>\n",
       "</div>"
      ],
      "text/plain": [
       "       Latitude  Longitude\n",
       "0     19.992569  73.789534\n",
       "1     19.997425  73.781154\n",
       "2     19.990832  73.783455\n",
       "3     19.994102  73.781253\n",
       "4     19.995338  73.780417\n",
       "...         ...        ...\n",
       "1995  19.990810  73.780129\n",
       "1996  19.997447  73.783407\n",
       "1997  19.996927  73.780210\n",
       "1998  19.993539  73.783224\n",
       "1999  19.991517  73.788859\n",
       "\n",
       "[2000 rows x 2 columns]"
      ]
     },
     "execution_count": 111,
     "metadata": {},
     "output_type": "execute_result"
    }
   ],
   "source": [
    "df = pd.DataFrame({'Latitude': latitude_lst, 'Longitude': longitude_lst })\n",
    "df"
   ]
  },
  {
   "cell_type": "code",
   "execution_count": 112,
   "id": "1be63e67",
   "metadata": {},
   "outputs": [
    {
     "data": {
      "image/png": "[encoded data removed]",
      "text/plain": [
       "<Figure size 432x288 with 1 Axes>"
      ]
     },
     "metadata": {
      "needs_background": "light"
     },
     "output_type": "display_data"
    }
   ],
   "source": [
    "# map of the jobs\n",
    "plot('blue')"
   ]
  },
  {
   "cell_type": "markdown",
   "id": "1d54feb7",
   "metadata": {},
   "source": [
    "## 1 - N groups data "
   ]
  },
  {
   "cell_type": "code",
   "execution_count": 152,
   "id": "11218da6",
   "metadata": {},
   "outputs": [],
   "source": [
    "Ns= [3, 5, 7]\n",
    "latitude_lst = []\n",
    "longitude_lst = []"
   ]
  },
  {
   "cell_type": "code",
   "execution_count": 156,
   "id": "fefc616a",
   "metadata": {},
   "outputs": [],
   "source": [
    "for N in Ns:\n",
    "    for i in range(N):\n",
    "        lat = latitude + (i + 2)\n",
    "        lon = longitude + (i - 1)\n",
    "        for _ in range(num_rows // N):\n",
    "            dec_lat = np.random.random()/100\n",
    "            dec_lon = np.random.random()/100\n",
    "\n",
    "            latitude_lst.append(lat + dec_lat)\n",
    "            longitude_lst.append(lon + dec_lon)"
   ]
  },
  {
   "cell_type": "code",
   "execution_count": 157,
   "id": "6e5bbf15",
   "metadata": {},
   "outputs": [
    {
     "data": {
      "text/html": [
       "<div>\n",
       "<style scoped>\n",
       "    .dataframe tbody tr th:only-of-type {\n",
       "        vertical-align: middle;\n",
       "    }\n",
       "\n",
       "    .dataframe tbody tr th {\n",
       "        vertical-align: top;\n",
       "    }\n",
       "\n",
       "    .dataframe thead th {\n",
       "        text-align: right;\n",
       "    }\n",
       "</style>\n",
       "<table border=\"1\" class=\"dataframe\">\n",
       "  <thead>\n",
       "    <tr style=\"text-align: right;\">\n",
       "      <th></th>\n",
       "      <th>Latitude</th>\n",
       "      <th>Longitude</th>\n",
       "    </tr>\n",
       "  </thead>\n",
       "  <tbody>\n",
       "    <tr>\n",
       "      <th>0</th>\n",
       "      <td>19.994366</td>\n",
       "      <td>73.783033</td>\n",
       "    </tr>\n",
       "    <tr>\n",
       "      <th>1</th>\n",
       "      <td>19.999753</td>\n",
       "      <td>73.788076</td>\n",
       "    </tr>\n",
       "    <tr>\n",
       "      <th>2</th>\n",
       "      <td>19.990458</td>\n",
       "      <td>73.785258</td>\n",
       "    </tr>\n",
       "    <tr>\n",
       "      <th>3</th>\n",
       "      <td>19.996343</td>\n",
       "      <td>73.784509</td>\n",
       "    </tr>\n",
       "    <tr>\n",
       "      <th>4</th>\n",
       "      <td>19.995849</td>\n",
       "      <td>73.785441</td>\n",
       "    </tr>\n",
       "    <tr>\n",
       "      <th>...</th>\n",
       "      <td>...</td>\n",
       "      <td>...</td>\n",
       "    </tr>\n",
       "    <tr>\n",
       "      <th>5981</th>\n",
       "      <td>27.195244</td>\n",
       "      <td>80.085481</td>\n",
       "    </tr>\n",
       "    <tr>\n",
       "      <th>5982</th>\n",
       "      <td>27.195705</td>\n",
       "      <td>80.087476</td>\n",
       "    </tr>\n",
       "    <tr>\n",
       "      <th>5983</th>\n",
       "      <td>27.195388</td>\n",
       "      <td>80.082840</td>\n",
       "    </tr>\n",
       "    <tr>\n",
       "      <th>5984</th>\n",
       "      <td>27.191997</td>\n",
       "      <td>80.089249</td>\n",
       "    </tr>\n",
       "    <tr>\n",
       "      <th>5985</th>\n",
       "      <td>27.195079</td>\n",
       "      <td>80.081803</td>\n",
       "    </tr>\n",
       "  </tbody>\n",
       "</table>\n",
       "<p>5986 rows × 2 columns</p>\n",
       "</div>"
      ],
      "text/plain": [
       "       Latitude  Longitude\n",
       "0     19.994366  73.783033\n",
       "1     19.999753  73.788076\n",
       "2     19.990458  73.785258\n",
       "3     19.996343  73.784509\n",
       "4     19.995849  73.785441\n",
       "...         ...        ...\n",
       "5981  27.195244  80.085481\n",
       "5982  27.195705  80.087476\n",
       "5983  27.195388  80.082840\n",
       "5984  27.191997  80.089249\n",
       "5985  27.195079  80.081803\n",
       "\n",
       "[5986 rows x 2 columns]"
      ]
     },
     "execution_count": 157,
     "metadata": {},
     "output_type": "execute_result"
    }
   ],
   "source": [
    "df = pd.DataFrame({'Latitude': latitude_lst, 'Longitude': longitude_lst})\n",
    "df"
   ]
  },
  {
   "cell_type": "code",
   "execution_count": 155,
   "id": "65833a17",
   "metadata": {},
   "outputs": [
    {
     "data": {
      "image/png": "[encoded data removed]",
      "text/plain": [
       "<Figure size 432x288 with 1 Axes>"
      ]
     },
     "metadata": {
      "needs_background": "light"
     },
     "output_type": "display_data"
    }
   ],
   "source": [
    "# map of the jobs\n",
    "plot('blue')"
   ]
  },
  {
   "cell_type": "code",
   "execution_count": null,
   "id": "c97dc882",
   "metadata": {},
   "outputs": [],
   "source": []
  }
 ],
 "metadata": {
  "kernelspec": {
   "display_name": "Python 3",
   "language": "python",
   "name": "python3"
  },
  "language_info": {
   "codemirror_mode": {
    "name": "ipython",
    "version": 3
   },
   "file_extension": ".py",
   "mimetype": "text/x-python",
   "name": "python",
   "nbconvert_exporter": "python",
   "pygments_lexer": "ipython3",
   "version": "3.8.8"
  }
 },
 "nbformat": 4,
 "nbformat_minor": 5
}

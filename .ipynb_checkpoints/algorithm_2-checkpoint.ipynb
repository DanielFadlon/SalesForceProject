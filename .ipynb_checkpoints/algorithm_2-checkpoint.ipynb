{
 "cells": [
  {
   "cell_type": "markdown",
   "id": "fae47064",
   "metadata": {},
   "source": [
    "# Algorithm 2"
   ]
  },
  {
   "cell_type": "markdown",
   "id": "3e934715",
   "metadata": {},
   "source": [
    "### PART 1 -  \n",
    "#### Execute KMeans. \n",
    "Try to find automatticaly the 'elbow' - the best K results ( withour relating to the daily hours or to the number of resources).\n",
    "\n",
    "### PART 2 - \n",
    "#### Order The Clusters.\n",
    " * 2a- Index all datapoints (jobs) in a cluster with the same index, when indexing is according to the distance between the clusters.\n",
    " * 2b- Greedy - Execute Shortest Path algorithm at each cluster, connect the cluster by the closest datapoints (jobs). (Index each datapoint with different index)\n",
    " * 2c - small clusters - execute cluster of clusters"
   ]
  },
  {
   "cell_type": "code",
   "execution_count": 1,
   "id": "f0dc064e",
   "metadata": {},
   "outputs": [],
   "source": [
    "import sys\n",
    "import numpy as np # used for scientific computing\\n\",\n",
    "import pandas as pd # used for data analysis and manipulation\\n\",\n",
    "import matplotlib.pyplot as plt # used for visualization and plotting\\n\",\n",
    "import matplotlib.cm as cm\n",
    "import math\n",
    "from sklearn.cluster import KMeans \n",
    "import heapq\n",
    "from sklearn.preprocessing import MinMaxScaler\n",
    "import warnings"
   ]
  },
  {
   "cell_type": "code",
   "execution_count": 2,
   "id": "2b47d33e",
   "metadata": {},
   "outputs": [],
   "source": [
    "name_of_file = 'second_datadet'\n",
    "# export_results = True => export excel with results. otherwise not.\n",
    "# Give the option to analyze the algorithms without exporting the results\n",
    "export_results = False"
   ]
  },
  {
   "cell_type": "code",
   "execution_count": 3,
   "id": "6475e761",
   "metadata": {},
   "outputs": [],
   "source": [
    "# read the data\n",
    "df = pd.read_excel(f'Data/{name_of_file}.xlsx')"
   ]
  },
  {
   "cell_type": "code",
   "execution_count": 4,
   "id": "d49f6fb5",
   "metadata": {},
   "outputs": [
    {
     "data": {
      "text/html": [
       "<div>\n",
       "<style scoped>\n",
       "    .dataframe tbody tr th:only-of-type {\n",
       "        vertical-align: middle;\n",
       "    }\n",
       "\n",
       "    .dataframe tbody tr th {\n",
       "        vertical-align: top;\n",
       "    }\n",
       "\n",
       "    .dataframe thead th {\n",
       "        text-align: right;\n",
       "    }\n",
       "</style>\n",
       "<table border=\"1\" class=\"dataframe\">\n",
       "  <thead>\n",
       "    <tr style=\"text-align: right;\">\n",
       "      <th></th>\n",
       "      <th>_</th>\n",
       "      <th>Id</th>\n",
       "      <th>AppointmentNumber</th>\n",
       "      <th>Latitude</th>\n",
       "      <th>Longitude</th>\n",
       "      <th>IDC_Index__c</th>\n",
       "    </tr>\n",
       "  </thead>\n",
       "  <tbody>\n",
       "    <tr>\n",
       "      <th>0</th>\n",
       "      <td>[ServiceAppointment]</td>\n",
       "      <td>08p4L000000lKERQA2</td>\n",
       "      <td>SA-4051</td>\n",
       "      <td>19.476372</td>\n",
       "      <td>-99.179075</td>\n",
       "      <td>NaN</td>\n",
       "    </tr>\n",
       "    <tr>\n",
       "      <th>1</th>\n",
       "      <td>[ServiceAppointment]</td>\n",
       "      <td>08p4L000000lKESQA2</td>\n",
       "      <td>SA-4052</td>\n",
       "      <td>19.476439</td>\n",
       "      <td>-99.179061</td>\n",
       "      <td>NaN</td>\n",
       "    </tr>\n",
       "    <tr>\n",
       "      <th>2</th>\n",
       "      <td>[ServiceAppointment]</td>\n",
       "      <td>08p4L000000lKETQA2</td>\n",
       "      <td>SA-4053</td>\n",
       "      <td>19.476439</td>\n",
       "      <td>-99.179061</td>\n",
       "      <td>NaN</td>\n",
       "    </tr>\n",
       "    <tr>\n",
       "      <th>3</th>\n",
       "      <td>[ServiceAppointment]</td>\n",
       "      <td>08p4L000000lKEUQA2</td>\n",
       "      <td>SA-4054</td>\n",
       "      <td>19.476439</td>\n",
       "      <td>-99.179061</td>\n",
       "      <td>NaN</td>\n",
       "    </tr>\n",
       "    <tr>\n",
       "      <th>4</th>\n",
       "      <td>[ServiceAppointment]</td>\n",
       "      <td>08p4L000000lKEVQA2</td>\n",
       "      <td>SA-4055</td>\n",
       "      <td>19.476461</td>\n",
       "      <td>-99.179056</td>\n",
       "      <td>NaN</td>\n",
       "    </tr>\n",
       "    <tr>\n",
       "      <th>...</th>\n",
       "      <td>...</td>\n",
       "      <td>...</td>\n",
       "      <td>...</td>\n",
       "      <td>...</td>\n",
       "      <td>...</td>\n",
       "      <td>...</td>\n",
       "    </tr>\n",
       "    <tr>\n",
       "      <th>1495</th>\n",
       "      <td>[ServiceAppointment]</td>\n",
       "      <td>08p4L000000lKBOQA2</td>\n",
       "      <td>SA-3862</td>\n",
       "      <td>19.477986</td>\n",
       "      <td>-99.179773</td>\n",
       "      <td>NaN</td>\n",
       "    </tr>\n",
       "    <tr>\n",
       "      <th>1496</th>\n",
       "      <td>[ServiceAppointment]</td>\n",
       "      <td>08p4L000000lKBXQA2</td>\n",
       "      <td>SA-3871</td>\n",
       "      <td>19.477986</td>\n",
       "      <td>-99.179773</td>\n",
       "      <td>NaN</td>\n",
       "    </tr>\n",
       "    <tr>\n",
       "      <th>1497</th>\n",
       "      <td>[ServiceAppointment]</td>\n",
       "      <td>08p4L000000lKBYQA2</td>\n",
       "      <td>SA-3872</td>\n",
       "      <td>19.477986</td>\n",
       "      <td>-99.179773</td>\n",
       "      <td>NaN</td>\n",
       "    </tr>\n",
       "    <tr>\n",
       "      <th>1498</th>\n",
       "      <td>[ServiceAppointment]</td>\n",
       "      <td>08p4L000000lKBZQA2</td>\n",
       "      <td>SA-3873</td>\n",
       "      <td>19.477986</td>\n",
       "      <td>-99.179773</td>\n",
       "      <td>NaN</td>\n",
       "    </tr>\n",
       "    <tr>\n",
       "      <th>1499</th>\n",
       "      <td>[ServiceAppointment]</td>\n",
       "      <td>08p4L000000lKBaQAM</td>\n",
       "      <td>SA-3874</td>\n",
       "      <td>19.477986</td>\n",
       "      <td>-99.179773</td>\n",
       "      <td>NaN</td>\n",
       "    </tr>\n",
       "  </tbody>\n",
       "</table>\n",
       "<p>1500 rows × 6 columns</p>\n",
       "</div>"
      ],
      "text/plain": [
       "                         _                  Id AppointmentNumber   Latitude  \\\n",
       "0     [ServiceAppointment]  08p4L000000lKERQA2           SA-4051  19.476372   \n",
       "1     [ServiceAppointment]  08p4L000000lKESQA2           SA-4052  19.476439   \n",
       "2     [ServiceAppointment]  08p4L000000lKETQA2           SA-4053  19.476439   \n",
       "3     [ServiceAppointment]  08p4L000000lKEUQA2           SA-4054  19.476439   \n",
       "4     [ServiceAppointment]  08p4L000000lKEVQA2           SA-4055  19.476461   \n",
       "...                    ...                 ...               ...        ...   \n",
       "1495  [ServiceAppointment]  08p4L000000lKBOQA2           SA-3862  19.477986   \n",
       "1496  [ServiceAppointment]  08p4L000000lKBXQA2           SA-3871  19.477986   \n",
       "1497  [ServiceAppointment]  08p4L000000lKBYQA2           SA-3872  19.477986   \n",
       "1498  [ServiceAppointment]  08p4L000000lKBZQA2           SA-3873  19.477986   \n",
       "1499  [ServiceAppointment]  08p4L000000lKBaQAM           SA-3874  19.477986   \n",
       "\n",
       "      Longitude  IDC_Index__c  \n",
       "0    -99.179075           NaN  \n",
       "1    -99.179061           NaN  \n",
       "2    -99.179061           NaN  \n",
       "3    -99.179061           NaN  \n",
       "4    -99.179056           NaN  \n",
       "...         ...           ...  \n",
       "1495 -99.179773           NaN  \n",
       "1496 -99.179773           NaN  \n",
       "1497 -99.179773           NaN  \n",
       "1498 -99.179773           NaN  \n",
       "1499 -99.179773           NaN  \n",
       "\n",
       "[1500 rows x 6 columns]"
      ]
     },
     "execution_count": 4,
     "metadata": {},
     "output_type": "execute_result"
    }
   ],
   "source": [
    "# verify the data\n",
    "df"
   ]
  },
  {
   "cell_type": "code",
   "execution_count": 5,
   "id": "036db272",
   "metadata": {},
   "outputs": [],
   "source": [
    "def plot(c): \n",
    "    plt.scatter(df['Latitude'], df['Longitude'], color=c)"
   ]
  },
  {
   "cell_type": "code",
   "execution_count": 6,
   "id": "a308716a",
   "metadata": {},
   "outputs": [
    {
     "data": {
      "image/png": "[encoded data removed]",
      "text/plain": [
       "<Figure size 432x288 with 1 Axes>"
      ]
     },
     "metadata": {
      "needs_background": "light"
     },
     "output_type": "display_data"
    }
   ],
   "source": [
    "# map of the jobs\n",
    "plot('blue')"
   ]
  },
  {
   "cell_type": "code",
   "execution_count": 7,
   "id": "f7b15e69",
   "metadata": {},
   "outputs": [],
   "source": [
    "# extract the relvent columns\n",
    "dataset = np.array(df[['Latitude', 'Longitude']])"
   ]
  },
  {
   "cell_type": "markdown",
   "id": "3c79082e",
   "metadata": {},
   "source": [
    "# PART 1 - KMEANS"
   ]
  },
  {
   "cell_type": "markdown",
   "id": "3dc911c4",
   "metadata": {},
   "source": [
    "finding the elbow is the method to find the best K. \n",
    "The solution is not optimal which means it is not return the best result any time.\n",
    "In contrast, the result will be always close to the truth and the small error may not affect on our results drastically."
   ]
  },
  {
   "cell_type": "code",
   "execution_count": 8,
   "id": "8c008e1e",
   "metadata": {},
   "outputs": [],
   "source": [
    "def finding_the_elbow(inertia_lst):\n",
    "    \"\"\"\n",
    "    Finding the elbow - means to find the best K for the K means according to the inertia.\n",
    "    The optimal solution is available only manually. \n",
    "    This function return a good K automatically.(not always the optimal) \n",
    "    \"\"\"\n",
    "    length = len(inertia_lst) - 1\n",
    "\n",
    "    # delta_1: index=0 -> #cluster=2 -> best_k_idx=1\n",
    "    delta_1 = [inertia_lst[i] - inertia_lst[i+1] for i in range(length)]\n",
    "\n",
    "    # delta_2: index 0 -> #cluster=3 -> best_k_idx=2\n",
    "    delta_2 = [delta_1[i] - delta_1[i+1] for i in range(length - 1)]\n",
    "\n",
    "    strength = [(i, delta_2[i+1] - delta_1[i+2]) for i in range(length - 2) if delta_1[i+1] >= 0 and delta_2[i+1] >= 0]\n",
    "\n",
    "    best_k_idx = max(strength,key=lambda t: t[1])[0] + 2\n",
    "    return best_k_idx"
   ]
  },
  {
   "cell_type": "code",
   "execution_count": 9,
   "id": "745853b4",
   "metadata": {},
   "outputs": [],
   "source": [
    "def choose_k(Ks):\n",
    "    \"\"\"\n",
    "    Choosing a good k from the given list of Ks\n",
    "    Return - \n",
    "    - best_k_idx\n",
    "    - inertia_lst - to represent that choosing make sense\n",
    "    \"\"\"\n",
    "    # execute KMeans for each K in Ks\n",
    "    inertia_lst = []\n",
    "    for k in Ks:\n",
    "        kmeans = KMeans(n_clusters=k, random_state=0)\n",
    "        # fit the data\n",
    "        _ = kmeans.fit_predict(dataset)\n",
    "        # save inertia\n",
    "        inertia_lst.append(kmeans.inertia_)\n",
    "    \n",
    "    best_k_idx = finding_the_elbow(inertia_lst)\n",
    "    \n",
    "    return best_k_idx, inertia_lst"
   ]
  },
  {
   "cell_type": "code",
   "execution_count": 10,
   "id": "314f7022",
   "metadata": {},
   "outputs": [],
   "source": [
    "# K to check for the KMeans\n",
    "Ks = [k for k in range(4, 150)]\n",
    "best_k_idx, inertia_lst = choose_k(Ks)\n",
    "best_k = Ks[best_k_idx]"
   ]
  },
  {
   "cell_type": "code",
   "execution_count": 11,
   "id": "5780f090",
   "metadata": {},
   "outputs": [
    {
     "data": {
      "text/plain": [
       "[<matplotlib.lines.Line2D at 0x7fc7b7401130>]"
      ]
     },
     "execution_count": 11,
     "metadata": {},
     "output_type": "execute_result"
    },
    {
     "data": {
      "image/png": "[encoded data removed]",
      "text/plain": [
       "<Figure size 432x288 with 1 Axes>"
      ]
     },
     "metadata": {
      "needs_background": "light"
     },
     "output_type": "display_data"
    }
   ],
   "source": [
    "# plot inertia as function of number of clusers (k)\n",
    "plt.plot(Ks, inertia_lst, marker=11)"
   ]
  },
  {
   "cell_type": "code",
   "execution_count": 12,
   "id": "f7a88f79",
   "metadata": {},
   "outputs": [],
   "source": [
    "# get the best KMeans , n_clusters=best_k\n",
    "best_kmeans = KMeans(n_clusters=best_k, random_state=0)\n",
    "# get labels \n",
    "labels = best_kmeans.fit_predict(dataset)"
   ]
  },
  {
   "cell_type": "code",
   "execution_count": 13,
   "id": "d57bc613",
   "metadata": {},
   "outputs": [],
   "source": [
    "def seperate_instances_to_clusters(dataset, labels, best_k):\n",
    "    \"\"\"\n",
    "    return dictionary {key = cluster_number , value = list of instances in this cluster}\n",
    "    \"\"\"\n",
    "    # init dictionary\n",
    "    dict_of_clusters = {cluster: [] for cluster in range(best_k)}\n",
    "\n",
    "    for idx, instance in enumerate(dataset):\n",
    "        dict_of_clusters[labels[idx]].append(instance)\n",
    "    \n",
    "    return dict_of_clusters"
   ]
  },
  {
   "cell_type": "code",
   "execution_count": 14,
   "id": "9c705adb",
   "metadata": {},
   "outputs": [],
   "source": [
    "dict_of_clusters = seperate_instances_to_clusters(dataset, labels, best_k)"
   ]
  },
  {
   "cell_type": "code",
   "execution_count": 15,
   "id": "d3af34e6",
   "metadata": {},
   "outputs": [
    {
     "name": "stdout",
     "output_type": "stream",
     "text": [
      "*Cluster 0: 30 jobs.\n",
      "-------\n",
      "*Cluster 1: 179 jobs.\n",
      "-------\n",
      "*Cluster 2: 54 jobs.\n",
      "-------\n",
      "*Cluster 3: 21 jobs.\n",
      "-------\n",
      "*Cluster 4: 36 jobs.\n",
      "-------\n",
      "*Cluster 5: 9 jobs.\n",
      "-------\n",
      "*Cluster 6: 123 jobs.\n",
      "-------\n",
      "*Cluster 7: 39 jobs.\n",
      "-------\n",
      "*Cluster 8: 11 jobs.\n",
      "-------\n",
      "*Cluster 9: 42 jobs.\n",
      "-------\n",
      "*Cluster 10: 93 jobs.\n",
      "-------\n",
      "*Cluster 11: 46 jobs.\n",
      "-------\n",
      "*Cluster 12: 75 jobs.\n",
      "-------\n",
      "*Cluster 13: 20 jobs.\n",
      "-------\n",
      "*Cluster 14: 15 jobs.\n",
      "-------\n",
      "*Cluster 15: 37 jobs.\n",
      "-------\n",
      "*Cluster 16: 72 jobs.\n",
      "-------\n",
      "*Cluster 17: 37 jobs.\n",
      "-------\n",
      "*Cluster 18: 87 jobs.\n",
      "-------\n",
      "*Cluster 19: 10 jobs.\n",
      "-------\n",
      "*Cluster 20: 14 jobs.\n",
      "-------\n",
      "*Cluster 21: 45 jobs.\n",
      "-------\n",
      "*Cluster 22: 8 jobs.\n",
      "-------\n",
      "*Cluster 23: 27 jobs.\n",
      "-------\n",
      "*Cluster 24: 28 jobs.\n",
      "-------\n",
      "*Cluster 25: 54 jobs.\n",
      "-------\n",
      "*Cluster 26: 22 jobs.\n",
      "-------\n",
      "*Cluster 27: 36 jobs.\n",
      "-------\n",
      "*Cluster 28: 32 jobs.\n",
      "-------\n",
      "*Cluster 29: 12 jobs.\n",
      "-------\n",
      "*Cluster 30: 51 jobs.\n",
      "-------\n",
      "*Cluster 31: 10 jobs.\n",
      "-------\n",
      "*Cluster 32: 30 jobs.\n",
      "-------\n",
      "*Cluster 33: 10 jobs.\n",
      "-------\n",
      "*Cluster 34: 30 jobs.\n",
      "-------\n",
      "*Cluster 35: 19 jobs.\n",
      "-------\n",
      "*Cluster 36: 27 jobs.\n",
      "-------\n",
      "*Cluster 37: 9 jobs.\n",
      "-------\n"
     ]
    }
   ],
   "source": [
    "# print cluster sizes\n",
    "for cluster, instances in dict_of_clusters.items():\n",
    "    print(f'*Cluster {cluster}: {len(instances)} jobs.')\n",
    "    print('-------')"
   ]
  },
  {
   "cell_type": "code",
   "execution_count": 16,
   "id": "b8634f48",
   "metadata": {},
   "outputs": [
    {
     "data": {
      "image/png": "[encoded data removed]",
      "text/plain": [
       "<Figure size 432x288 with 1 Axes>"
      ]
     },
     "metadata": {
      "needs_background": "light"
     },
     "output_type": "display_data"
    }
   ],
   "source": [
    "# plot the results\n",
    "clusters = [c for c in range(best_k)]\n",
    "colors = cm.rainbow(np.linspace(0, 1, Ks[3] * 5))\n",
    "colors = colors[::5]\n",
    "for cluster, c in zip(clusters, colors):\n",
    "    data = np.array(dict_of_clusters[cluster])\n",
    "    plt.scatter(data[:, 0], data[:, 1], color=c)"
   ]
  },
  {
   "cell_type": "markdown",
   "id": "145979b2",
   "metadata": {},
   "source": [
    "# PART 2 - Order The Clusters "
   ]
  },
  {
   "cell_type": "code",
   "execution_count": 17,
   "id": "26f5f978",
   "metadata": {},
   "outputs": [],
   "source": [
    "# centers (centroids) of clusters\n",
    "centers = best_kmeans.cluster_centers_"
   ]
  },
  {
   "cell_type": "code",
   "execution_count": 18,
   "id": "3d29c2c4",
   "metadata": {},
   "outputs": [],
   "source": [
    "# radius of the Earth\n",
    "R = 6373.0\n",
    "\n",
    "def compute_distance(place_1, place_2):\n",
    "    \"\"\"\n",
    "    compute the distance between two lat-long coordinates\n",
    "\n",
    "    Input:\n",
    "\n",
    "    place_1 - tuple : (latitude, longitude) of place 1\n",
    "    place_2 - tuple : (latitude, longitude) of place 2\n",
    "\n",
    "    Returns:\n",
    "    distance - float number \n",
    "    \"\"\"    \n",
    "    \n",
    "    distance_lat = place_2[0] - place_1[0]\n",
    "    distance_long = place_2[1] - place_1[1]\n",
    "\n",
    "    #Haverinse formula \n",
    "    x = math.sin(distance_lat / 2)**2 + math.cos(place_1[0]) * math.cos(place_2[0]) * math.sin(distance_long / 2)**2\n",
    "\n",
    "    y = 2 * math.atan2(math.sqrt(x), math.sqrt(1 - x))\n",
    "\n",
    "    return R * y"
   ]
  },
  {
   "cell_type": "markdown",
   "id": "b2203947",
   "metadata": {},
   "source": [
    "### 2a -\n",
    "- Order the cluster according to the distances between them. \n",
    "- All data points in the same cluster will get the same index."
   ]
  },
  {
   "cell_type": "code",
   "execution_count": 19,
   "id": "c3061dda",
   "metadata": {},
   "outputs": [],
   "source": [
    "# order the clusters according to distance from cluster 0 \n",
    "\n",
    "d_array = [(0,0)]\n",
    "c_0 = centers[0]\n",
    "for idx, c in enumerate(centers[1:]):\n",
    "    d_array += [(compute_distance(c_0, c), idx + 1)]\n",
    "cluster_distance = sorted(d_array, key=lambda x: x[0]) \n",
    "\n",
    "dict_cluster_to_idx = {c[1] : idx for idx, c in enumerate(cluster_distance)}\n",
    "\n",
    "idx_res_column = []\n",
    "\n",
    "# for each row add the relevent number according to the order of the clusters\n",
    "for label in labels:\n",
    "    idx_res_column += [dict_cluster_to_idx[label]]    "
   ]
  },
  {
   "cell_type": "code",
   "execution_count": 20,
   "id": "e9c1d291",
   "metadata": {},
   "outputs": [],
   "source": [
    "# add the column to the dataFrame\n",
    "df['IDC_Index__c'] = idx_res_column\n",
    "# save a copy of 2a results"
   ]
  },
  {
   "cell_type": "code",
   "execution_count": 21,
   "id": "46a0ed52",
   "metadata": {},
   "outputs": [
    {
     "data": {
      "text/html": [
       "<div>\n",
       "<style scoped>\n",
       "    .dataframe tbody tr th:only-of-type {\n",
       "        vertical-align: middle;\n",
       "    }\n",
       "\n",
       "    .dataframe tbody tr th {\n",
       "        vertical-align: top;\n",
       "    }\n",
       "\n",
       "    .dataframe thead th {\n",
       "        text-align: right;\n",
       "    }\n",
       "</style>\n",
       "<table border=\"1\" class=\"dataframe\">\n",
       "  <thead>\n",
       "    <tr style=\"text-align: right;\">\n",
       "      <th></th>\n",
       "      <th>_</th>\n",
       "      <th>Id</th>\n",
       "      <th>AppointmentNumber</th>\n",
       "      <th>Latitude</th>\n",
       "      <th>Longitude</th>\n",
       "      <th>IDC_Index__c</th>\n",
       "    </tr>\n",
       "  </thead>\n",
       "  <tbody>\n",
       "    <tr>\n",
       "      <th>0</th>\n",
       "      <td>[ServiceAppointment]</td>\n",
       "      <td>08p4L000000lKERQA2</td>\n",
       "      <td>SA-4051</td>\n",
       "      <td>19.476372</td>\n",
       "      <td>-99.179075</td>\n",
       "      <td>1</td>\n",
       "    </tr>\n",
       "    <tr>\n",
       "      <th>1</th>\n",
       "      <td>[ServiceAppointment]</td>\n",
       "      <td>08p4L000000lKESQA2</td>\n",
       "      <td>SA-4052</td>\n",
       "      <td>19.476439</td>\n",
       "      <td>-99.179061</td>\n",
       "      <td>1</td>\n",
       "    </tr>\n",
       "    <tr>\n",
       "      <th>2</th>\n",
       "      <td>[ServiceAppointment]</td>\n",
       "      <td>08p4L000000lKETQA2</td>\n",
       "      <td>SA-4053</td>\n",
       "      <td>19.476439</td>\n",
       "      <td>-99.179061</td>\n",
       "      <td>1</td>\n",
       "    </tr>\n",
       "    <tr>\n",
       "      <th>3</th>\n",
       "      <td>[ServiceAppointment]</td>\n",
       "      <td>08p4L000000lKEUQA2</td>\n",
       "      <td>SA-4054</td>\n",
       "      <td>19.476439</td>\n",
       "      <td>-99.179061</td>\n",
       "      <td>1</td>\n",
       "    </tr>\n",
       "    <tr>\n",
       "      <th>4</th>\n",
       "      <td>[ServiceAppointment]</td>\n",
       "      <td>08p4L000000lKEVQA2</td>\n",
       "      <td>SA-4055</td>\n",
       "      <td>19.476461</td>\n",
       "      <td>-99.179056</td>\n",
       "      <td>1</td>\n",
       "    </tr>\n",
       "    <tr>\n",
       "      <th>...</th>\n",
       "      <td>...</td>\n",
       "      <td>...</td>\n",
       "      <td>...</td>\n",
       "      <td>...</td>\n",
       "      <td>...</td>\n",
       "      <td>...</td>\n",
       "    </tr>\n",
       "    <tr>\n",
       "      <th>1495</th>\n",
       "      <td>[ServiceAppointment]</td>\n",
       "      <td>08p4L000000lKBOQA2</td>\n",
       "      <td>SA-3862</td>\n",
       "      <td>19.477986</td>\n",
       "      <td>-99.179773</td>\n",
       "      <td>6</td>\n",
       "    </tr>\n",
       "    <tr>\n",
       "      <th>1496</th>\n",
       "      <td>[ServiceAppointment]</td>\n",
       "      <td>08p4L000000lKBXQA2</td>\n",
       "      <td>SA-3871</td>\n",
       "      <td>19.477986</td>\n",
       "      <td>-99.179773</td>\n",
       "      <td>6</td>\n",
       "    </tr>\n",
       "    <tr>\n",
       "      <th>1497</th>\n",
       "      <td>[ServiceAppointment]</td>\n",
       "      <td>08p4L000000lKBYQA2</td>\n",
       "      <td>SA-3872</td>\n",
       "      <td>19.477986</td>\n",
       "      <td>-99.179773</td>\n",
       "      <td>6</td>\n",
       "    </tr>\n",
       "    <tr>\n",
       "      <th>1498</th>\n",
       "      <td>[ServiceAppointment]</td>\n",
       "      <td>08p4L000000lKBZQA2</td>\n",
       "      <td>SA-3873</td>\n",
       "      <td>19.477986</td>\n",
       "      <td>-99.179773</td>\n",
       "      <td>6</td>\n",
       "    </tr>\n",
       "    <tr>\n",
       "      <th>1499</th>\n",
       "      <td>[ServiceAppointment]</td>\n",
       "      <td>08p4L000000lKBaQAM</td>\n",
       "      <td>SA-3874</td>\n",
       "      <td>19.477986</td>\n",
       "      <td>-99.179773</td>\n",
       "      <td>6</td>\n",
       "    </tr>\n",
       "  </tbody>\n",
       "</table>\n",
       "<p>1500 rows × 6 columns</p>\n",
       "</div>"
      ],
      "text/plain": [
       "                         _                  Id AppointmentNumber   Latitude  \\\n",
       "0     [ServiceAppointment]  08p4L000000lKERQA2           SA-4051  19.476372   \n",
       "1     [ServiceAppointment]  08p4L000000lKESQA2           SA-4052  19.476439   \n",
       "2     [ServiceAppointment]  08p4L000000lKETQA2           SA-4053  19.476439   \n",
       "3     [ServiceAppointment]  08p4L000000lKEUQA2           SA-4054  19.476439   \n",
       "4     [ServiceAppointment]  08p4L000000lKEVQA2           SA-4055  19.476461   \n",
       "...                    ...                 ...               ...        ...   \n",
       "1495  [ServiceAppointment]  08p4L000000lKBOQA2           SA-3862  19.477986   \n",
       "1496  [ServiceAppointment]  08p4L000000lKBXQA2           SA-3871  19.477986   \n",
       "1497  [ServiceAppointment]  08p4L000000lKBYQA2           SA-3872  19.477986   \n",
       "1498  [ServiceAppointment]  08p4L000000lKBZQA2           SA-3873  19.477986   \n",
       "1499  [ServiceAppointment]  08p4L000000lKBaQAM           SA-3874  19.477986   \n",
       "\n",
       "      Longitude  IDC_Index__c  \n",
       "0    -99.179075             1  \n",
       "1    -99.179061             1  \n",
       "2    -99.179061             1  \n",
       "3    -99.179061             1  \n",
       "4    -99.179056             1  \n",
       "...         ...           ...  \n",
       "1495 -99.179773             6  \n",
       "1496 -99.179773             6  \n",
       "1497 -99.179773             6  \n",
       "1498 -99.179773             6  \n",
       "1499 -99.179773             6  \n",
       "\n",
       "[1500 rows x 6 columns]"
      ]
     },
     "execution_count": 21,
     "metadata": {},
     "output_type": "execute_result"
    }
   ],
   "source": [
    "df"
   ]
  },
  {
   "cell_type": "code",
   "execution_count": 22,
   "id": "2e46ba44",
   "metadata": {},
   "outputs": [],
   "source": [
    "results_2a_dataframe = df.copy()"
   ]
  },
  {
   "cell_type": "code",
   "execution_count": 23,
   "id": "eb9e547b",
   "metadata": {},
   "outputs": [],
   "source": [
    "# craete result new excel\n",
    "if export_results:\n",
    "    df.to_excel(f'results_{name_of_file}_(2a).xlsx', sheet_name='results')"
   ]
  },
  {
   "cell_type": "markdown",
   "id": "483cfbb1",
   "metadata": {},
   "source": [
    "### 2b - \n",
    "Order the cluters by executing shortest path algorithm on each cluster. "
   ]
  },
  {
   "cell_type": "code",
   "execution_count": 24,
   "id": "a33acd31",
   "metadata": {},
   "outputs": [],
   "source": [
    "# seprate the datapoints according to their cluster\n",
    "# save id = job's row.\n",
    "separate_dataset = [[] for cluster in range(best_k)]\n",
    "id = 0\n",
    "for datapoint, label in zip(dataset, labels):\n",
    "    separate_dataset[label].append((id, datapoint))\n",
    "    id += 1"
   ]
  },
  {
   "cell_type": "markdown",
   "id": "c923ec8e",
   "metadata": {},
   "source": [
    "Greedy - on each cluster index according to the the distance from the first job in the cluster\n",
    "Shoretest path Algorithm: \n",
    "### Dijkstra algorithm\n",
    "\n",
    "- We execute SP on every cluster according to the order we achieved above.\n",
    "- Fisrt iteration: \n",
    "    - Startpoint: take random datapoint\n",
    "    - Endpoint: random datapoint from the next cluster\n",
    "- Next iterations:\n",
    "    - StartPoint: the endpoint from the previous iteration\n",
    "    - Endpoint: random datapoint from the next cluster"
   ]
  },
  {
   "cell_type": "code",
   "execution_count": 25,
   "id": "2c972024",
   "metadata": {},
   "outputs": [],
   "source": [
    "# save the oredr of the clusters\n",
    "cluster_order = [c[1] for c in cluster_distance]"
   ]
  },
  {
   "cell_type": "code",
   "execution_count": 26,
   "id": "a5e9e55e",
   "metadata": {},
   "outputs": [],
   "source": [
    "MAX_VALUE = sys.float_info.max"
   ]
  },
  {
   "cell_type": "code",
   "execution_count": 27,
   "id": "b4a6c93d",
   "metadata": {},
   "outputs": [],
   "source": [
    "class Vertex: \n",
    "    \n",
    "    def __init__(self, job, is_root=False):\n",
    "        self.id = job[0]\n",
    "        self.place = job[1]\n",
    "        self.distance = 0 if (is_root) else MAX_VALUE\n",
    "        self.parent = None\n",
    "\n",
    "\n",
    "    def relax(self, v):\n",
    "        distance_from_self_to_v = compute_distance(self.place, v.place) \n",
    "        if v.distance > self.distance + distance_from_self_to_v:\n",
    "            v.distance = self.distance + distance_from_self_to_v\n",
    "            v.parent = self.id\n",
    "            \n",
    "    # implemt =, < for using heapq on vertex\n",
    "    def __eq__(self, other):\n",
    "        if self.distance == other.distance:\n",
    "            return True\n",
    "        else:\n",
    "            return False\n",
    "\n",
    "    def __lt__(self, other):\n",
    "        if self.distance < other.distance:\n",
    "            return True\n",
    "        else:\n",
    "            return False"
   ]
  },
  {
   "cell_type": "code",
   "execution_count": 28,
   "id": "8bb63cdd",
   "metadata": {},
   "outputs": [],
   "source": [
    "idx = 0\n",
    "results = []\n",
    "for cluster in range(best_k):\n",
    "    root = Vertex(separate_dataset[cluster][0], is_root=True)\n",
    "    G = [Vertex(datapoint) for datapoint in separate_dataset[cluster][1:]]\n",
    "    G.append(root)\n",
    "    # we do not use E since there are edges between all the vertices\n",
    "    #E = [(v1.id, v2.id) for v1 in G for v2 in G]\n",
    "\n",
    "    # ------- Execute DIJKSTRA -------- #\n",
    "    priority_queue = []\n",
    "    #push all vertices\n",
    "    for v in G:\n",
    "        heapq.heappush(priority_queue, v)\n",
    "    while priority_queue != []:\n",
    "        # dequeue the smallest vertex (according to the distance field)\n",
    "        u = heapq.heappop(priority_queue)\n",
    "        results.append((u.id, idx)) #u.index = idx  ->. at Dijkstra the first to leave th queue is the closet to the begining\n",
    "        for v in G:\n",
    "            u.relax(v)\n",
    "        idx +=1"
   ]
  },
  {
   "cell_type": "code",
   "execution_count": 29,
   "id": "df4e1bd5",
   "metadata": {},
   "outputs": [],
   "source": [
    "#sort result according to rows order ('id')\n",
    "results.sort(key=lambda row: row[0])\n",
    "results = [row[1] for row in results]"
   ]
  },
  {
   "cell_type": "code",
   "execution_count": 30,
   "id": "8d28bc5f",
   "metadata": {},
   "outputs": [],
   "source": [
    "# add the column to the dataFrame\n",
    "df['IDC_Index__c'] = results"
   ]
  },
  {
   "cell_type": "code",
   "execution_count": 31,
   "id": "d3c9e660",
   "metadata": {},
   "outputs": [],
   "source": [
    "# craete result new excel\n",
    "if export_results:\n",
    "    df.to_excel(f'results_{name_of_file}_(2b).xlsx', sheet_name='results')"
   ]
  },
  {
   "cell_type": "markdown",
   "id": "11e8d2d6",
   "metadata": {},
   "source": [
    "### 2c -\n",
    "- For each cluster perform Kmeans inside him and create sub-cluster\n",
    "- Order the cluster according to the distances between them. \n",
    "- All data points in the same sub-cluster will get the same index."
   ]
  },
  {
   "cell_type": "code",
   "execution_count": 32,
   "id": "e46e4363",
   "metadata": {},
   "outputs": [],
   "source": [
    "#df = pd.read_excel(f'results_{name_of_file}_(2a).xlsx')\n",
    "df = results_2a_dataframe.copy()"
   ]
  },
  {
   "cell_type": "code",
   "execution_count": 33,
   "id": "e0209e01",
   "metadata": {},
   "outputs": [],
   "source": [
    "# K to check for the KMeans\n",
    "Ks = [k for k in range(2, 10)]"
   ]
  },
  {
   "cell_type": "code",
   "execution_count": 34,
   "id": "f35cf581",
   "metadata": {},
   "outputs": [],
   "source": [
    "# ignore the warning of dupliacte objects - since there are data points on the same location\n",
    "warnings.filterwarnings(action='ignore')\n",
    "\n",
    "dict_of_clusters_2 = dict({})\n",
    "index_2c = 0\n",
    "r = 1\n",
    "\n",
    "for cluster in clusters:        \n",
    "    dataset = dict_of_clusters[cluster]\n",
    "    inertia_lst = []\n",
    "    if(len(dataset) > 10):\n",
    "        \n",
    "        best_k_idx, _ = choose_k(Ks)\n",
    "        best_k = Ks[best_k_idx]\n",
    "        \n",
    "        # get the best KMeans , n_clusters=best_k\n",
    "        best_kmeans = KMeans(n_clusters=best_k, random_state=1)\n",
    "        \n",
    "        # get labels \n",
    "        labels = best_kmeans.fit(dataset, sample_weight=1).labels_\n",
    "\n",
    "        # seperate the instances to clusters\n",
    "        dict_of_clusters_2c = seperate_instances_to_clusters(dataset, labels, best_k)\n",
    "        \n",
    "        for cluster, instances in dict_of_clusters_2.items():\n",
    "            dict_of_clusters_2c.update({index_2c: instances}) \n",
    "            index_2c += 1\n",
    "    \n",
    "    else:\n",
    "        dict_of_clusters_2c.update({index_2c: dataset}) \n",
    "        index_2c += 1"
   ]
  },
  {
   "cell_type": "code",
   "execution_count": 35,
   "id": "bb53eeca",
   "metadata": {},
   "outputs": [],
   "source": [
    "for cluster, instances in dict_of_clusters_2c.items():\n",
    "    for instance in instances:\n",
    "        inds = np.where(np.logical_and(df['Latitude'].values  == instance[0],df['Longitude'].values == instance[1]))[0]\n",
    "        df['IDC_Index__c'].iloc[inds] = cluster"
   ]
  },
  {
   "cell_type": "code",
   "execution_count": 36,
   "id": "6ea08332",
   "metadata": {},
   "outputs": [],
   "source": [
    "# craete result new excel\n",
    "if export_results:\n",
    "    df.to_excel(f'results_{name_of_file}_(2c).xlsx', sheet_name='results')"
   ]
  },
  {
   "cell_type": "markdown",
   "id": "e88ef00b",
   "metadata": {},
   "source": [
    "# 2d\n",
    "\n",
    "##### on each cluster from 2a execute 1-TSP algorithm "
   ]
  },
  {
   "cell_type": "code",
   "execution_count": 37,
   "id": "944fbfee",
   "metadata": {},
   "outputs": [],
   "source": [
    "# 2-opt Algorithm adapted from https://en.wikipedia.org/wiki/2-opt\n",
    "\n",
    "# Calculate the euclidian distance in n-space of the route r traversing jobs j, ending at the path start.\n",
    "path_distance = lambda r,j: np.sum([np.linalg.norm(j[r[p]] - j[r[p - 1]]) for p in range(len(r))])\n",
    "\n",
    "# Reverse the order of all elements from element i to element k in array r.\n",
    "two_opt_swap = lambda r,i,k: np.concatenate((r[0:i], r[k:- len(r) + i - 1:-1],r[k + 1:len(r)]))\n",
    "\n",
    "def two_opt(jobs,improvement_threshold): \n",
    "    route = np.arange(jobs.shape[0])\n",
    "    # Initialize the improvement factor.\n",
    "    improvement_factor = 1 \n",
    "    best_distance = path_distance(route,jobs)\n",
    "    \n",
    "    while improvement_factor > improvement_threshold: \n",
    "        # Record the distance at the beginning of the loop.\n",
    "        distance_to_beat = best_distance\n",
    "        \n",
    "        for swap_first in range(1,len(route)-2):\n",
    "            for swap_last in range(swap_first+1,len(route)): \n",
    "                # try reversing the order of these jobs\n",
    "                new_route = two_opt_swap(route,swap_first,swap_last) \n",
    "                # check the total distance with this modification.\n",
    "                new_distance = path_distance(new_route,jobs)\n",
    "                \n",
    "                if new_distance < best_distance: \n",
    "                    route = new_route\n",
    "                    best_distance = new_distance \n",
    "        # Calculate how much the route has improved.\n",
    "        improvement_factor = 1 - best_distance/distance_to_beat \n",
    "    return route"
   ]
  },
  {
   "cell_type": "code",
   "execution_count": 38,
   "id": "7cf24359",
   "metadata": {},
   "outputs": [],
   "source": [
    "# 1-TSP\n",
    "def one_TSP(data, offset=0):\n",
    "    \"\"\"\n",
    "    Execute 1-TSP optimal algorithm on the give sub-graph_i\n",
    "    \n",
    "    Input:\n",
    "    Gi - sub-graph i\n",
    "    offset - the index to start from.\n",
    "    \"\"\"\n",
    "    R = 6371\n",
    "    \n",
    "    lat = data[\"Latitude\"].map(math.radians)\n",
    "    lon = data[\"Longitude\"].map(math.radians)\n",
    "    x = lon.map(math.cos)*lat.map(math.cos)*R\n",
    "    y = lon.map(math.cos)*lat.map(math.sin)*R\n",
    "\n",
    "    data[\"lat_radians\"] = lat\n",
    "    data[\"lon_radians\"] = lon\n",
    "    data[\"x\"] = x\n",
    "    data[\"y\"] = y\n",
    "    \n",
    "    jobs_location = data[['x', 'y']].copy()\n",
    "    \n",
    "    scaler = MinMaxScaler(feature_range=(0, 100), copy=True)\n",
    "    scaled_df = scaler.fit_transform(jobs_location)\n",
    "    scaled_df = pd.DataFrame(scaled_df, columns=['x1', 'x2'])\n",
    "    \n",
    "    jobs_location = np.asarray(jobs_location)\n",
    "    scaled = np.asarray(scaled_df)\n",
    "    \n",
    "    route = two_opt(scaled, 0.001)\n",
    "    \n",
    "    return route"
   ]
  },
  {
   "cell_type": "code",
   "execution_count": 45,
   "id": "d190d743",
   "metadata": {},
   "outputs": [],
   "source": [
    "def is_the_same_location(place_1, place_2):\n",
    "    return True if place_1['Latitude'] == place_2['Latitude'] and place_1['Longitude'] == place_2['Longitude'] else False\n",
    "\n",
    "\n",
    "# def merge_duplicates(df):\n",
    "#     duplicates_indexes = []\n",
    "#     res = df.copy()\n",
    "#     for index_1, row_1 in df.iterrows():\n",
    "#         if index_1 not in duplicates_indexes:\n",
    "#             for index_2, row_2 in df.iterrows():\n",
    "#                 if index_1 != index_2 and is_the_same_location(row_1, row_2):\n",
    "#                     if index_2 not in duplicates_indexes:\n",
    "#                         res.drop(index=index_2, inplace=True)\n",
    "#                         duplicates_indexes.append(index_2)\n",
    "#     return res, duplicates_indexes"
   ]
  },
  {
   "cell_type": "code",
   "execution_count": 46,
   "id": "f983c6d8",
   "metadata": {},
   "outputs": [],
   "source": [
    "# current_df_cluster = df[df['IDC_Index__c'] == 0].copy()\n",
    "# df_without_duplicates, duplicates_indexes = merge_duplicates(current_df_cluster)"
   ]
  },
  {
   "cell_type": "code",
   "execution_count": 42,
   "id": "e7816e4d",
   "metadata": {},
   "outputs": [
    {
     "name": "stdout",
     "output_type": "stream",
     "text": [
      "37\n",
      "       Latitude  Longitude  IDC_Index__c\n",
      "43    19.476693 -99.179371             0\n",
      "44    19.476647 -99.179380             0\n",
      "45    19.476647 -99.179380             0\n",
      "46    19.476647 -99.179380             0\n",
      "47    19.476601 -99.179389             0\n",
      "48    19.476601 -99.179389             0\n",
      "74    19.476601 -99.179389             0\n",
      "171   19.476806 -99.179350             0\n",
      "174   19.476829 -99.179346             0\n",
      "175   19.476806 -99.179350             0\n",
      "176   19.476806 -99.179350             0\n",
      "178   19.476693 -99.179371             0\n",
      "179   19.476693 -99.179371             0\n",
      "180   19.476715 -99.179367             0\n",
      "181   19.476715 -99.179367             0\n",
      "182   19.476715 -99.179367             0\n",
      "1419  19.476875 -99.179337             0\n",
      "1420  19.476875 -99.179337             0\n",
      "1421  19.476852 -99.179477             0\n",
      "1423  19.476852 -99.179477             0\n",
      "1424  19.476875 -99.179337             0\n",
      "1425  19.476852 -99.179477             0\n",
      "1427  19.476715 -99.179367             0\n",
      "1428  19.476715 -99.179367             0\n",
      "1429  19.476715 -99.179367             0\n",
      "1453  19.476944 -99.179460             0\n",
      "1454  19.476944 -99.179460             0\n",
      "1455  19.476944 -99.179460             0\n",
      "1457  19.476829 -99.179346             0\n",
      "1458  19.476829 -99.179346             0\n",
      "30\n"
     ]
    },
    {
     "ename": "NameError",
     "evalue": "name 'merge_duplicate' is not defined",
     "output_type": "error",
     "traceback": [
      "\u001b[0;31m---------------------------------------------------------------------------\u001b[0m",
      "\u001b[0;31mNameError\u001b[0m                                 Traceback (most recent call last)",
      "\u001b[0;32m<ipython-input-42-509374f10c70>\u001b[0m in \u001b[0;36m<module>\u001b[0;34m\u001b[0m\n\u001b[1;32m     10\u001b[0m     \u001b[0mprint\u001b[0m\u001b[0;34m(\u001b[0m\u001b[0mcurrent_df_cluster\u001b[0m\u001b[0;34m)\u001b[0m\u001b[0;34m\u001b[0m\u001b[0;34m\u001b[0m\u001b[0m\n\u001b[1;32m     11\u001b[0m     \u001b[0mprint\u001b[0m\u001b[0;34m(\u001b[0m\u001b[0mcurrent_df_cluster\u001b[0m\u001b[0;34m.\u001b[0m\u001b[0mshape\u001b[0m\u001b[0;34m[\u001b[0m\u001b[0;36m0\u001b[0m\u001b[0;34m]\u001b[0m\u001b[0;34m)\u001b[0m\u001b[0;34m\u001b[0m\u001b[0;34m\u001b[0m\u001b[0m\n\u001b[0;32m---> 12\u001b[0;31m     \u001b[0mdf_no_duplicate\u001b[0m \u001b[0;34m=\u001b[0m \u001b[0mmerge_duplicate\u001b[0m\u001b[0;34m(\u001b[0m\u001b[0mcurrent_df_cluster\u001b[0m\u001b[0;34m)\u001b[0m\u001b[0;34m\u001b[0m\u001b[0;34m\u001b[0m\u001b[0m\n\u001b[0m\u001b[1;32m     13\u001b[0m     \u001b[0mindexes\u001b[0m \u001b[0;34m=\u001b[0m \u001b[0mlist\u001b[0m\u001b[0;34m(\u001b[0m\u001b[0mcurrent_df_cluster\u001b[0m\u001b[0;34m.\u001b[0m\u001b[0mindex\u001b[0m\u001b[0;34m)\u001b[0m\u001b[0;34m\u001b[0m\u001b[0;34m\u001b[0m\u001b[0m\n\u001b[1;32m     14\u001b[0m     \u001b[0mresults\u001b[0m \u001b[0;34m=\u001b[0m \u001b[0mone_TSP\u001b[0m\u001b[0;34m(\u001b[0m\u001b[0mcurrent_df_cluster\u001b[0m\u001b[0;34m,\u001b[0m \u001b[0moffset\u001b[0m\u001b[0;34m)\u001b[0m\u001b[0;34m\u001b[0m\u001b[0;34m\u001b[0m\u001b[0m\n",
      "\u001b[0;31mNameError\u001b[0m: name 'merge_duplicate' is not defined"
     ]
    }
   ],
   "source": [
    "# df = pd.read_excel(f'results_{name_of_file}_(2a).xlsx')\n",
    "df = results_2a_dataframe.copy()\n",
    "print(max(df['IDC_Index__c']))\n",
    "num_of_clusters = max(df['IDC_Index__c'])\n",
    "df = df[['Latitude', 'Longitude', 'IDC_Index__c']]\n",
    "data = pd.DataFrame({})\n",
    "offset = 0\n",
    "for i in range(1):\n",
    "    current_df_cluster = df[df['IDC_Index__c'] == i].copy()\n",
    "    print(current_df_cluster)\n",
    "    print(current_df_cluster.shape[0])\n",
    "    df_no_duplicate = merge_duplicate(current_df_cluster)\n",
    "    indexes = list(current_df_cluster.index)\n",
    "    results = one_TSP(current_df_cluster, offset)\n",
    "#     print(current_df_cluster.shape[0])\n",
    "#     print(results)\n",
    "    # handle same place case -> results do not consider it  \n",
    "    for idx, res in zip(indexes, results):\n",
    "        lat = df['Latitude'][idx]\n",
    "        lon = df['Longitude'][idx]\n",
    "#         print(f'Index: {idx}, Latitude: {lat},  Longitude: {lon}, IDC_Index__c: {res + offset}')\n",
    "        data.append({'Index': idx, 'Latitude': lat,  'Longitude': lon, 'IDC_Index__c': res}, ignore_index=True)\n",
    "    offset += current_df_cluster.shape[0]"
   ]
  },
  {
   "cell_type": "code",
   "execution_count": null,
   "id": "1c13bb7a",
   "metadata": {},
   "outputs": [],
   "source": [
    "data"
   ]
  },
  {
   "cell_type": "code",
   "execution_count": null,
   "id": "4943bc3c",
   "metadata": {},
   "outputs": [],
   "source": [
    "df"
   ]
  },
  {
   "cell_type": "code",
   "execution_count": null,
   "id": "67aca677",
   "metadata": {},
   "outputs": [],
   "source": []
  }
 ],
 "metadata": {
  "kernelspec": {
   "display_name": "Python 3",
   "language": "python",
   "name": "python3"
  },
  "language_info": {
   "codemirror_mode": {
    "name": "ipython",
    "version": 3
   },
   "file_extension": ".py",
   "mimetype": "text/x-python",
   "name": "python",
   "nbconvert_exporter": "python",
   "pygments_lexer": "ipython3",
   "version": "3.8.8"
  }
 },
 "nbformat": 4,
 "nbformat_minor": 5
}

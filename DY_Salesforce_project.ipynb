{
 "cells": [
  {
   "cell_type": "code",
   "execution_count": 1,
   "id": "4cff56ca",
   "metadata": {},
   "outputs": [],
   "source": [
    "import numpy as np # used for scientific computing\\n\",\n",
    "import pandas as pd # used for data analysis and manipulation\\n\",\n",
    "import matplotlib.pyplot as plt # used for visualization and plotting\\n\","
   ]
  },
  {
   "cell_type": "code",
   "execution_count": 2,
   "id": "cda7b52f",
   "metadata": {},
   "outputs": [],
   "source": [
    "import math"
   ]
  },
  {
   "cell_type": "code",
   "execution_count": 3,
   "id": "37847509",
   "metadata": {},
   "outputs": [],
   "source": [
    "from sklearn.cluster import KMeans "
   ]
  },
  {
   "cell_type": "code",
   "execution_count": 4,
   "id": "2c6ef250",
   "metadata": {},
   "outputs": [],
   "source": [
    "df = pd.read_excel('Data/1500 SAs 21 Resources - For IDC.xlsx')"
   ]
  },
  {
   "cell_type": "code",
   "execution_count": 5,
   "id": "f0ccf97c",
   "metadata": {},
   "outputs": [
    {
     "data": {
      "text/html": [
       "<div>\n",
       "<style scoped>\n",
       "    .dataframe tbody tr th:only-of-type {\n",
       "        vertical-align: middle;\n",
       "    }\n",
       "\n",
       "    .dataframe tbody tr th {\n",
       "        vertical-align: top;\n",
       "    }\n",
       "\n",
       "    .dataframe thead th {\n",
       "        text-align: right;\n",
       "    }\n",
       "</style>\n",
       "<table border=\"1\" class=\"dataframe\">\n",
       "  <thead>\n",
       "    <tr style=\"text-align: right;\">\n",
       "      <th></th>\n",
       "      <th>_</th>\n",
       "      <th>AppointmentNumber</th>\n",
       "      <th>DurationInMinutes</th>\n",
       "      <th>Latitude</th>\n",
       "      <th>Longitude</th>\n",
       "      <th>Grid_Number__c</th>\n",
       "      <th>EarliestStartTime</th>\n",
       "      <th>DueDate</th>\n",
       "      <th>SchedStartTime</th>\n",
       "      <th>SchedEndTime</th>\n",
       "    </tr>\n",
       "  </thead>\n",
       "  <tbody>\n",
       "    <tr>\n",
       "      <th>0</th>\n",
       "      <td>[ServiceAppointment]</td>\n",
       "      <td>SA-000093262</td>\n",
       "      <td>4</td>\n",
       "      <td>19.477956</td>\n",
       "      <td>-99.180741</td>\n",
       "      <td>37739.12911</td>\n",
       "      <td>2021-07-20T05:12:00.000+0000</td>\n",
       "      <td>2021-08-20T00:00:00.000+0000</td>\n",
       "      <td>2021-07-21T13:18:00.000+0000</td>\n",
       "      <td>2021-07-21T13:22:00.000+0000</td>\n",
       "    </tr>\n",
       "    <tr>\n",
       "      <th>1</th>\n",
       "      <td>[ServiceAppointment]</td>\n",
       "      <td>SA-000091887</td>\n",
       "      <td>4</td>\n",
       "      <td>19.477956</td>\n",
       "      <td>-99.180741</td>\n",
       "      <td>37739.12911</td>\n",
       "      <td>2021-07-20T05:12:00.000+0000</td>\n",
       "      <td>2021-08-20T00:00:00.000+0000</td>\n",
       "      <td>2021-07-21T13:22:00.000+0000</td>\n",
       "      <td>2021-07-21T13:26:00.000+0000</td>\n",
       "    </tr>\n",
       "    <tr>\n",
       "      <th>2</th>\n",
       "      <td>[ServiceAppointment]</td>\n",
       "      <td>SA-000093274</td>\n",
       "      <td>4</td>\n",
       "      <td>19.477937</td>\n",
       "      <td>-99.180605</td>\n",
       "      <td>37739.12911</td>\n",
       "      <td>2021-07-20T05:12:00.000+0000</td>\n",
       "      <td>2021-08-20T00:00:00.000+0000</td>\n",
       "      <td>2021-07-21T13:26:00.000+0000</td>\n",
       "      <td>2021-07-21T13:30:00.000+0000</td>\n",
       "    </tr>\n",
       "    <tr>\n",
       "      <th>3</th>\n",
       "      <td>[ServiceAppointment]</td>\n",
       "      <td>SA-000091881</td>\n",
       "      <td>4</td>\n",
       "      <td>19.477937</td>\n",
       "      <td>-99.180605</td>\n",
       "      <td>37739.12911</td>\n",
       "      <td>2021-07-20T05:12:00.000+0000</td>\n",
       "      <td>2021-08-20T00:00:00.000+0000</td>\n",
       "      <td>2021-07-21T13:30:00.000+0000</td>\n",
       "      <td>2021-07-21T13:34:00.000+0000</td>\n",
       "    </tr>\n",
       "    <tr>\n",
       "      <th>4</th>\n",
       "      <td>[ServiceAppointment]</td>\n",
       "      <td>SA-000100570</td>\n",
       "      <td>4</td>\n",
       "      <td>19.477937</td>\n",
       "      <td>-99.180605</td>\n",
       "      <td>37739.12911</td>\n",
       "      <td>2021-07-20T05:12:00.000+0000</td>\n",
       "      <td>2021-08-28T00:00:00.000+0000</td>\n",
       "      <td>2021-07-21T13:34:00.000+0000</td>\n",
       "      <td>2021-07-21T13:38:00.000+0000</td>\n",
       "    </tr>\n",
       "    <tr>\n",
       "      <th>...</th>\n",
       "      <td>...</td>\n",
       "      <td>...</td>\n",
       "      <td>...</td>\n",
       "      <td>...</td>\n",
       "      <td>...</td>\n",
       "      <td>...</td>\n",
       "      <td>...</td>\n",
       "      <td>...</td>\n",
       "      <td>...</td>\n",
       "      <td>...</td>\n",
       "    </tr>\n",
       "    <tr>\n",
       "      <th>1495</th>\n",
       "      <td>[ServiceAppointment]</td>\n",
       "      <td>SA-000100513</td>\n",
       "      <td>2</td>\n",
       "      <td>19.480504</td>\n",
       "      <td>-99.180529</td>\n",
       "      <td>37741.12911</td>\n",
       "      <td>2021-07-20T05:12:00.000+0000</td>\n",
       "      <td>2021-08-28T00:00:00.000+0000</td>\n",
       "      <td>2021-07-21T21:37:00.000+0000</td>\n",
       "      <td>2021-07-21T21:39:00.000+0000</td>\n",
       "    </tr>\n",
       "    <tr>\n",
       "      <th>1496</th>\n",
       "      <td>[ServiceAppointment]</td>\n",
       "      <td>SA-000091560</td>\n",
       "      <td>2</td>\n",
       "      <td>19.480362</td>\n",
       "      <td>-99.180432</td>\n",
       "      <td>37741.12911</td>\n",
       "      <td>2021-07-20T05:12:00.000+0000</td>\n",
       "      <td>2021-08-20T00:00:00.000+0000</td>\n",
       "      <td>2021-07-21T21:40:00.000+0000</td>\n",
       "      <td>2021-07-21T21:42:00.000+0000</td>\n",
       "    </tr>\n",
       "    <tr>\n",
       "      <th>1497</th>\n",
       "      <td>[ServiceAppointment]</td>\n",
       "      <td>SA-000091581</td>\n",
       "      <td>2</td>\n",
       "      <td>19.480650</td>\n",
       "      <td>-99.180485</td>\n",
       "      <td>37741.12911</td>\n",
       "      <td>2021-07-20T05:12:00.000+0000</td>\n",
       "      <td>2021-08-20T00:00:00.000+0000</td>\n",
       "      <td>2021-07-21T21:43:00.000+0000</td>\n",
       "      <td>2021-07-21T21:45:00.000+0000</td>\n",
       "    </tr>\n",
       "    <tr>\n",
       "      <th>1498</th>\n",
       "      <td>[ServiceAppointment]</td>\n",
       "      <td>SA-000091572</td>\n",
       "      <td>2</td>\n",
       "      <td>19.480748</td>\n",
       "      <td>-99.180456</td>\n",
       "      <td>37741.12911</td>\n",
       "      <td>2021-07-20T05:12:00.000+0000</td>\n",
       "      <td>2021-08-20T00:00:00.000+0000</td>\n",
       "      <td>2021-07-21T21:46:00.000+0000</td>\n",
       "      <td>2021-07-21T21:48:00.000+0000</td>\n",
       "    </tr>\n",
       "    <tr>\n",
       "      <th>1499</th>\n",
       "      <td>[ServiceAppointment]</td>\n",
       "      <td>SA-000091578</td>\n",
       "      <td>2</td>\n",
       "      <td>19.480797</td>\n",
       "      <td>-99.180442</td>\n",
       "      <td>37741.12911</td>\n",
       "      <td>2021-07-20T05:12:00.000+0000</td>\n",
       "      <td>2021-08-20T00:00:00.000+0000</td>\n",
       "      <td>2021-07-21T21:49:00.000+0000</td>\n",
       "      <td>2021-07-21T21:51:00.000+0000</td>\n",
       "    </tr>\n",
       "  </tbody>\n",
       "</table>\n",
       "<p>1500 rows × 10 columns</p>\n",
       "</div>"
      ],
      "text/plain": [
       "                         _ AppointmentNumber  DurationInMinutes   Latitude  \\\n",
       "0     [ServiceAppointment]      SA-000093262                  4  19.477956   \n",
       "1     [ServiceAppointment]      SA-000091887                  4  19.477956   \n",
       "2     [ServiceAppointment]      SA-000093274                  4  19.477937   \n",
       "3     [ServiceAppointment]      SA-000091881                  4  19.477937   \n",
       "4     [ServiceAppointment]      SA-000100570                  4  19.477937   \n",
       "...                    ...               ...                ...        ...   \n",
       "1495  [ServiceAppointment]      SA-000100513                  2  19.480504   \n",
       "1496  [ServiceAppointment]      SA-000091560                  2  19.480362   \n",
       "1497  [ServiceAppointment]      SA-000091581                  2  19.480650   \n",
       "1498  [ServiceAppointment]      SA-000091572                  2  19.480748   \n",
       "1499  [ServiceAppointment]      SA-000091578                  2  19.480797   \n",
       "\n",
       "      Longitude  Grid_Number__c             EarliestStartTime  \\\n",
       "0    -99.180741     37739.12911  2021-07-20T05:12:00.000+0000   \n",
       "1    -99.180741     37739.12911  2021-07-20T05:12:00.000+0000   \n",
       "2    -99.180605     37739.12911  2021-07-20T05:12:00.000+0000   \n",
       "3    -99.180605     37739.12911  2021-07-20T05:12:00.000+0000   \n",
       "4    -99.180605     37739.12911  2021-07-20T05:12:00.000+0000   \n",
       "...         ...             ...                           ...   \n",
       "1495 -99.180529     37741.12911  2021-07-20T05:12:00.000+0000   \n",
       "1496 -99.180432     37741.12911  2021-07-20T05:12:00.000+0000   \n",
       "1497 -99.180485     37741.12911  2021-07-20T05:12:00.000+0000   \n",
       "1498 -99.180456     37741.12911  2021-07-20T05:12:00.000+0000   \n",
       "1499 -99.180442     37741.12911  2021-07-20T05:12:00.000+0000   \n",
       "\n",
       "                           DueDate                SchedStartTime  \\\n",
       "0     2021-08-20T00:00:00.000+0000  2021-07-21T13:18:00.000+0000   \n",
       "1     2021-08-20T00:00:00.000+0000  2021-07-21T13:22:00.000+0000   \n",
       "2     2021-08-20T00:00:00.000+0000  2021-07-21T13:26:00.000+0000   \n",
       "3     2021-08-20T00:00:00.000+0000  2021-07-21T13:30:00.000+0000   \n",
       "4     2021-08-28T00:00:00.000+0000  2021-07-21T13:34:00.000+0000   \n",
       "...                            ...                           ...   \n",
       "1495  2021-08-28T00:00:00.000+0000  2021-07-21T21:37:00.000+0000   \n",
       "1496  2021-08-20T00:00:00.000+0000  2021-07-21T21:40:00.000+0000   \n",
       "1497  2021-08-20T00:00:00.000+0000  2021-07-21T21:43:00.000+0000   \n",
       "1498  2021-08-20T00:00:00.000+0000  2021-07-21T21:46:00.000+0000   \n",
       "1499  2021-08-20T00:00:00.000+0000  2021-07-21T21:49:00.000+0000   \n",
       "\n",
       "                      SchedEndTime  \n",
       "0     2021-07-21T13:22:00.000+0000  \n",
       "1     2021-07-21T13:26:00.000+0000  \n",
       "2     2021-07-21T13:30:00.000+0000  \n",
       "3     2021-07-21T13:34:00.000+0000  \n",
       "4     2021-07-21T13:38:00.000+0000  \n",
       "...                            ...  \n",
       "1495  2021-07-21T21:39:00.000+0000  \n",
       "1496  2021-07-21T21:42:00.000+0000  \n",
       "1497  2021-07-21T21:45:00.000+0000  \n",
       "1498  2021-07-21T21:48:00.000+0000  \n",
       "1499  2021-07-21T21:51:00.000+0000  \n",
       "\n",
       "[1500 rows x 10 columns]"
      ]
     },
     "execution_count": 5,
     "metadata": {},
     "output_type": "execute_result"
    }
   ],
   "source": [
    "df"
   ]
  },
  {
   "cell_type": "code",
   "execution_count": 6,
   "id": "ec57b738",
   "metadata": {},
   "outputs": [],
   "source": [
    "# radius of the Earth\n",
    "R = 6373.0\n",
    "\n",
    "def compute_distance(place_1, place_2):\n",
    "    \"\"\"\n",
    "    compute the distance between two lat-long coordinates\n",
    "\n",
    "    Input:\n",
    "\n",
    "    place_1 - tuple : (latitude, longitude) of place 1\n",
    "    place_2 - tuple : (latitude, longitude) of place 2\n",
    "\n",
    "    Returns:\n",
    "    distance - float number \n",
    "    \"\"\"    \n",
    "\n",
    "    distance_lat = place_2[0] - place_1[0]\n",
    "    distance_long = place_2[1] - place_1[1]\n",
    "\n",
    "    #Haverinse formula \n",
    "    x = math.sin(distance_lat / 2)**2 + math.cos(place_1[0]) * math.cos(place_2[0]) * math.sin(distance_long / 2)**2\n",
    "\n",
    "    y = 2 * math.atan2(math.sqrt(x), math.sqrt(1 - x))\n",
    "\n",
    "    return R * y"
   ]
  },
  {
   "cell_type": "code",
   "execution_count": 7,
   "id": "ce5061cf",
   "metadata": {},
   "outputs": [],
   "source": [
    "X = df[['Latitude', 'Longitude']]"
   ]
  },
  {
   "cell_type": "code",
   "execution_count": 8,
   "id": "62aa85ec",
   "metadata": {},
   "outputs": [
    {
     "data": {
      "text/html": [
       "<div>\n",
       "<style scoped>\n",
       "    .dataframe tbody tr th:only-of-type {\n",
       "        vertical-align: middle;\n",
       "    }\n",
       "\n",
       "    .dataframe tbody tr th {\n",
       "        vertical-align: top;\n",
       "    }\n",
       "\n",
       "    .dataframe thead th {\n",
       "        text-align: right;\n",
       "    }\n",
       "</style>\n",
       "<table border=\"1\" class=\"dataframe\">\n",
       "  <thead>\n",
       "    <tr style=\"text-align: right;\">\n",
       "      <th></th>\n",
       "      <th>Latitude</th>\n",
       "      <th>Longitude</th>\n",
       "    </tr>\n",
       "  </thead>\n",
       "  <tbody>\n",
       "    <tr>\n",
       "      <th>0</th>\n",
       "      <td>19.477956</td>\n",
       "      <td>-99.180741</td>\n",
       "    </tr>\n",
       "    <tr>\n",
       "      <th>1</th>\n",
       "      <td>19.477956</td>\n",
       "      <td>-99.180741</td>\n",
       "    </tr>\n",
       "    <tr>\n",
       "      <th>2</th>\n",
       "      <td>19.477937</td>\n",
       "      <td>-99.180605</td>\n",
       "    </tr>\n",
       "    <tr>\n",
       "      <th>3</th>\n",
       "      <td>19.477937</td>\n",
       "      <td>-99.180605</td>\n",
       "    </tr>\n",
       "    <tr>\n",
       "      <th>4</th>\n",
       "      <td>19.477937</td>\n",
       "      <td>-99.180605</td>\n",
       "    </tr>\n",
       "    <tr>\n",
       "      <th>...</th>\n",
       "      <td>...</td>\n",
       "      <td>...</td>\n",
       "    </tr>\n",
       "    <tr>\n",
       "      <th>1495</th>\n",
       "      <td>19.480504</td>\n",
       "      <td>-99.180529</td>\n",
       "    </tr>\n",
       "    <tr>\n",
       "      <th>1496</th>\n",
       "      <td>19.480362</td>\n",
       "      <td>-99.180432</td>\n",
       "    </tr>\n",
       "    <tr>\n",
       "      <th>1497</th>\n",
       "      <td>19.480650</td>\n",
       "      <td>-99.180485</td>\n",
       "    </tr>\n",
       "    <tr>\n",
       "      <th>1498</th>\n",
       "      <td>19.480748</td>\n",
       "      <td>-99.180456</td>\n",
       "    </tr>\n",
       "    <tr>\n",
       "      <th>1499</th>\n",
       "      <td>19.480797</td>\n",
       "      <td>-99.180442</td>\n",
       "    </tr>\n",
       "  </tbody>\n",
       "</table>\n",
       "<p>1500 rows × 2 columns</p>\n",
       "</div>"
      ],
      "text/plain": [
       "       Latitude  Longitude\n",
       "0     19.477956 -99.180741\n",
       "1     19.477956 -99.180741\n",
       "2     19.477937 -99.180605\n",
       "3     19.477937 -99.180605\n",
       "4     19.477937 -99.180605\n",
       "...         ...        ...\n",
       "1495  19.480504 -99.180529\n",
       "1496  19.480362 -99.180432\n",
       "1497  19.480650 -99.180485\n",
       "1498  19.480748 -99.180456\n",
       "1499  19.480797 -99.180442\n",
       "\n",
       "[1500 rows x 2 columns]"
      ]
     },
     "execution_count": 8,
     "metadata": {},
     "output_type": "execute_result"
    }
   ],
   "source": [
    "X"
   ]
  },
  {
   "cell_type": "code",
   "execution_count": 9,
   "id": "e10a7046",
   "metadata": {},
   "outputs": [],
   "source": [
    "dataset = np.array(X)"
   ]
  },
  {
   "cell_type": "code",
   "execution_count": 10,
   "id": "9dce144b",
   "metadata": {},
   "outputs": [
    {
     "data": {
      "text/plain": [
       "0.7115397206480317"
      ]
     },
     "execution_count": 10,
     "metadata": {},
     "output_type": "execute_result"
    }
   ],
   "source": [
    "place_1 = (df['Latitude'][0], df['Longitude'][0])\n",
    "place_2 = (df['Latitude'][2], df['Longitude'][2])\n",
    "compute_distance(place_1, place_2)"
   ]
  },
  {
   "cell_type": "code",
   "execution_count": 11,
   "id": "9c1e7078",
   "metadata": {},
   "outputs": [],
   "source": [
    "def plot(): \n",
    "    plt.scatter(df['Latitude'], df['Longitude'])"
   ]
  },
  {
   "cell_type": "code",
   "execution_count": 12,
   "id": "26d6c491",
   "metadata": {},
   "outputs": [
    {
     "data": {
      "image/png": "[encoded data removed]",
      "text/plain": [
       "<Figure size 432x288 with 1 Axes>"
      ]
     },
     "metadata": {
      "needs_background": "light"
     },
     "output_type": "display_data"
    }
   ],
   "source": [
    "plot()"
   ]
  },
  {
   "cell_type": "code",
   "execution_count": 13,
   "id": "1e59ed7d",
   "metadata": {},
   "outputs": [],
   "source": [
    "Ks = [10, 15, 18, 19, 20, 21, 22, 25, 30]"
   ]
  },
  {
   "cell_type": "code",
   "execution_count": 16,
   "id": "38e5700c",
   "metadata": {},
   "outputs": [],
   "source": [
    "kmeans = KMeans(n_clusters=Ks[5], random_state=0)\n",
    "y_pred = kmeans.fit_predict(dataset)"
   ]
  },
  {
   "cell_type": "code",
   "execution_count": 17,
   "id": "6b381e3a",
   "metadata": {},
   "outputs": [
    {
     "data": {
      "text/plain": [
       "array([ 2,  2,  2, ..., 13, 13, 13], dtype=int32)"
      ]
     },
     "execution_count": 17,
     "metadata": {},
     "output_type": "execute_result"
    }
   ],
   "source": [
    "y_pred"
   ]
  },
  {
   "cell_type": "code",
   "execution_count": 19,
   "id": "3fd5238b",
   "metadata": {},
   "outputs": [
    {
     "data": {
      "text/plain": [
       "array([[ 19.4785972 , -99.17667433],\n",
       "       [ 19.48013258, -99.18253596],\n",
       "       [ 19.47802676, -99.17991843],\n",
       "       [ 19.47811863, -99.18312379],\n",
       "       [ 19.4769335 , -99.1770622 ],\n",
       "       [ 19.48137995, -99.18716968],\n",
       "       [ 19.47621733, -99.17880788],\n",
       "       [ 19.47903655, -99.18594233],\n",
       "       [ 19.47949425, -99.17984787],\n",
       "       [ 19.48162156, -99.18248129],\n",
       "       [ 19.47676572, -99.17584279],\n",
       "       [ 19.47906685, -99.18419831],\n",
       "       [ 19.47994842, -99.17650454],\n",
       "       [ 19.48053081, -99.18086957],\n",
       "       [ 19.47889731, -99.18294418],\n",
       "       [ 19.47889921, -99.17830936],\n",
       "       [ 19.47914678, -99.18147596],\n",
       "       [ 19.4766096 , -99.17966475],\n",
       "       [ 19.47712881, -99.17800191],\n",
       "       [ 19.48062283, -99.18382843],\n",
       "       [ 19.4789311 , -99.1746474 ]])"
      ]
     },
     "execution_count": 19,
     "metadata": {},
     "output_type": "execute_result"
    }
   ],
   "source": [
    "centers = kmeans.cluster_centers_\n",
    "centers"
   ]
  },
  {
   "cell_type": "code",
   "execution_count": 63,
   "id": "c068cbe5",
   "metadata": {},
   "outputs": [],
   "source": [
    "d_array = [(0,0)]\n",
    "c_0 = centers[0]\n",
    "# order the clusters according to distance from cluster 0 \n",
    "# In general it might be the closet cluster to the start, \n",
    "# but it not sure since the optimizer may handle both cases with the same results.\n",
    "for idx, c in enumerate(centers[1:]):\n",
    "    d_array += [(compute_distance(c_0, c), idx + 1)]\n",
    "cluster_distance = sorted(d_array, key=lambda x: x[0]) \n",
    "\n",
    "dict_cluster_to_idx = {c[1] : idx for idx, c in enumerate(cluster_distance)}\n",
    "\n",
    "idx_res_column = []\n",
    "# for each row add the relevent number according to the order of the clusters\n",
    "for pred in y_pred:\n",
    "    idx_res_column += [dict_cluster_to_idx[pred]]    "
   ]
  },
  {
   "cell_type": "code",
   "execution_count": 65,
   "id": "0b91e379",
   "metadata": {},
   "outputs": [],
   "source": [
    "# add the column to the dataFrame\n",
    "df['Index'] = idx_res_column"
   ]
  },
  {
   "cell_type": "code",
   "execution_count": 70,
   "id": "2671f9ca",
   "metadata": {},
   "outputs": [],
   "source": [
    "# craete result new excel\n",
    "df.to_excel('res_try1.xlsx', sheet_name='results')"
   ]
  },
  {
   "cell_type": "code",
   "execution_count": null,
   "id": "11c8c7e8",
   "metadata": {},
   "outputs": [],
   "source": []
  }
 ],
 "metadata": {
  "kernelspec": {
   "display_name": "Python 3",
   "language": "python",
   "name": "python3"
  },
  "language_info": {
   "codemirror_mode": {
    "name": "ipython",
    "version": 3
   },
   "file_extension": ".py",
   "mimetype": "text/x-python",
   "name": "python",
   "nbconvert_exporter": "python",
   "pygments_lexer": "ipython3",
   "version": "3.8.8"
  }
 },
 "nbformat": 4,
 "nbformat_minor": 5
}
